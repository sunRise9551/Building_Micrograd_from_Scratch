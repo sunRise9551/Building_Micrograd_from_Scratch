{
  "nbformat": 4,
  "nbformat_minor": 0,
  "metadata": {
    "colab": {
      "provenance": [],
      "toc_visible": true,
      "authorship_tag": "ABX9TyNf930KIemFfl6oDWFFMQ2f",
      "include_colab_link": true
    },
    "kernelspec": {
      "name": "python3",
      "display_name": "Python 3"
    },
    "language_info": {
      "name": "python"
    }
  },
  "cells": [
    {
      "cell_type": "markdown",
      "metadata": {
        "id": "view-in-github",
        "colab_type": "text"
      },
      "source": [
        "<a href=\"https://colab.research.google.com/github/sunRise9551/Building_Micrograd_from_Scratch/blob/main/Building_Micrograd_from_Scratch.ipynb\" target=\"_parent\"><img src=\"https://colab.research.google.com/assets/colab-badge.svg\" alt=\"Open In Colab\"/></a>"
      ]
    },
    {
      "cell_type": "markdown",
      "source": [],
      "metadata": {
        "id": "PtZkaoh-tnli"
      }
    },
    {
      "cell_type": "code",
      "execution_count": 1,
      "metadata": {
        "id": "hJGkhG86te4p"
      },
      "outputs": [],
      "source": [
        "import math\n",
        "import numpy as np\n",
        "import matplotlib.pyplot as plt\n",
        "%matplotlib inline"
      ]
    },
    {
      "cell_type": "markdown",
      "source": [
        "Understand Concept of Derivative"
      ],
      "metadata": {
        "id": "6V7dvw6_um0n"
      }
    },
    {
      "cell_type": "markdown",
      "source": [
        "Let's say we have a function f(x)"
      ],
      "metadata": {
        "id": "t9ZLu4BXt_LP"
      }
    },
    {
      "cell_type": "code",
      "source": [
        "def f(x):\n",
        "  return 3*x**2 - 4*x + 5"
      ],
      "metadata": {
        "id": "S8ScBIN2t0_U"
      },
      "execution_count": 2,
      "outputs": []
    },
    {
      "cell_type": "code",
      "source": [
        "f(3.0)"
      ],
      "metadata": {
        "colab": {
          "base_uri": "https://localhost:8080/"
        },
        "id": "7sGhHskKt8bh",
        "outputId": "f2aa3610-60cd-4061-dd79-93d50f897a7b"
      },
      "execution_count": 3,
      "outputs": [
        {
          "output_type": "execute_result",
          "data": {
            "text/plain": [
              "20.0"
            ]
          },
          "metadata": {},
          "execution_count": 3
        }
      ]
    },
    {
      "cell_type": "code",
      "source": [
        "xs = np.arange(-5, 5, 0.25)\n",
        "ys = f(xs)\n",
        "plt.plot(xs, ys)"
      ],
      "metadata": {
        "colab": {
          "base_uri": "https://localhost:8080/",
          "height": 447
        },
        "id": "ky2mSOubt9aV",
        "outputId": "adb97faa-5859-4f25-8caf-7e05d9075f87"
      },
      "execution_count": 5,
      "outputs": [
        {
          "output_type": "execute_result",
          "data": {
            "text/plain": [
              "[<matplotlib.lines.Line2D at 0x7be2f9b7ec80>]"
            ]
          },
          "metadata": {},
          "execution_count": 5
        },
        {
          "output_type": "display_data",
          "data": {
            "text/plain": [
              "<Figure size 640x480 with 1 Axes>"
            ],
            "image/png": "[encoded data removed]"
          },
          "metadata": {}
        }
      ]
    },
    {
      "cell_type": "markdown",
      "source": [
        "Let's say we want to calculate the derivative of:\n",
        "x with respect to f()"
      ],
      "metadata": {
        "id": "oReZ5AcXvOZv"
      }
    },
    {
      "cell_type": "code",
      "source": [
        "h = 0.000001 # represents a small increment for calculating the derivative\n",
        "x = 2/3 # the point of the above graph when x=2/3\n",
        "(f(x + h) - f(x)) / h # the slope of that point, which approximates the derivative"
      ],
      "metadata": {
        "colab": {
          "base_uri": "https://localhost:8080/"
        },
        "id": "ERr2fM_9uMGW",
        "outputId": "23e5f149-78c3-413f-a9dd-67af37de0cae"
      },
      "execution_count": 6,
      "outputs": [
        {
          "output_type": "execute_result",
          "data": {
            "text/plain": [
              "2.999378523327323e-06"
            ]
          },
          "metadata": {},
          "execution_count": 6
        }
      ]
    },
    {
      "cell_type": "markdown",
      "source": [
        "More complex function"
      ],
      "metadata": {
        "id": "Sk3LjtvIvTgO"
      }
    },
    {
      "cell_type": "code",
      "source": [
        "a = 2.0\n",
        "b = -3.0\n",
        "c = 10.0\n",
        "d = a*b + c\n",
        "print(d)"
      ],
      "metadata": {
        "colab": {
          "base_uri": "https://localhost:8080/"
        },
        "id": "CwoYxc2Qu2cR",
        "outputId": "5c358ca6-e9f4-4178-83b4-c7cf6eaa80af"
      },
      "execution_count": 7,
      "outputs": [
        {
          "output_type": "stream",
          "name": "stdout",
          "text": [
            "4.0\n"
          ]
        }
      ]
    },
    {
      "cell_type": "markdown",
      "source": [
        "We now have a function f(a*b + c)\n",
        "\n",
        "We want to calculate the derivative of:\n",
        "\n",
        "'a' with respect to 'f'\n",
        "\n",
        "'b' with respect to 'f'\n",
        "\n",
        "'c' with respect to 'f'\n",
        "\n",
        "So, We will bump tiny amount of h to 'a' 'b' 'c' each time and calculate their derivative"
      ],
      "metadata": {
        "id": "N2df2SVyxQyw"
      }
    },
    {
      "cell_type": "markdown",
      "source": [
        "Derivative for 'a'"
      ],
      "metadata": {
        "id": "RJnTJJ-Qx669"
      }
    },
    {
      "cell_type": "code",
      "source": [
        "h = 0.0001\n",
        "\n",
        "# inputs\n",
        "a = 2.0\n",
        "b = -3.0\n",
        "c = 10.0\n",
        "\n",
        "d1 = a*b + c # computes the result before 'a' being increment\n",
        "a += h # increment 'a' by h amount\n",
        "d2 = a*b + c # computes the result after 'a' being increment\n",
        "\n",
        "print('d1', d1)\n",
        "print('d2', d2)\n",
        "print('slope', (d2 - d1)/h) # this is the derivative for 'a'"
      ],
      "metadata": {
        "colab": {
          "base_uri": "https://localhost:8080/"
        },
        "id": "uMBR0edKu92y",
        "outputId": "a1697d50-8078-45c2-a8ca-0e416bf3e17d"
      },
      "execution_count": 8,
      "outputs": [
        {
          "output_type": "stream",
          "name": "stdout",
          "text": [
            "d1 4.0\n",
            "d2 3.999699999999999\n",
            "slope -3.000000000010772\n"
          ]
        }
      ]
    },
    {
      "cell_type": "markdown",
      "source": [
        "Derivative for 'b'"
      ],
      "metadata": {
        "id": "D_cbQVBkymRd"
      }
    },
    {
      "cell_type": "code",
      "source": [
        "h = 0.0001\n",
        "\n",
        "# inputs\n",
        "a = 2.0\n",
        "b = -3.0\n",
        "c = 10.0\n",
        "\n",
        "d1 = a*b + c # computes the result before 'b' being increment\n",
        "b += h # increment 'c' by h amount\n",
        "d2 = a*b + c # computes the result after 'b' being increment\n",
        "\n",
        "print('d1', d1)\n",
        "print('d2', d2)\n",
        "print('slope', (d2 - d1)/h) # this is the derivative for 'b'"
      ],
      "metadata": {
        "colab": {
          "base_uri": "https://localhost:8080/"
        },
        "id": "MvbBBfeIyfmx",
        "outputId": "228a0f09-4d5e-4deb-f67d-a14870c13a21"
      },
      "execution_count": 9,
      "outputs": [
        {
          "output_type": "stream",
          "name": "stdout",
          "text": [
            "d1 4.0\n",
            "d2 4.0002\n",
            "slope 2.0000000000042206\n"
          ]
        }
      ]
    },
    {
      "cell_type": "markdown",
      "source": [
        "Derivative for 'c'"
      ],
      "metadata": {
        "id": "WMdLQPUNysne"
      }
    },
    {
      "cell_type": "code",
      "source": [
        "h = 0.0001\n",
        "\n",
        "# inputs\n",
        "a = 2.0\n",
        "b = -3.0\n",
        "c = 10.0\n",
        "\n",
        "d1 = a*b + c # computes the result before 'c' being increment\n",
        "c += h # increment 'c' by h amount\n",
        "d2 = a*b + c # computes the result after 'c' being increment\n",
        "\n",
        "print('d1', d1)\n",
        "print('d2', d2)\n",
        "print('slope', (d2 - d1)/h) # this is the derivative for 'c'"
      ],
      "metadata": {
        "colab": {
          "base_uri": "https://localhost:8080/"
        },
        "id": "tKuwpsu_yqtz",
        "outputId": "5ae855ea-c528-41a6-8651-4ab33d6d6bdc"
      },
      "execution_count": 10,
      "outputs": [
        {
          "output_type": "stream",
          "name": "stdout",
          "text": [
            "d1 4.0\n",
            "d2 4.0001\n",
            "slope 0.9999999999976694\n"
          ]
        }
      ]
    },
    {
      "cell_type": "markdown",
      "source": [
        "We have now understand how derivative works, we can then start working on creating Value object for micrograd"
      ],
      "metadata": {
        "id": "-uQ0JTZWzBNV"
      }
    },
    {
      "cell_type": "markdown",
      "source": [
        "Create a Value Object that can perform + and * operation"
      ],
      "metadata": {
        "id": "6EuRydaQzocO"
      }
    },
    {
      "cell_type": "code",
      "source": [
        "class Value:\n",
        "\n",
        "  def __init__(self, data):\n",
        "    self.data = data # store data\n",
        "\n",
        "  def __repr__(self): # function just to make python print nicer integer\n",
        "    return f\"Value(data={self.data})\"\n",
        "\n",
        "  def __add__(self, other):\n",
        "    out = Value(self.data + other.data) # Take in self.data + other.data\n",
        "    return out\n",
        "\n",
        "  def __mul__(self, other):\n",
        "    out = Value(self.data * other.data) # Take in self.data * other.data\n",
        "    return out"
      ],
      "metadata": {
        "id": "DgXDXk_1yzKo"
      },
      "execution_count": 16,
      "outputs": []
    },
    {
      "cell_type": "code",
      "source": [
        "a = Value(2.0)\n",
        "b = Value(-3.0)\n",
        "c = Value(10.0)\n",
        "\n",
        "print(a*b)\n",
        "print(a.__mul__(b)) # equivalent to this\n",
        "\n",
        "print(a*b + c)\n",
        "print((a.__mul__(b)).__add__(c)) # equivalent to this\n"
      ],
      "metadata": {
        "colab": {
          "base_uri": "https://localhost:8080/"
        },
        "id": "QUJAPGW4zmns",
        "outputId": "94cfc0a0-2b35-4acf-b5d4-f14d395d3f7d"
      },
      "execution_count": 20,
      "outputs": [
        {
          "output_type": "stream",
          "name": "stdout",
          "text": [
            "Value(data=-6.0)\n",
            "Value(data=-6.0)\n",
            "Value(data=4.0)\n",
            "Value(data=4.0)\n"
          ]
        }
      ]
    },
    {
      "cell_type": "markdown",
      "source": [
        "Create a variable to store its childs"
      ],
      "metadata": {
        "id": "6w_OM7U00xhH"
      }
    },
    {
      "cell_type": "markdown",
      "source": [
        "This is the concept:\n",
        "1. We will create a new variable 'a _children=()' tuple to store its parents\n",
        "2. When we are creating a Value, it will not store anything to the tuple\n",
        "3. When we are doing Addition or Multiplication, we will assign its parent to the tuple\n"
      ],
      "metadata": {
        "id": "IUFGJ4AL1KGF"
      }
    },
    {
      "cell_type": "code",
      "source": [
        "class Value:\n",
        "\n",
        "  def __init__(self, data, _children=()):\n",
        "    self.data = data # store data\n",
        "    self._prev = set(_children)\n",
        "\n",
        "  def __repr__(self): # function just to make python print nicer integer\n",
        "    return f\"Value(data={self.data})\"\n",
        "\n",
        "  def __add__(self, other):\n",
        "    out = Value(self.data + other.data,\n",
        "                (self, other) # Pass itself and other to the tuple\n",
        "                )\n",
        "    return out\n",
        "\n",
        "  def __mul__(self, other):\n",
        "    out = Value(self.data * other.data,\n",
        "                (self, other) # Pass itself and other to the tuple\n",
        "                )\n",
        "    return out"
      ],
      "metadata": {
        "id": "BlKYdZTh0KtT"
      },
      "execution_count": 21,
      "outputs": []
    },
    {
      "cell_type": "code",
      "source": [
        "a = Value(2.0)\n",
        "b = Value(-3.0)\n",
        "c = Value(10.0)\n",
        "\n",
        "d = a*b + c\n",
        "\n",
        "print(d._prev)\n",
        "\n",
        "# We can now see that the childrens for 'd' are (a*b) and (c)\n",
        "# (a*b) and (c)\n",
        "# (2.0*-3.0) and (10.0)\n",
        "# (-6.0) and (10.0)"
      ],
      "metadata": {
        "colab": {
          "base_uri": "https://localhost:8080/"
        },
        "id": "oa05sZ-d2TZt",
        "outputId": "123b3493-721e-4ee9-d347-6e3a2067b3cd"
      },
      "execution_count": 24,
      "outputs": [
        {
          "output_type": "stream",
          "name": "stdout",
          "text": [
            "{Value(data=-6.0), Value(data=10.0)}\n"
          ]
        }
      ]
    },
    {
      "cell_type": "markdown",
      "source": [
        "Create a variable _op=' ' to store its operations"
      ],
      "metadata": {
        "id": "IPlySsbR3xdc"
      }
    },
    {
      "cell_type": "code",
      "source": [
        "class Value:\n",
        "\n",
        "  def __init__(self, data, _children=(), _op=''):\n",
        "    self.data = data # store data\n",
        "    self._prev = set(_children)\n",
        "    self._op = _op\n",
        "\n",
        "  def __repr__(self): # function just to make python print nicer integer\n",
        "    return f\"Value(data={self.data})\"\n",
        "\n",
        "  def __add__(self, other):\n",
        "    out = Value(self.data + other.data,\n",
        "                (self, other),\n",
        "                _op='+'\n",
        "                )\n",
        "    return out\n",
        "\n",
        "  def __mul__(self, other):\n",
        "    out = Value(self.data * other.data,\n",
        "                (self, other),\n",
        "                _op='*'\n",
        "                )\n",
        "    return out"
      ],
      "metadata": {
        "id": "PcpMPP-M2UYf"
      },
      "execution_count": 32,
      "outputs": []
    },
    {
      "cell_type": "code",
      "source": [
        "a = Value(2.0)\n",
        "b = Value(-3.0)\n",
        "c = Value(10.0)\n",
        "\n",
        "d = a*b + c\n",
        "\n",
        "print(d._op)\n",
        "# We can now know that the 'd' variable is compute by sum '+'"
      ],
      "metadata": {
        "colab": {
          "base_uri": "https://localhost:8080/"
        },
        "id": "ZqB5LHVo4PBN",
        "outputId": "5332e9bf-df2f-44d0-b632-69a864762fb9"
      },
      "execution_count": 34,
      "outputs": [
        {
          "output_type": "stream",
          "name": "stdout",
          "text": [
            "+\n"
          ]
        }
      ]
    },
    {
      "cell_type": "markdown",
      "source": [
        "Visualize What we have done so far"
      ],
      "metadata": {
        "id": "QAyl5rCF5otE"
      }
    },
    {
      "cell_type": "code",
      "source": [
        "from graphviz import Digraph\n",
        "\n",
        "def trace(root):\n",
        "  # builds a set of all nodes and edges in a graph\n",
        "  nodes, edges = set(), set()\n",
        "  def build(v):\n",
        "    if v not in nodes:\n",
        "      nodes.add(v)\n",
        "      for child in v._prev:\n",
        "        edges.add((child, v))\n",
        "        build(child)\n",
        "  build(root)\n",
        "  return nodes, edges\n",
        "\n",
        "def draw_dot(root):\n",
        "  dot = Digraph(format='svg', graph_attr={'rankdir': 'LR'}) # LR = left to right\n",
        "\n",
        "  nodes, edges = trace(root)\n",
        "  for n in nodes:\n",
        "    uid = str(id(n))\n",
        "    # for any value in the graph, create a rectangular ('record') node for it\n",
        "\n",
        "    # -------------------------- No Label and Grad for Now --------------------------------------\n",
        "    # dot.node(name = uid, label = \"{ %s | data %.4f | grad %.4f }\" % (n.label, n.data, n.grad), shape='record')\n",
        "    dot.node(name = uid, label = \"{ data %.4f }\" % (n.data), shape='record')\n",
        "\n",
        "    if n._op:\n",
        "      # if this value is a result of some operation, create an op node for it\n",
        "      dot.node(name = uid + n._op, label=n._op)\n",
        "      # and connect this node to it\n",
        "      dot.edge(uid + n._op, uid)\n",
        "\n",
        "  for n1, n2 in edges:\n",
        "    # connect n1 to the op node of n2\n",
        "    dot.edge(str(id(n1)), str(id(n2)) + n2._op)\n",
        "\n",
        "  return dot"
      ],
      "metadata": {
        "id": "up3dUk6e4QQ0"
      },
      "execution_count": 41,
      "outputs": []
    },
    {
      "cell_type": "code",
      "source": [
        "draw_dot(d)"
      ],
      "metadata": {
        "colab": {
          "base_uri": "https://localhost:8080/",
          "height": 192
        },
        "id": "suqlfImQ5rju",
        "outputId": "c4833aeb-65fd-4b2b-f4c4-67d02c9aa7c4"
      },
      "execution_count": 42,
      "outputs": [
        {
          "output_type": "execute_result",
          "data": {
            "image/svg+xml": "<?xml version=\"1.0\" encoding=\"UTF-8\" standalone=\"no\"?>\n<!DOCTYPE svg PUBLIC \"-//W3C//DTD SVG 1.1//EN\"\n \"http://www.w3.org/Graphics/SVG/1.1/DTD/svg11.dtd\">\n<!-- Generated by graphviz version 2.43.0 (0)\n -->\n<!-- Title: %3 Pages: 1 -->\n<svg width=\"512pt\" height=\"128pt\"\n viewBox=\"0.00 0.00 512.00 128.00\" xmlns=\"http://www.w3.org/2000/svg\" xmlns:xlink=\"http://www.w3.org/1999/xlink\">\n<g id=\"graph0\" class=\"graph\" transform=\"scale(1 1) rotate(0) translate(4 124)\">\n<title>%3</title>\n<polygon fill=\"white\" stroke=\"transparent\" points=\"-4,4 -4,-124 508,-124 508,4 -4,4\"/>\n<!-- 136214382785104 -->\n<g id=\"node1\" class=\"node\">\n<title>136214382785104</title>\n<polygon fill=\"none\" stroke=\"black\" points=\"0,-83.5 0,-119.5 85,-119.5 85,-83.5 0,-83.5\"/>\n<text text-anchor=\"middle\" x=\"42.5\" y=\"-97.8\" font-family=\"Times,serif\" font-size=\"14.00\">data &#45;3.0000</text>\n</g>\n<!-- 136214382784720* -->\n<g id=\"node6\" class=\"node\">\n<title>136214382784720*</title>\n<ellipse fill=\"none\" stroke=\"black\" cx=\"148\" cy=\"-73.5\" rx=\"27\" ry=\"18\"/>\n<text text-anchor=\"middle\" x=\"148\" y=\"-69.8\" font-family=\"Times,serif\" font-size=\"14.00\">*</text>\n</g>\n<!-- 136214382785104&#45;&gt;136214382784720* -->\n<g id=\"edge3\" class=\"edge\">\n<title>136214382785104&#45;&gt;136214382784720*</title>\n<path fill=\"none\" stroke=\"black\" d=\"M85,-90.27C94.32,-87.75 104.1,-85.11 113.06,-82.68\"/>\n<polygon fill=\"black\" stroke=\"black\" points=\"114.03,-86.04 122.77,-80.05 112.2,-79.29 114.03,-86.04\"/>\n</g>\n<!-- 136214382779536 -->\n<g id=\"node2\" class=\"node\">\n<title>136214382779536</title>\n<polygon fill=\"none\" stroke=\"black\" points=\"2.5,-28.5 2.5,-64.5 82.5,-64.5 82.5,-28.5 2.5,-28.5\"/>\n<text text-anchor=\"middle\" x=\"42.5\" y=\"-42.8\" font-family=\"Times,serif\" font-size=\"14.00\">data 2.0000</text>\n</g>\n<!-- 136214382779536&#45;&gt;136214382784720* -->\n<g id=\"edge4\" class=\"edge\">\n<title>136214382779536&#45;&gt;136214382784720*</title>\n<path fill=\"none\" stroke=\"black\" d=\"M82.63,-56.71C92.47,-59.27 102.95,-62.01 112.54,-64.51\"/>\n<polygon fill=\"black\" stroke=\"black\" points=\"111.96,-67.98 122.52,-67.11 113.73,-61.2 111.96,-67.98\"/>\n</g>\n<!-- 136214382775984 -->\n<g id=\"node3\" class=\"node\">\n<title>136214382775984</title>\n<polygon fill=\"none\" stroke=\"black\" points=\"424,-27.5 424,-63.5 504,-63.5 504,-27.5 424,-27.5\"/>\n<text text-anchor=\"middle\" x=\"464\" y=\"-41.8\" font-family=\"Times,serif\" font-size=\"14.00\">data 4.0000</text>\n</g>\n<!-- 136214382775984+ -->\n<g id=\"node4\" class=\"node\">\n<title>136214382775984+</title>\n<ellipse fill=\"none\" stroke=\"black\" cx=\"361\" cy=\"-45.5\" rx=\"27\" ry=\"18\"/>\n<text text-anchor=\"middle\" x=\"361\" y=\"-41.8\" font-family=\"Times,serif\" font-size=\"14.00\">+</text>\n</g>\n<!-- 136214382775984+&#45;&gt;136214382775984 -->\n<g id=\"edge1\" class=\"edge\">\n<title>136214382775984+&#45;&gt;136214382775984</title>\n<path fill=\"none\" stroke=\"black\" d=\"M388.01,-45.5C395.82,-45.5 404.67,-45.5 413.48,-45.5\"/>\n<polygon fill=\"black\" stroke=\"black\" points=\"413.73,-49 423.73,-45.5 413.73,-42 413.73,-49\"/>\n</g>\n<!-- 136214382784720 -->\n<g id=\"node5\" class=\"node\">\n<title>136214382784720</title>\n<polygon fill=\"none\" stroke=\"black\" points=\"212,-55.5 212,-91.5 297,-91.5 297,-55.5 212,-55.5\"/>\n<text text-anchor=\"middle\" x=\"254.5\" y=\"-69.8\" font-family=\"Times,serif\" font-size=\"14.00\">data &#45;6.0000</text>\n</g>\n<!-- 136214382784720&#45;&gt;136214382775984+ -->\n<g id=\"edge6\" class=\"edge\">\n<title>136214382784720&#45;&gt;136214382775984+</title>\n<path fill=\"none\" stroke=\"black\" d=\"M297.1,-62.35C306.61,-59.8 316.62,-57.12 325.78,-54.67\"/>\n<polygon fill=\"black\" stroke=\"black\" points=\"326.94,-57.98 335.69,-52.01 325.12,-51.22 326.94,-57.98\"/>\n</g>\n<!-- 136214382784720*&#45;&gt;136214382784720 -->\n<g id=\"edge2\" class=\"edge\">\n<title>136214382784720*&#45;&gt;136214382784720</title>\n<path fill=\"none\" stroke=\"black\" d=\"M175.1,-73.5C183.27,-73.5 192.59,-73.5 201.88,-73.5\"/>\n<polygon fill=\"black\" stroke=\"black\" points=\"201.89,-77 211.89,-73.5 201.89,-70 201.89,-77\"/>\n</g>\n<!-- 136214382781888 -->\n<g id=\"node7\" class=\"node\">\n<title>136214382781888</title>\n<polygon fill=\"none\" stroke=\"black\" points=\"211,-0.5 211,-36.5 298,-36.5 298,-0.5 211,-0.5\"/>\n<text text-anchor=\"middle\" x=\"254.5\" y=\"-14.8\" font-family=\"Times,serif\" font-size=\"14.00\">data 10.0000</text>\n</g>\n<!-- 136214382781888&#45;&gt;136214382775984+ -->\n<g id=\"edge5\" class=\"edge\">\n<title>136214382781888&#45;&gt;136214382775984+</title>\n<path fill=\"none\" stroke=\"black\" d=\"M298,-29.48C307.18,-31.85 316.78,-34.33 325.6,-36.61\"/>\n<polygon fill=\"black\" stroke=\"black\" points=\"324.97,-40.07 335.53,-39.18 326.73,-33.29 324.97,-40.07\"/>\n</g>\n</g>\n</svg>\n",
            "text/plain": [
              "<graphviz.graphs.Digraph at 0x7be2e1e60340>"
            ]
          },
          "metadata": {},
          "execution_count": 42
        }
      ]
    },
    {
      "cell_type": "markdown",
      "source": [
        "Create Label for our Graph"
      ],
      "metadata": {
        "id": "MfDv52EJ68Yc"
      }
    },
    {
      "cell_type": "code",
      "source": [
        "class Value:\n",
        "\n",
        "  def __init__(self, data, _children=(), _op='', label=''):\n",
        "    self.data = data # store data\n",
        "    self._prev = set(_children)\n",
        "    self._op = _op\n",
        "    self.label = label\n",
        "\n",
        "  def __repr__(self): # function just to make python print nicer integer\n",
        "    return f\"Value(data={self.data})\"\n",
        "\n",
        "  def __add__(self, other):\n",
        "    out = Value(self.data + other.data,\n",
        "                (self, other),\n",
        "                _op='+'\n",
        "                )\n",
        "    return out\n",
        "\n",
        "  def __mul__(self, other):\n",
        "    out = Value(self.data * other.data,\n",
        "                (self, other),\n",
        "                _op='*'\n",
        "                )\n",
        "    return out"
      ],
      "metadata": {
        "id": "8xkwpUeB5vKo"
      },
      "execution_count": 43,
      "outputs": []
    },
    {
      "cell_type": "code",
      "source": [
        "a = Value(2.0, label='a')\n",
        "b = Value(-3.0, label='b')\n",
        "c = Value(10.0, label='c')\n",
        "\n",
        "e = a*b; e.label = 'e'\n",
        "d = e + c; d.label = 'd'"
      ],
      "metadata": {
        "id": "wBHhdnva7kq7"
      },
      "execution_count": 44,
      "outputs": []
    },
    {
      "cell_type": "markdown",
      "source": [
        "Visualize Label"
      ],
      "metadata": {
        "id": "NaVrLXEm8Izc"
      }
    },
    {
      "cell_type": "code",
      "source": [
        "from graphviz import Digraph\n",
        "\n",
        "def trace(root):\n",
        "  # builds a set of all nodes and edges in a graph\n",
        "  nodes, edges = set(), set()\n",
        "  def build(v):\n",
        "    if v not in nodes:\n",
        "      nodes.add(v)\n",
        "      for child in v._prev:\n",
        "        edges.add((child, v))\n",
        "        build(child)\n",
        "  build(root)\n",
        "  return nodes, edges\n",
        "\n",
        "def draw_dot(root):\n",
        "  dot = Digraph(format='svg', graph_attr={'rankdir': 'LR'}) # LR = left to right\n",
        "\n",
        "  nodes, edges = trace(root)\n",
        "  for n in nodes:\n",
        "    uid = str(id(n))\n",
        "    # for any value in the graph, create a rectangular ('record') node for it\n",
        "\n",
        "    # -------------------------- No Grad for Now --------------------------------------\n",
        "    # dot.node(name = uid, label = \"{ %s | data %.4f | grad %.4f }\" % (n.label, n.data, n.grad), shape='record')\n",
        "    dot.node(name = uid, label = \"{ %s | data %.4f }\" % (n.label, n.data), shape='record')\n",
        "\n",
        "    if n._op:\n",
        "      # if this value is a result of some operation, create an op node for it\n",
        "      dot.node(name = uid + n._op, label=n._op)\n",
        "      # and connect this node to it\n",
        "      dot.edge(uid + n._op, uid)\n",
        "\n",
        "  for n1, n2 in edges:\n",
        "    # connect n1 to the op node of n2\n",
        "    dot.edge(str(id(n1)), str(id(n2)) + n2._op)\n",
        "\n",
        "  return dot"
      ],
      "metadata": {
        "id": "CsUW2mSs7_98"
      },
      "execution_count": 57,
      "outputs": []
    },
    {
      "cell_type": "code",
      "source": [
        "draw_dot(d)"
      ],
      "metadata": {
        "colab": {
          "base_uri": "https://localhost:8080/",
          "height": 192
        },
        "id": "Cr5lzwYr8PV6",
        "outputId": "ce33f78b-25e0-47c7-9f3e-e6b4290b037a"
      },
      "execution_count": 58,
      "outputs": [
        {
          "output_type": "execute_result",
          "data": {
            "image/svg+xml": "<?xml version=\"1.0\" encoding=\"UTF-8\" standalone=\"no\"?>\n<!DOCTYPE svg PUBLIC \"-//W3C//DTD SVG 1.1//EN\"\n \"http://www.w3.org/Graphics/SVG/1.1/DTD/svg11.dtd\">\n<!-- Generated by graphviz version 2.43.0 (0)\n -->\n<!-- Title: %3 Pages: 1 -->\n<svg width=\"581pt\" height=\"128pt\"\n viewBox=\"0.00 0.00 581.00 128.00\" xmlns=\"http://www.w3.org/2000/svg\" xmlns:xlink=\"http://www.w3.org/1999/xlink\">\n<g id=\"graph0\" class=\"graph\" transform=\"scale(1 1) rotate(0) translate(4 124)\">\n<title>%3</title>\n<polygon fill=\"white\" stroke=\"transparent\" points=\"-4,4 -4,-124 577,-124 577,4 -4,4\"/>\n<!-- 136214382775360 -->\n<g id=\"node1\" class=\"node\">\n<title>136214382775360</title>\n<polygon fill=\"none\" stroke=\"black\" points=\"470,-27.5 470,-63.5 573,-63.5 573,-27.5 470,-27.5\"/>\n<text text-anchor=\"middle\" x=\"481.5\" y=\"-41.8\" font-family=\"Times,serif\" font-size=\"14.00\">d</text>\n<polyline fill=\"none\" stroke=\"black\" points=\"493,-27.5 493,-63.5 \"/>\n<text text-anchor=\"middle\" x=\"533\" y=\"-41.8\" font-family=\"Times,serif\" font-size=\"14.00\">data 4.0000</text>\n</g>\n<!-- 136214382775360+ -->\n<g id=\"node2\" class=\"node\">\n<title>136214382775360+</title>\n<ellipse fill=\"none\" stroke=\"black\" cx=\"407\" cy=\"-45.5\" rx=\"27\" ry=\"18\"/>\n<text text-anchor=\"middle\" x=\"407\" y=\"-41.8\" font-family=\"Times,serif\" font-size=\"14.00\">+</text>\n</g>\n<!-- 136214382775360+&#45;&gt;136214382775360 -->\n<g id=\"edge1\" class=\"edge\">\n<title>136214382775360+&#45;&gt;136214382775360</title>\n<path fill=\"none\" stroke=\"black\" d=\"M434.09,-45.5C441.83,-45.5 450.64,-45.5 459.61,-45.5\"/>\n<polygon fill=\"black\" stroke=\"black\" points=\"459.76,-49 469.76,-45.5 459.76,-42 459.76,-49\"/>\n</g>\n<!-- 136214382773440 -->\n<g id=\"node3\" class=\"node\">\n<title>136214382773440</title>\n<polygon fill=\"none\" stroke=\"black\" points=\"0,-83.5 0,-119.5 108,-119.5 108,-83.5 0,-83.5\"/>\n<text text-anchor=\"middle\" x=\"11.5\" y=\"-97.8\" font-family=\"Times,serif\" font-size=\"14.00\">b</text>\n<polyline fill=\"none\" stroke=\"black\" points=\"23,-83.5 23,-119.5 \"/>\n<text text-anchor=\"middle\" x=\"65.5\" y=\"-97.8\" font-family=\"Times,serif\" font-size=\"14.00\">data &#45;3.0000</text>\n</g>\n<!-- 136214382779776* -->\n<g id=\"node6\" class=\"node\">\n<title>136214382779776*</title>\n<ellipse fill=\"none\" stroke=\"black\" cx=\"171\" cy=\"-73.5\" rx=\"27\" ry=\"18\"/>\n<text text-anchor=\"middle\" x=\"171\" y=\"-69.8\" font-family=\"Times,serif\" font-size=\"14.00\">*</text>\n</g>\n<!-- 136214382773440&#45;&gt;136214382779776* -->\n<g id=\"edge4\" class=\"edge\">\n<title>136214382773440&#45;&gt;136214382779776*</title>\n<path fill=\"none\" stroke=\"black\" d=\"M108.12,-88.57C117.51,-86.28 127.06,-83.95 135.76,-81.84\"/>\n<polygon fill=\"black\" stroke=\"black\" points=\"136.62,-85.23 145.51,-79.46 134.97,-78.43 136.62,-85.23\"/>\n</g>\n<!-- 136214382774112 -->\n<g id=\"node4\" class=\"node\">\n<title>136214382774112</title>\n<polygon fill=\"none\" stroke=\"black\" points=\"2.5,-28.5 2.5,-64.5 105.5,-64.5 105.5,-28.5 2.5,-28.5\"/>\n<text text-anchor=\"middle\" x=\"14\" y=\"-42.8\" font-family=\"Times,serif\" font-size=\"14.00\">a</text>\n<polyline fill=\"none\" stroke=\"black\" points=\"25.5,-28.5 25.5,-64.5 \"/>\n<text text-anchor=\"middle\" x=\"65.5\" y=\"-42.8\" font-family=\"Times,serif\" font-size=\"14.00\">data 2.0000</text>\n</g>\n<!-- 136214382774112&#45;&gt;136214382779776* -->\n<g id=\"edge6\" class=\"edge\">\n<title>136214382774112&#45;&gt;136214382779776*</title>\n<path fill=\"none\" stroke=\"black\" d=\"M105.78,-58.42C115.74,-60.76 125.98,-63.17 135.28,-65.35\"/>\n<polygon fill=\"black\" stroke=\"black\" points=\"134.77,-68.82 145.3,-67.7 136.37,-62.01 134.77,-68.82\"/>\n</g>\n<!-- 136214382779776 -->\n<g id=\"node5\" class=\"node\">\n<title>136214382779776</title>\n<polygon fill=\"none\" stroke=\"black\" points=\"235,-55.5 235,-91.5 343,-91.5 343,-55.5 235,-55.5\"/>\n<text text-anchor=\"middle\" x=\"246.5\" y=\"-69.8\" font-family=\"Times,serif\" font-size=\"14.00\">e</text>\n<polyline fill=\"none\" stroke=\"black\" points=\"258,-55.5 258,-91.5 \"/>\n<text text-anchor=\"middle\" x=\"300.5\" y=\"-69.8\" font-family=\"Times,serif\" font-size=\"14.00\">data &#45;6.0000</text>\n</g>\n<!-- 136214382779776&#45;&gt;136214382775360+ -->\n<g id=\"edge3\" class=\"edge\">\n<title>136214382779776&#45;&gt;136214382775360+</title>\n<path fill=\"none\" stroke=\"black\" d=\"M343.25,-60.65C352.84,-58.33 362.6,-55.98 371.48,-53.83\"/>\n<polygon fill=\"black\" stroke=\"black\" points=\"372.54,-57.18 381.43,-51.43 370.89,-50.37 372.54,-57.18\"/>\n</g>\n<!-- 136214382779776*&#45;&gt;136214382779776 -->\n<g id=\"edge2\" class=\"edge\">\n<title>136214382779776*&#45;&gt;136214382779776</title>\n<path fill=\"none\" stroke=\"black\" d=\"M198.03,-73.5C206.08,-73.5 215.32,-73.5 224.74,-73.5\"/>\n<polygon fill=\"black\" stroke=\"black\" points=\"224.99,-77 234.99,-73.5 224.99,-70 224.99,-77\"/>\n</g>\n<!-- 136214382772672 -->\n<g id=\"node7\" class=\"node\">\n<title>136214382772672</title>\n<polygon fill=\"none\" stroke=\"black\" points=\"234,-0.5 234,-36.5 344,-36.5 344,-0.5 234,-0.5\"/>\n<text text-anchor=\"middle\" x=\"245.5\" y=\"-14.8\" font-family=\"Times,serif\" font-size=\"14.00\">c</text>\n<polyline fill=\"none\" stroke=\"black\" points=\"257,-0.5 257,-36.5 \"/>\n<text text-anchor=\"middle\" x=\"300.5\" y=\"-14.8\" font-family=\"Times,serif\" font-size=\"14.00\">data 10.0000</text>\n</g>\n<!-- 136214382772672&#45;&gt;136214382775360+ -->\n<g id=\"edge5\" class=\"edge\">\n<title>136214382772672&#45;&gt;136214382775360+</title>\n<path fill=\"none\" stroke=\"black\" d=\"M344.26,-31.13C353.49,-33.28 362.84,-35.45 371.37,-37.44\"/>\n<polygon fill=\"black\" stroke=\"black\" points=\"370.79,-40.9 381.32,-39.76 372.38,-34.08 370.79,-40.9\"/>\n</g>\n</g>\n</svg>\n",
            "text/plain": [
              "<graphviz.graphs.Digraph at 0x7be2e1bb7ac0>"
            ]
          },
          "metadata": {},
          "execution_count": 58
        }
      ]
    },
    {
      "cell_type": "markdown",
      "source": [
        "Let's make another variable L to be the last output"
      ],
      "metadata": {
        "id": "OOe0ejSz86Ms"
      }
    },
    {
      "cell_type": "code",
      "source": [
        "a = Value(2.0, label='a')\n",
        "b = Value(-3.0, label='b')\n",
        "c = Value(10.0, label='c')\n",
        "\n",
        "e = a*b; e.label = 'e'\n",
        "d = e + c; d.label = 'd'\n",
        "\n",
        "f = Value(-2.0, label='f')\n",
        "L = d * f; L.label = 'L'\n",
        "L"
      ],
      "metadata": {
        "colab": {
          "base_uri": "https://localhost:8080/"
        },
        "id": "QTq9tVQN8P14",
        "outputId": "72f7772d-018b-4183-8335-5a31f56a1300"
      },
      "execution_count": 63,
      "outputs": [
        {
          "output_type": "execute_result",
          "data": {
            "text/plain": [
              "Value(data=-8.0)"
            ]
          },
          "metadata": {},
          "execution_count": 63
        }
      ]
    },
    {
      "cell_type": "code",
      "source": [
        "draw_dot(L)"
      ],
      "metadata": {
        "colab": {
          "base_uri": "https://localhost:8080/",
          "height": 230
        },
        "id": "O7HmPyIX9T6t",
        "outputId": "0d0b91e3-3349-46a8-f760-a280723646d0"
      },
      "execution_count": 64,
      "outputs": [
        {
          "output_type": "execute_result",
          "data": {
            "image/svg+xml": "<?xml version=\"1.0\" encoding=\"UTF-8\" standalone=\"no\"?>\n<!DOCTYPE svg PUBLIC \"-//W3C//DTD SVG 1.1//EN\"\n \"http://www.w3.org/Graphics/SVG/1.1/DTD/svg11.dtd\">\n<!-- Generated by graphviz version 2.43.0 (0)\n -->\n<!-- Title: %3 Pages: 1 -->\n<svg width=\"820pt\" height=\"156pt\"\n viewBox=\"0.00 0.00 820.00 156.00\" xmlns=\"http://www.w3.org/2000/svg\" xmlns:xlink=\"http://www.w3.org/1999/xlink\">\n<g id=\"graph0\" class=\"graph\" transform=\"scale(1 1) rotate(0) translate(4 152)\">\n<title>%3</title>\n<polygon fill=\"white\" stroke=\"transparent\" points=\"-4,4 -4,-152 816,-152 816,4 -4,4\"/>\n<!-- 136214382780448 -->\n<g id=\"node1\" class=\"node\">\n<title>136214382780448</title>\n<polygon fill=\"none\" stroke=\"black\" points=\"0,-111.5 0,-147.5 108,-147.5 108,-111.5 0,-111.5\"/>\n<text text-anchor=\"middle\" x=\"11.5\" y=\"-125.8\" font-family=\"Times,serif\" font-size=\"14.00\">b</text>\n<polyline fill=\"none\" stroke=\"black\" points=\"23,-111.5 23,-147.5 \"/>\n<text text-anchor=\"middle\" x=\"65.5\" y=\"-125.8\" font-family=\"Times,serif\" font-size=\"14.00\">data &#45;3.0000</text>\n</g>\n<!-- 136214382773344* -->\n<g id=\"node5\" class=\"node\">\n<title>136214382773344*</title>\n<ellipse fill=\"none\" stroke=\"black\" cx=\"171\" cy=\"-101.5\" rx=\"27\" ry=\"18\"/>\n<text text-anchor=\"middle\" x=\"171\" y=\"-97.8\" font-family=\"Times,serif\" font-size=\"14.00\">*</text>\n</g>\n<!-- 136214382780448&#45;&gt;136214382773344* -->\n<g id=\"edge5\" class=\"edge\">\n<title>136214382780448&#45;&gt;136214382773344*</title>\n<path fill=\"none\" stroke=\"black\" d=\"M108.12,-116.57C117.51,-114.28 127.06,-111.95 135.76,-109.84\"/>\n<polygon fill=\"black\" stroke=\"black\" points=\"136.62,-113.23 145.51,-107.46 134.97,-106.43 136.62,-113.23\"/>\n</g>\n<!-- 136214382777376 -->\n<g id=\"node2\" class=\"node\">\n<title>136214382777376</title>\n<polygon fill=\"none\" stroke=\"black\" points=\"471.5,-55.5 471.5,-91.5 574.5,-91.5 574.5,-55.5 471.5,-55.5\"/>\n<text text-anchor=\"middle\" x=\"483\" y=\"-69.8\" font-family=\"Times,serif\" font-size=\"14.00\">d</text>\n<polyline fill=\"none\" stroke=\"black\" points=\"494.5,-55.5 494.5,-91.5 \"/>\n<text text-anchor=\"middle\" x=\"534.5\" y=\"-69.8\" font-family=\"Times,serif\" font-size=\"14.00\">data 4.0000</text>\n</g>\n<!-- 136214382775648* -->\n<g id=\"node8\" class=\"node\">\n<title>136214382775648*</title>\n<ellipse fill=\"none\" stroke=\"black\" cx=\"639\" cy=\"-45.5\" rx=\"27\" ry=\"18\"/>\n<text text-anchor=\"middle\" x=\"639\" y=\"-41.8\" font-family=\"Times,serif\" font-size=\"14.00\">*</text>\n</g>\n<!-- 136214382777376&#45;&gt;136214382775648* -->\n<g id=\"edge7\" class=\"edge\">\n<title>136214382777376&#45;&gt;136214382775648*</title>\n<path fill=\"none\" stroke=\"black\" d=\"M574.67,-61.06C584.43,-58.66 594.45,-56.2 603.55,-53.96\"/>\n<polygon fill=\"black\" stroke=\"black\" points=\"604.5,-57.33 613.37,-51.55 602.83,-50.54 604.5,-57.33\"/>\n</g>\n<!-- 136214382777376+ -->\n<g id=\"node3\" class=\"node\">\n<title>136214382777376+</title>\n<ellipse fill=\"none\" stroke=\"black\" cx=\"407\" cy=\"-73.5\" rx=\"27\" ry=\"18\"/>\n<text text-anchor=\"middle\" x=\"407\" y=\"-69.8\" font-family=\"Times,serif\" font-size=\"14.00\">+</text>\n</g>\n<!-- 136214382777376+&#45;&gt;136214382777376 -->\n<g id=\"edge1\" class=\"edge\">\n<title>136214382777376+&#45;&gt;136214382777376</title>\n<path fill=\"none\" stroke=\"black\" d=\"M434.15,-73.5C442.26,-73.5 451.57,-73.5 461.02,-73.5\"/>\n<polygon fill=\"black\" stroke=\"black\" points=\"461.28,-77 471.28,-73.5 461.28,-70 461.28,-77\"/>\n</g>\n<!-- 136214382773344 -->\n<g id=\"node4\" class=\"node\">\n<title>136214382773344</title>\n<polygon fill=\"none\" stroke=\"black\" points=\"235,-83.5 235,-119.5 343,-119.5 343,-83.5 235,-83.5\"/>\n<text text-anchor=\"middle\" x=\"246.5\" y=\"-97.8\" font-family=\"Times,serif\" font-size=\"14.00\">e</text>\n<polyline fill=\"none\" stroke=\"black\" points=\"258,-83.5 258,-119.5 \"/>\n<text text-anchor=\"middle\" x=\"300.5\" y=\"-97.8\" font-family=\"Times,serif\" font-size=\"14.00\">data &#45;6.0000</text>\n</g>\n<!-- 136214382773344&#45;&gt;136214382777376+ -->\n<g id=\"edge9\" class=\"edge\">\n<title>136214382773344&#45;&gt;136214382777376+</title>\n<path fill=\"none\" stroke=\"black\" d=\"M343.25,-88.65C352.84,-86.33 362.6,-83.98 371.48,-81.83\"/>\n<polygon fill=\"black\" stroke=\"black\" points=\"372.54,-85.18 381.43,-79.43 370.89,-78.37 372.54,-85.18\"/>\n</g>\n<!-- 136214382773344*&#45;&gt;136214382773344 -->\n<g id=\"edge2\" class=\"edge\">\n<title>136214382773344*&#45;&gt;136214382773344</title>\n<path fill=\"none\" stroke=\"black\" d=\"M198.03,-101.5C206.08,-101.5 215.32,-101.5 224.74,-101.5\"/>\n<polygon fill=\"black\" stroke=\"black\" points=\"224.99,-105 234.99,-101.5 224.99,-98 224.99,-105\"/>\n</g>\n<!-- 136214382787888 -->\n<g id=\"node6\" class=\"node\">\n<title>136214382787888</title>\n<polygon fill=\"none\" stroke=\"black\" points=\"470,-0.5 470,-36.5 576,-36.5 576,-0.5 470,-0.5\"/>\n<text text-anchor=\"middle\" x=\"480.5\" y=\"-14.8\" font-family=\"Times,serif\" font-size=\"14.00\">f</text>\n<polyline fill=\"none\" stroke=\"black\" points=\"491,-0.5 491,-36.5 \"/>\n<text text-anchor=\"middle\" x=\"533.5\" y=\"-14.8\" font-family=\"Times,serif\" font-size=\"14.00\">data &#45;2.0000</text>\n</g>\n<!-- 136214382787888&#45;&gt;136214382775648* -->\n<g id=\"edge8\" class=\"edge\">\n<title>136214382787888&#45;&gt;136214382775648*</title>\n<path fill=\"none\" stroke=\"black\" d=\"M576.33,-30.89C585.48,-33.06 594.8,-35.27 603.33,-37.29\"/>\n<polygon fill=\"black\" stroke=\"black\" points=\"602.73,-40.74 613.27,-39.64 604.34,-33.93 602.73,-40.74\"/>\n</g>\n<!-- 136214382775648 -->\n<g id=\"node7\" class=\"node\">\n<title>136214382775648</title>\n<polygon fill=\"none\" stroke=\"black\" points=\"702,-27.5 702,-63.5 812,-63.5 812,-27.5 702,-27.5\"/>\n<text text-anchor=\"middle\" x=\"714.5\" y=\"-41.8\" font-family=\"Times,serif\" font-size=\"14.00\">L</text>\n<polyline fill=\"none\" stroke=\"black\" points=\"727,-27.5 727,-63.5 \"/>\n<text text-anchor=\"middle\" x=\"769.5\" y=\"-41.8\" font-family=\"Times,serif\" font-size=\"14.00\">data &#45;8.0000</text>\n</g>\n<!-- 136214382775648*&#45;&gt;136214382775648 -->\n<g id=\"edge3\" class=\"edge\">\n<title>136214382775648*&#45;&gt;136214382775648</title>\n<path fill=\"none\" stroke=\"black\" d=\"M666.03,-45.5C673.7,-45.5 682.45,-45.5 691.42,-45.5\"/>\n<polygon fill=\"black\" stroke=\"black\" points=\"691.58,-49 701.58,-45.5 691.58,-42 691.58,-49\"/>\n</g>\n<!-- 136214382773680 -->\n<g id=\"node9\" class=\"node\">\n<title>136214382773680</title>\n<polygon fill=\"none\" stroke=\"black\" points=\"2.5,-56.5 2.5,-92.5 105.5,-92.5 105.5,-56.5 2.5,-56.5\"/>\n<text text-anchor=\"middle\" x=\"14\" y=\"-70.8\" font-family=\"Times,serif\" font-size=\"14.00\">a</text>\n<polyline fill=\"none\" stroke=\"black\" points=\"25.5,-56.5 25.5,-92.5 \"/>\n<text text-anchor=\"middle\" x=\"65.5\" y=\"-70.8\" font-family=\"Times,serif\" font-size=\"14.00\">data 2.0000</text>\n</g>\n<!-- 136214382773680&#45;&gt;136214382773344* -->\n<g id=\"edge6\" class=\"edge\">\n<title>136214382773680&#45;&gt;136214382773344*</title>\n<path fill=\"none\" stroke=\"black\" d=\"M105.78,-86.42C115.74,-88.76 125.98,-91.17 135.28,-93.35\"/>\n<polygon fill=\"black\" stroke=\"black\" points=\"134.77,-96.82 145.3,-95.7 136.37,-90.01 134.77,-96.82\"/>\n</g>\n<!-- 136214382786016 -->\n<g id=\"node10\" class=\"node\">\n<title>136214382786016</title>\n<polygon fill=\"none\" stroke=\"black\" points=\"234,-28.5 234,-64.5 344,-64.5 344,-28.5 234,-28.5\"/>\n<text text-anchor=\"middle\" x=\"245.5\" y=\"-42.8\" font-family=\"Times,serif\" font-size=\"14.00\">c</text>\n<polyline fill=\"none\" stroke=\"black\" points=\"257,-28.5 257,-64.5 \"/>\n<text text-anchor=\"middle\" x=\"300.5\" y=\"-42.8\" font-family=\"Times,serif\" font-size=\"14.00\">data 10.0000</text>\n</g>\n<!-- 136214382786016&#45;&gt;136214382777376+ -->\n<g id=\"edge4\" class=\"edge\">\n<title>136214382786016&#45;&gt;136214382777376+</title>\n<path fill=\"none\" stroke=\"black\" d=\"M344.26,-59.13C353.49,-61.28 362.84,-63.45 371.37,-65.44\"/>\n<polygon fill=\"black\" stroke=\"black\" points=\"370.79,-68.9 381.32,-67.76 372.38,-62.08 370.79,-68.9\"/>\n</g>\n</g>\n</svg>\n",
            "text/plain": [
              "<graphviz.graphs.Digraph at 0x7be2e1e61270>"
            ]
          },
          "metadata": {},
          "execution_count": 64
        }
      ]
    },
    {
      "cell_type": "markdown",
      "source": [
        "Gradient"
      ],
      "metadata": {
        "id": "vZh4R87B-gkk"
      }
    },
    {
      "cell_type": "markdown",
      "source": [
        "The concept:\n",
        "\n",
        "We will now need to put in grad into our current Value object structure.\n",
        "\n",
        "Grad will calculate the derivative\n",
        "\n",
        "Grad will initially be 0, because we need to assume that every single value will not affect the Output"
      ],
      "metadata": {
        "id": "BEBe3kXd-jNF"
      }
    },
    {
      "cell_type": "code",
      "source": [
        "class Value:\n",
        "\n",
        "  def __init__(self, data, _children=(), _op='', label=''):\n",
        "    self.data = data\n",
        "    self.grad = 0 # gradient will initially be 0\n",
        "    self._prev = set(_children)\n",
        "    self._op = _op\n",
        "    self.label = label\n",
        "\n",
        "  def __repr__(self):\n",
        "    return f\"Value(data={self.data})\"\n",
        "\n",
        "  def __add__(self, other):\n",
        "    out = Value(self.data + other.data,\n",
        "                (self, other),\n",
        "                _op='+'\n",
        "                )\n",
        "    return out\n",
        "\n",
        "  def __mul__(self, other):\n",
        "    out = Value(self.data * other.data,\n",
        "                (self, other),\n",
        "                _op='*'\n",
        "                )\n",
        "    return out"
      ],
      "metadata": {
        "id": "CCmx9Zca9Von"
      },
      "execution_count": 65,
      "outputs": []
    },
    {
      "cell_type": "markdown",
      "source": [
        "Update our Visualize code, include grad"
      ],
      "metadata": {
        "id": "rlI1uvS3_N1b"
      }
    },
    {
      "cell_type": "code",
      "source": [
        "from graphviz import Digraph\n",
        "\n",
        "def trace(root):\n",
        "  # builds a set of all nodes and edges in a graph\n",
        "  nodes, edges = set(), set()\n",
        "  def build(v):\n",
        "    if v not in nodes:\n",
        "      nodes.add(v)\n",
        "      for child in v._prev:\n",
        "        edges.add((child, v))\n",
        "        build(child)\n",
        "  build(root)\n",
        "  return nodes, edges\n",
        "\n",
        "def draw_dot(root):\n",
        "  dot = Digraph(format='svg', graph_attr={'rankdir': 'LR'}) # LR = left to right\n",
        "\n",
        "  nodes, edges = trace(root)\n",
        "  for n in nodes:\n",
        "    uid = str(id(n))\n",
        "    # for any value in the graph, create a rectangular ('record') node for it\n",
        "\n",
        "    # -------------------------- Include Grad, Label, Data --------------------------------------\n",
        "    dot.node(name = uid, label = \"{ %s | data %.4f | grad %.4f }\" % (n.label, n.data, n.grad), shape='record')\n",
        "\n",
        "    if n._op:\n",
        "      # if this value is a result of some operation, create an op node for it\n",
        "      dot.node(name = uid + n._op, label=n._op)\n",
        "      # and connect this node to it\n",
        "      dot.edge(uid + n._op, uid)\n",
        "\n",
        "  for n1, n2 in edges:\n",
        "    # connect n1 to the op node of n2\n",
        "    dot.edge(str(id(n1)), str(id(n2)) + n2._op)\n",
        "\n",
        "  return dot"
      ],
      "metadata": {
        "id": "xsEO4NM4_NS7"
      },
      "execution_count": 66,
      "outputs": []
    },
    {
      "cell_type": "code",
      "source": [
        "a = Value(2.0, label='a')\n",
        "b = Value(-3.0, label='b')\n",
        "c = Value(10.0, label='c')\n",
        "\n",
        "e = a*b; e.label = 'e'\n",
        "d = e + c; d.label = 'd'\n",
        "\n",
        "f = Value(-2.0, label='f')\n",
        "L = d * f; L.label = 'L'\n",
        "L"
      ],
      "metadata": {
        "colab": {
          "base_uri": "https://localhost:8080/"
        },
        "id": "wE-qcX0y_qYr",
        "outputId": "81d0f527-4878-4c72-fc7b-5a4c9aa264b2"
      },
      "execution_count": 69,
      "outputs": [
        {
          "output_type": "execute_result",
          "data": {
            "text/plain": [
              "Value(data=-8.0)"
            ]
          },
          "metadata": {},
          "execution_count": 69
        }
      ]
    },
    {
      "cell_type": "code",
      "source": [
        "draw_dot(L)"
      ],
      "metadata": {
        "colab": {
          "base_uri": "https://localhost:8080/",
          "height": 230
        },
        "id": "gaUfVVer_auT",
        "outputId": "3a523112-f86d-4f11-f76c-ae14f64c1bee"
      },
      "execution_count": 70,
      "outputs": [
        {
          "output_type": "execute_result",
          "data": {
            "image/svg+xml": "<?xml version=\"1.0\" encoding=\"UTF-8\" standalone=\"no\"?>\n<!DOCTYPE svg PUBLIC \"-//W3C//DTD SVG 1.1//EN\"\n \"http://www.w3.org/Graphics/SVG/1.1/DTD/svg11.dtd\">\n<!-- Generated by graphviz version 2.43.0 (0)\n -->\n<!-- Title: %3 Pages: 1 -->\n<svg width=\"1148pt\" height=\"156pt\"\n viewBox=\"0.00 0.00 1148.00 156.00\" xmlns=\"http://www.w3.org/2000/svg\" xmlns:xlink=\"http://www.w3.org/1999/xlink\">\n<g id=\"graph0\" class=\"graph\" transform=\"scale(1 1) rotate(0) translate(4 152)\">\n<title>%3</title>\n<polygon fill=\"white\" stroke=\"transparent\" points=\"-4,4 -4,-152 1144,-152 1144,4 -4,4\"/>\n<!-- 136214382787600 -->\n<g id=\"node1\" class=\"node\">\n<title>136214382787600</title>\n<polygon fill=\"none\" stroke=\"black\" points=\"0,-111.5 0,-147.5 190,-147.5 190,-111.5 0,-111.5\"/>\n<text text-anchor=\"middle\" x=\"11.5\" y=\"-125.8\" font-family=\"Times,serif\" font-size=\"14.00\">b</text>\n<polyline fill=\"none\" stroke=\"black\" points=\"23,-111.5 23,-147.5 \"/>\n<text text-anchor=\"middle\" x=\"65.5\" y=\"-125.8\" font-family=\"Times,serif\" font-size=\"14.00\">data &#45;3.0000</text>\n<polyline fill=\"none\" stroke=\"black\" points=\"108,-111.5 108,-147.5 \"/>\n<text text-anchor=\"middle\" x=\"149\" y=\"-125.8\" font-family=\"Times,serif\" font-size=\"14.00\">grad 0.0000</text>\n</g>\n<!-- 136214382780352* -->\n<g id=\"node8\" class=\"node\">\n<title>136214382780352*</title>\n<ellipse fill=\"none\" stroke=\"black\" cx=\"253\" cy=\"-101.5\" rx=\"27\" ry=\"18\"/>\n<text text-anchor=\"middle\" x=\"253\" y=\"-97.8\" font-family=\"Times,serif\" font-size=\"14.00\">*</text>\n</g>\n<!-- 136214382787600&#45;&gt;136214382780352* -->\n<g id=\"edge6\" class=\"edge\">\n<title>136214382787600&#45;&gt;136214382780352*</title>\n<path fill=\"none\" stroke=\"black\" d=\"M190.34,-112.57C199.62,-110.9 208.58,-109.29 216.66,-107.84\"/>\n<polygon fill=\"black\" stroke=\"black\" points=\"217.49,-111.25 226.72,-106.04 216.26,-104.36 217.49,-111.25\"/>\n</g>\n<!-- 136214382782512 -->\n<g id=\"node2\" class=\"node\">\n<title>136214382782512</title>\n<polygon fill=\"none\" stroke=\"black\" points=\"2.5,-56.5 2.5,-92.5 187.5,-92.5 187.5,-56.5 2.5,-56.5\"/>\n<text text-anchor=\"middle\" x=\"14\" y=\"-70.8\" font-family=\"Times,serif\" font-size=\"14.00\">a</text>\n<polyline fill=\"none\" stroke=\"black\" points=\"25.5,-56.5 25.5,-92.5 \"/>\n<text text-anchor=\"middle\" x=\"65.5\" y=\"-70.8\" font-family=\"Times,serif\" font-size=\"14.00\">data 2.0000</text>\n<polyline fill=\"none\" stroke=\"black\" points=\"105.5,-56.5 105.5,-92.5 \"/>\n<text text-anchor=\"middle\" x=\"146.5\" y=\"-70.8\" font-family=\"Times,serif\" font-size=\"14.00\">grad 0.0000</text>\n</g>\n<!-- 136214382782512&#45;&gt;136214382780352* -->\n<g id=\"edge5\" class=\"edge\">\n<title>136214382782512&#45;&gt;136214382780352*</title>\n<path fill=\"none\" stroke=\"black\" d=\"M187.65,-90.36C197.94,-92.14 207.91,-93.87 216.81,-95.41\"/>\n<polygon fill=\"black\" stroke=\"black\" points=\"216.26,-98.87 226.71,-97.12 217.45,-91.97 216.26,-98.87\"/>\n</g>\n<!-- 136214382773872 -->\n<g id=\"node3\" class=\"node\">\n<title>136214382773872</title>\n<polygon fill=\"none\" stroke=\"black\" points=\"634,-0.5 634,-36.5 822,-36.5 822,-0.5 634,-0.5\"/>\n<text text-anchor=\"middle\" x=\"644.5\" y=\"-14.8\" font-family=\"Times,serif\" font-size=\"14.00\">f</text>\n<polyline fill=\"none\" stroke=\"black\" points=\"655,-0.5 655,-36.5 \"/>\n<text text-anchor=\"middle\" x=\"697.5\" y=\"-14.8\" font-family=\"Times,serif\" font-size=\"14.00\">data &#45;2.0000</text>\n<polyline fill=\"none\" stroke=\"black\" points=\"740,-0.5 740,-36.5 \"/>\n<text text-anchor=\"middle\" x=\"781\" y=\"-14.8\" font-family=\"Times,serif\" font-size=\"14.00\">grad 0.0000</text>\n</g>\n<!-- 136214382774400* -->\n<g id=\"node5\" class=\"node\">\n<title>136214382774400*</title>\n<ellipse fill=\"none\" stroke=\"black\" cx=\"885\" cy=\"-45.5\" rx=\"27\" ry=\"18\"/>\n<text text-anchor=\"middle\" x=\"885\" y=\"-41.8\" font-family=\"Times,serif\" font-size=\"14.00\">*</text>\n</g>\n<!-- 136214382773872&#45;&gt;136214382774400* -->\n<g id=\"edge8\" class=\"edge\">\n<title>136214382773872&#45;&gt;136214382774400*</title>\n<path fill=\"none\" stroke=\"black\" d=\"M822.29,-34.75C831.57,-36.37 840.52,-37.93 848.61,-39.33\"/>\n<polygon fill=\"black\" stroke=\"black\" points=\"848.22,-42.82 858.68,-41.09 849.42,-35.92 848.22,-42.82\"/>\n</g>\n<!-- 136214382774400 -->\n<g id=\"node4\" class=\"node\">\n<title>136214382774400</title>\n<polygon fill=\"none\" stroke=\"black\" points=\"948,-27.5 948,-63.5 1140,-63.5 1140,-27.5 948,-27.5\"/>\n<text text-anchor=\"middle\" x=\"960.5\" y=\"-41.8\" font-family=\"Times,serif\" font-size=\"14.00\">L</text>\n<polyline fill=\"none\" stroke=\"black\" points=\"973,-27.5 973,-63.5 \"/>\n<text text-anchor=\"middle\" x=\"1015.5\" y=\"-41.8\" font-family=\"Times,serif\" font-size=\"14.00\">data &#45;8.0000</text>\n<polyline fill=\"none\" stroke=\"black\" points=\"1058,-27.5 1058,-63.5 \"/>\n<text text-anchor=\"middle\" x=\"1099\" y=\"-41.8\" font-family=\"Times,serif\" font-size=\"14.00\">grad 0.0000</text>\n</g>\n<!-- 136214382774400*&#45;&gt;136214382774400 -->\n<g id=\"edge1\" class=\"edge\">\n<title>136214382774400*&#45;&gt;136214382774400</title>\n<path fill=\"none\" stroke=\"black\" d=\"M912.28,-45.5C919.78,-45.5 928.44,-45.5 937.67,-45.5\"/>\n<polygon fill=\"black\" stroke=\"black\" points=\"937.87,-49 947.87,-45.5 937.87,-42 937.87,-49\"/>\n</g>\n<!-- 136214382773104 -->\n<g id=\"node6\" class=\"node\">\n<title>136214382773104</title>\n<polygon fill=\"none\" stroke=\"black\" points=\"316,-28.5 316,-64.5 508,-64.5 508,-28.5 316,-28.5\"/>\n<text text-anchor=\"middle\" x=\"327.5\" y=\"-42.8\" font-family=\"Times,serif\" font-size=\"14.00\">c</text>\n<polyline fill=\"none\" stroke=\"black\" points=\"339,-28.5 339,-64.5 \"/>\n<text text-anchor=\"middle\" x=\"382.5\" y=\"-42.8\" font-family=\"Times,serif\" font-size=\"14.00\">data 10.0000</text>\n<polyline fill=\"none\" stroke=\"black\" points=\"426,-28.5 426,-64.5 \"/>\n<text text-anchor=\"middle\" x=\"467\" y=\"-42.8\" font-family=\"Times,serif\" font-size=\"14.00\">grad 0.0000</text>\n</g>\n<!-- 136214382784480+ -->\n<g id=\"node10\" class=\"node\">\n<title>136214382784480+</title>\n<ellipse fill=\"none\" stroke=\"black\" cx=\"571\" cy=\"-73.5\" rx=\"27\" ry=\"18\"/>\n<text text-anchor=\"middle\" x=\"571\" y=\"-69.8\" font-family=\"Times,serif\" font-size=\"14.00\">+</text>\n</g>\n<!-- 136214382773104&#45;&gt;136214382784480+ -->\n<g id=\"edge7\" class=\"edge\">\n<title>136214382773104&#45;&gt;136214382784480+</title>\n<path fill=\"none\" stroke=\"black\" d=\"M508.4,-62.91C517.69,-64.5 526.64,-66.04 534.71,-67.43\"/>\n<polygon fill=\"black\" stroke=\"black\" points=\"534.32,-70.91 544.76,-69.16 535.5,-64.02 534.32,-70.91\"/>\n</g>\n<!-- 136214382780352 -->\n<g id=\"node7\" class=\"node\">\n<title>136214382780352</title>\n<polygon fill=\"none\" stroke=\"black\" points=\"317,-83.5 317,-119.5 507,-119.5 507,-83.5 317,-83.5\"/>\n<text text-anchor=\"middle\" x=\"328.5\" y=\"-97.8\" font-family=\"Times,serif\" font-size=\"14.00\">e</text>\n<polyline fill=\"none\" stroke=\"black\" points=\"340,-83.5 340,-119.5 \"/>\n<text text-anchor=\"middle\" x=\"382.5\" y=\"-97.8\" font-family=\"Times,serif\" font-size=\"14.00\">data &#45;6.0000</text>\n<polyline fill=\"none\" stroke=\"black\" points=\"425,-83.5 425,-119.5 \"/>\n<text text-anchor=\"middle\" x=\"466\" y=\"-97.8\" font-family=\"Times,serif\" font-size=\"14.00\">grad 0.0000</text>\n</g>\n<!-- 136214382780352&#45;&gt;136214382784480+ -->\n<g id=\"edge9\" class=\"edge\">\n<title>136214382780352&#45;&gt;136214382784480+</title>\n<path fill=\"none\" stroke=\"black\" d=\"M507.05,-84.73C516.89,-82.97 526.39,-81.28 534.9,-79.76\"/>\n<polygon fill=\"black\" stroke=\"black\" points=\"535.52,-83.2 544.75,-78 534.29,-76.31 535.52,-83.2\"/>\n</g>\n<!-- 136214382780352*&#45;&gt;136214382780352 -->\n<g id=\"edge2\" class=\"edge\">\n<title>136214382780352*&#45;&gt;136214382780352</title>\n<path fill=\"none\" stroke=\"black\" d=\"M280.28,-101.5C288.05,-101.5 297.08,-101.5 306.68,-101.5\"/>\n<polygon fill=\"black\" stroke=\"black\" points=\"306.88,-105 316.88,-101.5 306.88,-98 306.88,-105\"/>\n</g>\n<!-- 136214382784480 -->\n<g id=\"node9\" class=\"node\">\n<title>136214382784480</title>\n<polygon fill=\"none\" stroke=\"black\" points=\"635.5,-55.5 635.5,-91.5 820.5,-91.5 820.5,-55.5 635.5,-55.5\"/>\n<text text-anchor=\"middle\" x=\"647\" y=\"-69.8\" font-family=\"Times,serif\" font-size=\"14.00\">d</text>\n<polyline fill=\"none\" stroke=\"black\" points=\"658.5,-55.5 658.5,-91.5 \"/>\n<text text-anchor=\"middle\" x=\"698.5\" y=\"-69.8\" font-family=\"Times,serif\" font-size=\"14.00\">data 4.0000</text>\n<polyline fill=\"none\" stroke=\"black\" points=\"738.5,-55.5 738.5,-91.5 \"/>\n<text text-anchor=\"middle\" x=\"779.5\" y=\"-69.8\" font-family=\"Times,serif\" font-size=\"14.00\">grad 0.0000</text>\n</g>\n<!-- 136214382784480&#45;&gt;136214382774400* -->\n<g id=\"edge4\" class=\"edge\">\n<title>136214382784480&#45;&gt;136214382774400*</title>\n<path fill=\"none\" stroke=\"black\" d=\"M820.51,-56.97C830.48,-55.17 840.13,-53.42 848.77,-51.86\"/>\n<polygon fill=\"black\" stroke=\"black\" points=\"849.55,-55.28 858.77,-50.06 848.3,-48.39 849.55,-55.28\"/>\n</g>\n<!-- 136214382784480+&#45;&gt;136214382784480 -->\n<g id=\"edge3\" class=\"edge\">\n<title>136214382784480+&#45;&gt;136214382784480</title>\n<path fill=\"none\" stroke=\"black\" d=\"M598.29,-73.5C606.26,-73.5 615.54,-73.5 625.39,-73.5\"/>\n<polygon fill=\"black\" stroke=\"black\" points=\"625.41,-77 635.41,-73.5 625.41,-70 625.41,-77\"/>\n</g>\n</g>\n</svg>\n",
            "text/plain": [
              "<graphviz.graphs.Digraph at 0x7be2e1e60100>"
            ]
          },
          "metadata": {},
          "execution_count": 70
        }
      ]
    },
    {
      "cell_type": "markdown",
      "source": [
        "Manually Calculate Gradient"
      ],
      "metadata": {
        "id": "gR6h4lMeAk96"
      }
    },
    {
      "cell_type": "markdown",
      "source": [
        "Calculate Derivative of L with respect to L"
      ],
      "metadata": {
        "id": "c_8znB2aAH8k"
      }
    },
    {
      "cell_type": "markdown",
      "source": [
        "![image.png](data:image/png;base64,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)"
      ],
      "metadata": {
        "id": "xcIy3yu6ALiL"
      }
    },
    {
      "cell_type": "code",
      "source": [
        "# We create this function is just to not mess up the Global variables.\n",
        "def lol():\n",
        "\n",
        "  h = 0.0001\n",
        "\n",
        "  # Without Increment of h\n",
        "  a = Value(2.0, label='a')\n",
        "  b = Value(-3.0, label='b')\n",
        "  c = Value(10.0, label='c')\n",
        "  e = a*b; e.label = 'e'\n",
        "  d = e + c; d.label = 'd'\n",
        "  f = Value(-2.0, label='f')\n",
        "  L = d * f; L.label = 'L'\n",
        "  L1 = L.data\n",
        "\n",
        "  # With Increment of h\n",
        "  a = Value(2.0, label='a')\n",
        "  b = Value(-3.0, label='b')\n",
        "  c = Value(10.0, label='c')\n",
        "  e = a*b; e.label = 'e'\n",
        "  d = e + c; d.label = 'd'\n",
        "  f = Value(-2.0, label='f')\n",
        "  L = d * f; L.label = 'L'\n",
        "  L2 = L.data + h # we increment h to L\n",
        "\n",
        "  print((L2 - L1) / h)\n",
        "\n",
        "lol()"
      ],
      "metadata": {
        "colab": {
          "base_uri": "https://localhost:8080/"
        },
        "id": "mXZKvrDF_YV-",
        "outputId": "2ae5b73e-0db5-410c-f4a3-71f6353a496b"
      },
      "execution_count": 71,
      "outputs": [
        {
          "output_type": "stream",
          "name": "stdout",
          "text": [
            "0.9999999999976694\n"
          ]
        }
      ]
    },
    {
      "cell_type": "markdown",
      "source": [
        "## Calculate the Derivative of L with respect to d"
      ],
      "metadata": {
        "id": "Wt50k8fJBxM7"
      }
    },
    {
      "cell_type": "markdown",
      "source": [
        "![image.png](data:image/png;base64,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)"
      ],
      "metadata": {
        "id": "IMDlkJx2B8BD"
      }
    },
    {
      "cell_type": "code",
      "source": [
        "# We now know that:\n",
        "# L = d * f\n",
        "\n",
        "# If we want to calculate the derivative will be:\n",
        "# dL/dd = ?\n",
        "\n",
        "# We apply the calculus properties thingi:\n",
        "# = (f(x + h) - f(x)) / h\n",
        "# = ((d + h)*f - d*f) / h\n",
        "# = (d*f + h*f - d*f) / h\n",
        "# = (h*f) / h\n",
        "# = f\n",
        "\n",
        "# And f is equal to 4.0, so let's just set our grad of f manually"
      ],
      "metadata": {
        "id": "EJTr9Xr4OAgY"
      },
      "execution_count": null,
      "outputs": []
    },
    {
      "cell_type": "code",
      "source": [
        "f.grad = 4.0"
      ],
      "metadata": {
        "id": "i6eIyihHBp-2"
      },
      "execution_count": 75,
      "outputs": []
    },
    {
      "cell_type": "markdown",
      "source": [
        "Let's Double Check"
      ],
      "metadata": {
        "id": "eIjp4oqSNVpo"
      }
    },
    {
      "cell_type": "code",
      "source": [
        "# We create this function is just to not mess up the Global variables.\n",
        "def lol():\n",
        "\n",
        "  h = 0.0001\n",
        "\n",
        "  # Without Increment of h\n",
        "  a = Value(2.0, label='a')\n",
        "  b = Value(-3.0, label='b')\n",
        "  c = Value(10.0, label='c')\n",
        "  e = a*b; e.label = 'e'\n",
        "  d = e + c; d.label = 'd'\n",
        "  f = Value(-2.0, label='f')\n",
        "  L = d * f; L.label = 'L'\n",
        "  L1 = L.data\n",
        "\n",
        "  # With Increment of h\n",
        "  a = Value(2.0, label='a')\n",
        "  b = Value(-3.0, label='b')\n",
        "  c = Value(10.0, label='c')\n",
        "  e = a*b; e.label = 'e'\n",
        "  d = e + c; d.label = 'd'\n",
        "  f = Value(-2.0 + h, label='f') # we increment h to f\n",
        "  L = d * f; L.label = 'L'\n",
        "  L2 = L.data\n",
        "\n",
        "  print((L2 - L1) / h)\n",
        "\n",
        "lol()"
      ],
      "metadata": {
        "colab": {
          "base_uri": "https://localhost:8080/"
        },
        "id": "4oBs7xrzNVQK",
        "outputId": "bb0c63f2-fed3-4876-ac5b-3945f513a1f2"
      },
      "execution_count": 74,
      "outputs": [
        {
          "output_type": "stream",
          "name": "stdout",
          "text": [
            "3.9999999999995595\n"
          ]
        }
      ]
    },
    {
      "cell_type": "markdown",
      "source": [
        "## Calculate the Derivative of L with respect to f"
      ],
      "metadata": {
        "id": "WruAghokD4Yk"
      }
    },
    {
      "cell_type": "markdown",
      "source": [
        "![image.png](data:image/png;base64,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)"
      ],
      "metadata": {
        "id": "J0623z12En_U"
      }
    },
    {
      "cell_type": "code",
      "source": [
        "# We now know that:\n",
        "# L = d * f\n",
        "\n",
        "# If we want to calculate the derivative will be:\n",
        "# dL/dd = ?\n",
        "\n",
        "# We apply the calculus properties thingi:\n",
        "# = (f(x + h) - f(x)) / h\n",
        "# = ((d + h)*f - d*f) / h\n",
        "# = (d*f + h*f - d*f) / h\n",
        "# = (h*f) / h\n",
        "# = f\n",
        "\n",
        "# And f is equal to -2.0, so let's just set our grad of d manually"
      ],
      "metadata": {
        "id": "IlddgLVDPZig"
      },
      "execution_count": null,
      "outputs": []
    },
    {
      "cell_type": "code",
      "source": [
        "f.grad = 4.0"
      ],
      "metadata": {
        "id": "AlvWjdzFD1_V"
      },
      "execution_count": 73,
      "outputs": []
    },
    {
      "cell_type": "markdown",
      "source": [
        "Let's Double check"
      ],
      "metadata": {
        "id": "U7BHkM-EPhJ3"
      }
    },
    {
      "cell_type": "code",
      "source": [
        "# We create this function is just to not mess up the Global variables.\n",
        "def lol():\n",
        "\n",
        "  h = 0.0001\n",
        "\n",
        "  # Without Increment of h\n",
        "  a = Value(2.0, label='a')\n",
        "  b = Value(-3.0, label='b')\n",
        "  c = Value(10.0, label='c')\n",
        "  e = a*b; e.label = 'e'\n",
        "  d = e + c; d.label = 'd'\n",
        "  f = Value(-2.0, label='f')\n",
        "  L = d * f; L.label = 'L'\n",
        "  L1 = L.data\n",
        "\n",
        "  # With Increment of h\n",
        "  a = Value(2.0, label='a')\n",
        "  b = Value(-3.0, label='b')\n",
        "  c = Value(10.0, label='c')\n",
        "  e = a*b; e.label = 'e'\n",
        "  d = e + c; d.label = 'd'\n",
        "  d.data += h # we increment h to f\n",
        "  f = Value(-2.0 + h, label='f')\n",
        "  L = d * f; L.label = 'L'\n",
        "  L2 = L.data\n",
        "\n",
        "  print((L2 - L1) / h)\n",
        "\n",
        "lol()"
      ],
      "metadata": {
        "colab": {
          "base_uri": "https://localhost:8080/"
        },
        "id": "T1_3Ahp7Mcd9",
        "outputId": "46f481ba-e2e4-4fad-943b-55a364ace6e4"
      },
      "execution_count": 77,
      "outputs": [
        {
          "output_type": "stream",
          "name": "stdout",
          "text": [
            "2.000100000003613\n"
          ]
        }
      ]
    },
    {
      "cell_type": "markdown",
      "source": [
        "Calculate the Derivative of L with respect to e"
      ],
      "metadata": {
        "id": "W_0AZSP_QByX"
      }
    },
    {
      "cell_type": "markdown",
      "source": [
        "![image.png](data:image/png;base64,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)"
      ],
      "metadata": {
        "id": "DdY3461PQO5I"
      }
    },
    {
      "cell_type": "code",
      "source": [
        "# (Chain Rule)\n",
        "# We know that:\n",
        "#"
      ],
      "metadata": {
        "id": "KGzriDOZPmtM"
      },
      "execution_count": 77,
      "outputs": []
    }
  ]
}