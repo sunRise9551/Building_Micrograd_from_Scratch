{
  "nbformat": 4,
  "nbformat_minor": 0,
  "metadata": {
    "colab": {
      "provenance": [],
      "toc_visible": true,
      "authorship_tag": "ABX9TyOOdy+hatse/061aiFKGsgu",
      "include_colab_link": true
    },
    "kernelspec": {
      "name": "python3",
      "display_name": "Python 3"
    },
    "language_info": {
      "name": "python"
    }
  },
  "cells": [
    {
      "cell_type": "markdown",
      "metadata": {
        "id": "view-in-github",
        "colab_type": "text"
      },
      "source": [
        "<a href=\"https://colab.research.google.com/github/sunRise9551/Building_Micrograd_from_Scratch/blob/main/Building_Micrograd_from_Scratch.ipynb\" target=\"_parent\"><img src=\"https://colab.research.google.com/assets/colab-badge.svg\" alt=\"Open In Colab\"/></a>"
      ]
    },
    {
      "cell_type": "markdown",
      "source": [],
      "metadata": {
        "id": "PtZkaoh-tnli"
      }
    },
    {
      "cell_type": "code",
      "execution_count": 1,
      "metadata": {
        "id": "hJGkhG86te4p"
      },
      "outputs": [],
      "source": [
        "import math\n",
        "import numpy as np\n",
        "import matplotlib.pyplot as plt\n",
        "%matplotlib inline"
      ]
    },
    {
      "cell_type": "markdown",
      "source": [
        "# Understand Concept of Derivative"
      ],
      "metadata": {
        "id": "6V7dvw6_um0n"
      }
    },
    {
      "cell_type": "markdown",
      "source": [
        "Let's say we have a function f(x)"
      ],
      "metadata": {
        "id": "t9ZLu4BXt_LP"
      }
    },
    {
      "cell_type": "code",
      "source": [
        "def f(x):\n",
        "  return 3*x**2 - 4*x + 5"
      ],
      "metadata": {
        "id": "S8ScBIN2t0_U"
      },
      "execution_count": 2,
      "outputs": []
    },
    {
      "cell_type": "code",
      "source": [
        "f(3.0)"
      ],
      "metadata": {
        "colab": {
          "base_uri": "https://localhost:8080/"
        },
        "id": "7sGhHskKt8bh",
        "outputId": "f2aa3610-60cd-4061-dd79-93d50f897a7b"
      },
      "execution_count": 3,
      "outputs": [
        {
          "output_type": "execute_result",
          "data": {
            "text/plain": [
              "20.0"
            ]
          },
          "metadata": {},
          "execution_count": 3
        }
      ]
    },
    {
      "cell_type": "code",
      "source": [
        "xs = np.arange(-5, 5, 0.25)\n",
        "ys = f(xs)\n",
        "plt.plot(xs, ys)"
      ],
      "metadata": {
        "colab": {
          "base_uri": "https://localhost:8080/",
          "height": 448
        },
        "id": "ky2mSOubt9aV",
        "outputId": "adb97faa-5859-4f25-8caf-7e05d9075f87"
      },
      "execution_count": 5,
      "outputs": [
        {
          "output_type": "execute_result",
          "data": {
            "text/plain": [
              "[<matplotlib.lines.Line2D at 0x7be2f9b7ec80>]"
            ]
          },
          "metadata": {},
          "execution_count": 5
        },
        {
          "output_type": "display_data",
          "data": {
            "text/plain": [
              "<Figure size 640x480 with 1 Axes>"
            ],
            "image/png": "[encoded data removed]"
          },
          "metadata": {}
        }
      ]
    },
    {
      "cell_type": "markdown",
      "source": [
        "# Calculate Simple Derivative"
      ],
      "metadata": {
        "id": "Ei8sSMOOULAf"
      }
    },
    {
      "cell_type": "markdown",
      "source": [
        "Let's say we want to calculate the derivative of:\n",
        "x with respect to f()"
      ],
      "metadata": {
        "id": "oReZ5AcXvOZv"
      }
    },
    {
      "cell_type": "code",
      "source": [
        "h = 0.000001 # represents a small increment for calculating the derivative\n",
        "x = 2/3 # the point of the above graph when x=2/3\n",
        "(f(x + h) - f(x)) / h # the slope of that point, which approximates the derivative"
      ],
      "metadata": {
        "colab": {
          "base_uri": "https://localhost:8080/"
        },
        "id": "ERr2fM_9uMGW",
        "outputId": "23e5f149-78c3-413f-a9dd-67af37de0cae"
      },
      "execution_count": 6,
      "outputs": [
        {
          "output_type": "execute_result",
          "data": {
            "text/plain": [
              "2.999378523327323e-06"
            ]
          },
          "metadata": {},
          "execution_count": 6
        }
      ]
    },
    {
      "cell_type": "markdown",
      "source": [
        "More complex function"
      ],
      "metadata": {
        "id": "Sk3LjtvIvTgO"
      }
    },
    {
      "cell_type": "code",
      "source": [
        "a = 2.0\n",
        "b = -3.0\n",
        "c = 10.0\n",
        "d = a*b + c\n",
        "print(d)"
      ],
      "metadata": {
        "colab": {
          "base_uri": "https://localhost:8080/"
        },
        "id": "CwoYxc2Qu2cR",
        "outputId": "5c358ca6-e9f4-4178-83b4-c7cf6eaa80af"
      },
      "execution_count": 7,
      "outputs": [
        {
          "output_type": "stream",
          "name": "stdout",
          "text": [
            "4.0\n"
          ]
        }
      ]
    },
    {
      "cell_type": "markdown",
      "source": [
        "We now have a function f(a*b + c)\n",
        "\n",
        "We want to calculate the derivative of:\n",
        "\n",
        "'a' with respect to 'f'\n",
        "\n",
        "'b' with respect to 'f'\n",
        "\n",
        "'c' with respect to 'f'\n",
        "\n",
        "So, We will bump tiny amount of h to 'a' 'b' 'c' each time and calculate their derivative"
      ],
      "metadata": {
        "id": "N2df2SVyxQyw"
      }
    },
    {
      "cell_type": "markdown",
      "source": [
        "### Derivative for 'a'"
      ],
      "metadata": {
        "id": "RJnTJJ-Qx669"
      }
    },
    {
      "cell_type": "code",
      "source": [
        "h = 0.0001\n",
        "\n",
        "# inputs\n",
        "a = 2.0\n",
        "b = -3.0\n",
        "c = 10.0\n",
        "\n",
        "d1 = a*b + c # computes the result before 'a' being increment\n",
        "a += h # increment 'a' by h amount\n",
        "d2 = a*b + c # computes the result after 'a' being increment\n",
        "\n",
        "print('d1', d1)\n",
        "print('d2', d2)\n",
        "print('slope', (d2 - d1)/h) # this is the derivative for 'a'"
      ],
      "metadata": {
        "colab": {
          "base_uri": "https://localhost:8080/"
        },
        "id": "uMBR0edKu92y",
        "outputId": "a1697d50-8078-45c2-a8ca-0e416bf3e17d"
      },
      "execution_count": 8,
      "outputs": [
        {
          "output_type": "stream",
          "name": "stdout",
          "text": [
            "d1 4.0\n",
            "d2 3.999699999999999\n",
            "slope -3.000000000010772\n"
          ]
        }
      ]
    },
    {
      "cell_type": "markdown",
      "source": [
        "## Derivative for 'b'"
      ],
      "metadata": {
        "id": "D_cbQVBkymRd"
      }
    },
    {
      "cell_type": "code",
      "source": [
        "h = 0.0001\n",
        "\n",
        "# inputs\n",
        "a = 2.0\n",
        "b = -3.0\n",
        "c = 10.0\n",
        "\n",
        "d1 = a*b + c # computes the result before 'b' being increment\n",
        "b += h # increment 'c' by h amount\n",
        "d2 = a*b + c # computes the result after 'b' being increment\n",
        "\n",
        "print('d1', d1)\n",
        "print('d2', d2)\n",
        "print('slope', (d2 - d1)/h) # this is the derivative for 'b'"
      ],
      "metadata": {
        "colab": {
          "base_uri": "https://localhost:8080/"
        },
        "id": "MvbBBfeIyfmx",
        "outputId": "228a0f09-4d5e-4deb-f67d-a14870c13a21"
      },
      "execution_count": 9,
      "outputs": [
        {
          "output_type": "stream",
          "name": "stdout",
          "text": [
            "d1 4.0\n",
            "d2 4.0002\n",
            "slope 2.0000000000042206\n"
          ]
        }
      ]
    },
    {
      "cell_type": "markdown",
      "source": [
        "## Derivative for 'c'"
      ],
      "metadata": {
        "id": "WMdLQPUNysne"
      }
    },
    {
      "cell_type": "code",
      "source": [
        "h = 0.0001\n",
        "\n",
        "# inputs\n",
        "a = 2.0\n",
        "b = -3.0\n",
        "c = 10.0\n",
        "\n",
        "d1 = a*b + c # computes the result before 'c' being increment\n",
        "c += h # increment 'c' by h amount\n",
        "d2 = a*b + c # computes the result after 'c' being increment\n",
        "\n",
        "print('d1', d1)\n",
        "print('d2', d2)\n",
        "print('slope', (d2 - d1)/h) # this is the derivative for 'c'"
      ],
      "metadata": {
        "colab": {
          "base_uri": "https://localhost:8080/"
        },
        "id": "tKuwpsu_yqtz",
        "outputId": "5ae855ea-c528-41a6-8651-4ab33d6d6bdc"
      },
      "execution_count": 10,
      "outputs": [
        {
          "output_type": "stream",
          "name": "stdout",
          "text": [
            "d1 4.0\n",
            "d2 4.0001\n",
            "slope 0.9999999999976694\n"
          ]
        }
      ]
    },
    {
      "cell_type": "markdown",
      "source": [
        "# Create Value Object"
      ],
      "metadata": {
        "id": "DzXq5BX8UVb4"
      }
    },
    {
      "cell_type": "markdown",
      "source": [
        "We have now understand how derivative works, we can then start working on creating Value object for micrograd"
      ],
      "metadata": {
        "id": "-uQ0JTZWzBNV"
      }
    },
    {
      "cell_type": "markdown",
      "source": [
        "## Operation Sum and Mul"
      ],
      "metadata": {
        "id": "zSL5ItyRUiHH"
      }
    },
    {
      "cell_type": "markdown",
      "source": [
        "Create a Value Object that can perform + and * operation"
      ],
      "metadata": {
        "id": "6EuRydaQzocO"
      }
    },
    {
      "cell_type": "code",
      "source": [
        "class Value:\n",
        "\n",
        "  def __init__(self, data):\n",
        "    self.data = data # store data\n",
        "\n",
        "  def __repr__(self): # function just to make python print nicer integer\n",
        "    return f\"Value(data={self.data})\"\n",
        "\n",
        "  def __add__(self, other):\n",
        "    out = Value(self.data + other.data) # Take in self.data + other.data\n",
        "    return out\n",
        "\n",
        "  def __mul__(self, other):\n",
        "    out = Value(self.data * other.data) # Take in self.data * other.data\n",
        "    return out"
      ],
      "metadata": {
        "id": "DgXDXk_1yzKo"
      },
      "execution_count": 16,
      "outputs": []
    },
    {
      "cell_type": "code",
      "source": [
        "a = Value(2.0)\n",
        "b = Value(-3.0)\n",
        "c = Value(10.0)\n",
        "\n",
        "print(a*b)\n",
        "print(a.__mul__(b)) # equivalent to this\n",
        "\n",
        "print(a*b + c)\n",
        "print((a.__mul__(b)).__add__(c)) # equivalent to this\n"
      ],
      "metadata": {
        "colab": {
          "base_uri": "https://localhost:8080/"
        },
        "id": "QUJAPGW4zmns",
        "outputId": "94cfc0a0-2b35-4acf-b5d4-f14d395d3f7d"
      },
      "execution_count": 20,
      "outputs": [
        {
          "output_type": "stream",
          "name": "stdout",
          "text": [
            "Value(data=-6.0)\n",
            "Value(data=-6.0)\n",
            "Value(data=4.0)\n",
            "Value(data=4.0)\n"
          ]
        }
      ]
    },
    {
      "cell_type": "markdown",
      "source": [
        "## Store Childs node"
      ],
      "metadata": {
        "id": "YpWsaMlaU0vR"
      }
    },
    {
      "cell_type": "markdown",
      "source": [
        "Create a variable to store its childs"
      ],
      "metadata": {
        "id": "6w_OM7U00xhH"
      }
    },
    {
      "cell_type": "markdown",
      "source": [
        "This is the concept:\n",
        "1. We will create a new variable 'a _children=()' tuple to store its parents\n",
        "2. When we are creating a Value, it will not store anything to the tuple\n",
        "3. When we are doing Addition or Multiplication, we will assign its parent to the tuple\n"
      ],
      "metadata": {
        "id": "IUFGJ4AL1KGF"
      }
    },
    {
      "cell_type": "code",
      "source": [
        "class Value:\n",
        "\n",
        "  def __init__(self, data, _children=()):\n",
        "    self.data = data # store data\n",
        "    self._prev = set(_children)\n",
        "\n",
        "  def __repr__(self): # function just to make python print nicer integer\n",
        "    return f\"Value(data={self.data})\"\n",
        "\n",
        "  def __add__(self, other):\n",
        "    out = Value(self.data + other.data,\n",
        "                (self, other) # Pass itself and other to the tuple\n",
        "                )\n",
        "    return out\n",
        "\n",
        "  def __mul__(self, other):\n",
        "    out = Value(self.data * other.data,\n",
        "                (self, other) # Pass itself and other to the tuple\n",
        "                )\n",
        "    return out"
      ],
      "metadata": {
        "id": "BlKYdZTh0KtT"
      },
      "execution_count": 21,
      "outputs": []
    },
    {
      "cell_type": "code",
      "source": [
        "a = Value(2.0)\n",
        "b = Value(-3.0)\n",
        "c = Value(10.0)\n",
        "\n",
        "d = a*b + c\n",
        "\n",
        "print(d._prev)\n",
        "\n",
        "# We can now see that the childrens for 'd' are (a*b) and (c)\n",
        "# (a*b) and (c)\n",
        "# (2.0*-3.0) and (10.0)\n",
        "# (-6.0) and (10.0)"
      ],
      "metadata": {
        "colab": {
          "base_uri": "https://localhost:8080/"
        },
        "id": "oa05sZ-d2TZt",
        "outputId": "123b3493-721e-4ee9-d347-6e3a2067b3cd"
      },
      "execution_count": 24,
      "outputs": [
        {
          "output_type": "stream",
          "name": "stdout",
          "text": [
            "{Value(data=-6.0), Value(data=10.0)}\n"
          ]
        }
      ]
    },
    {
      "cell_type": "markdown",
      "source": [
        "## Store Operations"
      ],
      "metadata": {
        "id": "YjsgPsGDU-oy"
      }
    },
    {
      "cell_type": "markdown",
      "source": [
        "Create a variable _op=' ' to store its operations"
      ],
      "metadata": {
        "id": "IPlySsbR3xdc"
      }
    },
    {
      "cell_type": "code",
      "source": [
        "class Value:\n",
        "\n",
        "  def __init__(self, data, _children=(), _op=''):\n",
        "    self.data = data # store data\n",
        "    self._prev = set(_children)\n",
        "    self._op = _op\n",
        "\n",
        "  def __repr__(self): # function just to make python print nicer integer\n",
        "    return f\"Value(data={self.data})\"\n",
        "\n",
        "  def __add__(self, other):\n",
        "    out = Value(self.data + other.data,\n",
        "                (self, other),\n",
        "                _op='+'\n",
        "                )\n",
        "    return out\n",
        "\n",
        "  def __mul__(self, other):\n",
        "    out = Value(self.data * other.data,\n",
        "                (self, other),\n",
        "                _op='*'\n",
        "                )\n",
        "    return out"
      ],
      "metadata": {
        "id": "PcpMPP-M2UYf"
      },
      "execution_count": 32,
      "outputs": []
    },
    {
      "cell_type": "code",
      "source": [
        "a = Value(2.0)\n",
        "b = Value(-3.0)\n",
        "c = Value(10.0)\n",
        "\n",
        "d = a*b + c\n",
        "\n",
        "print(d._op)\n",
        "# We can now know that the 'd' variable is compute by sum '+'"
      ],
      "metadata": {
        "colab": {
          "base_uri": "https://localhost:8080/"
        },
        "id": "ZqB5LHVo4PBN",
        "outputId": "5332e9bf-df2f-44d0-b632-69a864762fb9"
      },
      "execution_count": 34,
      "outputs": [
        {
          "output_type": "stream",
          "name": "stdout",
          "text": [
            "+\n"
          ]
        }
      ]
    },
    {
      "cell_type": "markdown",
      "source": [
        "# Visualize Structure"
      ],
      "metadata": {
        "id": "cC-g5JyaVFSY"
      }
    },
    {
      "cell_type": "markdown",
      "source": [
        "Visualize What we have done so far"
      ],
      "metadata": {
        "id": "QAyl5rCF5otE"
      }
    },
    {
      "cell_type": "code",
      "source": [
        "from graphviz import Digraph\n",
        "\n",
        "def trace(root):\n",
        "  # builds a set of all nodes and edges in a graph\n",
        "  nodes, edges = set(), set()\n",
        "  def build(v):\n",
        "    if v not in nodes:\n",
        "      nodes.add(v)\n",
        "      for child in v._prev:\n",
        "        edges.add((child, v))\n",
        "        build(child)\n",
        "  build(root)\n",
        "  return nodes, edges\n",
        "\n",
        "def draw_dot(root):\n",
        "  dot = Digraph(format='svg', graph_attr={'rankdir': 'LR'}) # LR = left to right\n",
        "\n",
        "  nodes, edges = trace(root)\n",
        "  for n in nodes:\n",
        "    uid = str(id(n))\n",
        "    # for any value in the graph, create a rectangular ('record') node for it\n",
        "\n",
        "    # -------------------------- No Label and Grad for Now --------------------------------------\n",
        "    # dot.node(name = uid, label = \"{ %s | data %.4f | grad %.4f }\" % (n.label, n.data, n.grad), shape='record')\n",
        "    dot.node(name = uid, label = \"{ data %.4f }\" % (n.data), shape='record')\n",
        "\n",
        "    if n._op:\n",
        "      # if this value is a result of some operation, create an op node for it\n",
        "      dot.node(name = uid + n._op, label=n._op)\n",
        "      # and connect this node to it\n",
        "      dot.edge(uid + n._op, uid)\n",
        "\n",
        "  for n1, n2 in edges:\n",
        "    # connect n1 to the op node of n2\n",
        "    dot.edge(str(id(n1)), str(id(n2)) + n2._op)\n",
        "\n",
        "  return dot"
      ],
      "metadata": {
        "id": "up3dUk6e4QQ0"
      },
      "execution_count": 41,
      "outputs": []
    },
    {
      "cell_type": "code",
      "source": [
        "draw_dot(d)"
      ],
      "metadata": {
        "colab": {
          "base_uri": "https://localhost:8080/",
          "height": 191
        },
        "id": "suqlfImQ5rju",
        "outputId": "c4833aeb-65fd-4b2b-f4c4-67d02c9aa7c4"
      },
      "execution_count": 42,
      "outputs": [
        {
          "output_type": "execute_result",
          "data": {
            "image/svg+xml": "<?xml version=\"1.0\" encoding=\"UTF-8\" standalone=\"no\"?>\n<!DOCTYPE svg PUBLIC \"-//W3C//DTD SVG 1.1//EN\"\n \"http://www.w3.org/Graphics/SVG/1.1/DTD/svg11.dtd\">\n<!-- Generated by graphviz version 2.43.0 (0)\n -->\n<!-- Title: %3 Pages: 1 -->\n<svg width=\"512pt\" height=\"128pt\"\n viewBox=\"0.00 0.00 512.00 128.00\" xmlns=\"http://www.w3.org/2000/svg\" xmlns:xlink=\"http://www.w3.org/1999/xlink\">\n<g id=\"graph0\" class=\"graph\" transform=\"scale(1 1) rotate(0) translate(4 124)\">\n<title>%3</title>\n<polygon fill=\"white\" stroke=\"transparent\" points=\"-4,4 -4,-124 508,-124 508,4 -4,4\"/>\n<!-- 136214382785104 -->\n<g id=\"node1\" class=\"node\">\n<title>136214382785104</title>\n<polygon fill=\"none\" stroke=\"black\" points=\"0,-83.5 0,-119.5 85,-119.5 85,-83.5 0,-83.5\"/>\n<text text-anchor=\"middle\" x=\"42.5\" y=\"-97.8\" font-family=\"Times,serif\" font-size=\"14.00\">data &#45;3.0000</text>\n</g>\n<!-- 136214382784720* -->\n<g id=\"node6\" class=\"node\">\n<title>136214382784720*</title>\n<ellipse fill=\"none\" stroke=\"black\" cx=\"148\" cy=\"-73.5\" rx=\"27\" ry=\"18\"/>\n<text text-anchor=\"middle\" x=\"148\" y=\"-69.8\" font-family=\"Times,serif\" font-size=\"14.00\">*</text>\n</g>\n<!-- 136214382785104&#45;&gt;136214382784720* -->\n<g id=\"edge3\" class=\"edge\">\n<title>136214382785104&#45;&gt;136214382784720*</title>\n<path fill=\"none\" stroke=\"black\" d=\"M85,-90.27C94.32,-87.75 104.1,-85.11 113.06,-82.68\"/>\n<polygon fill=\"black\" stroke=\"black\" points=\"114.03,-86.04 122.77,-80.05 112.2,-79.29 114.03,-86.04\"/>\n</g>\n<!-- 136214382779536 -->\n<g id=\"node2\" class=\"node\">\n<title>136214382779536</title>\n<polygon fill=\"none\" stroke=\"black\" points=\"2.5,-28.5 2.5,-64.5 82.5,-64.5 82.5,-28.5 2.5,-28.5\"/>\n<text text-anchor=\"middle\" x=\"42.5\" y=\"-42.8\" font-family=\"Times,serif\" font-size=\"14.00\">data 2.0000</text>\n</g>\n<!-- 136214382779536&#45;&gt;136214382784720* -->\n<g id=\"edge4\" class=\"edge\">\n<title>136214382779536&#45;&gt;136214382784720*</title>\n<path fill=\"none\" stroke=\"black\" d=\"M82.63,-56.71C92.47,-59.27 102.95,-62.01 112.54,-64.51\"/>\n<polygon fill=\"black\" stroke=\"black\" points=\"111.96,-67.98 122.52,-67.11 113.73,-61.2 111.96,-67.98\"/>\n</g>\n<!-- 136214382775984 -->\n<g id=\"node3\" class=\"node\">\n<title>136214382775984</title>\n<polygon fill=\"none\" stroke=\"black\" points=\"424,-27.5 424,-63.5 504,-63.5 504,-27.5 424,-27.5\"/>\n<text text-anchor=\"middle\" x=\"464\" y=\"-41.8\" font-family=\"Times,serif\" font-size=\"14.00\">data 4.0000</text>\n</g>\n<!-- 136214382775984+ -->\n<g id=\"node4\" class=\"node\">\n<title>136214382775984+</title>\n<ellipse fill=\"none\" stroke=\"black\" cx=\"361\" cy=\"-45.5\" rx=\"27\" ry=\"18\"/>\n<text text-anchor=\"middle\" x=\"361\" y=\"-41.8\" font-family=\"Times,serif\" font-size=\"14.00\">+</text>\n</g>\n<!-- 136214382775984+&#45;&gt;136214382775984 -->\n<g id=\"edge1\" class=\"edge\">\n<title>136214382775984+&#45;&gt;136214382775984</title>\n<path fill=\"none\" stroke=\"black\" d=\"M388.01,-45.5C395.82,-45.5 404.67,-45.5 413.48,-45.5\"/>\n<polygon fill=\"black\" stroke=\"black\" points=\"413.73,-49 423.73,-45.5 413.73,-42 413.73,-49\"/>\n</g>\n<!-- 136214382784720 -->\n<g id=\"node5\" class=\"node\">\n<title>136214382784720</title>\n<polygon fill=\"none\" stroke=\"black\" points=\"212,-55.5 212,-91.5 297,-91.5 297,-55.5 212,-55.5\"/>\n<text text-anchor=\"middle\" x=\"254.5\" y=\"-69.8\" font-family=\"Times,serif\" font-size=\"14.00\">data &#45;6.0000</text>\n</g>\n<!-- 136214382784720&#45;&gt;136214382775984+ -->\n<g id=\"edge6\" class=\"edge\">\n<title>136214382784720&#45;&gt;136214382775984+</title>\n<path fill=\"none\" stroke=\"black\" d=\"M297.1,-62.35C306.61,-59.8 316.62,-57.12 325.78,-54.67\"/>\n<polygon fill=\"black\" stroke=\"black\" points=\"326.94,-57.98 335.69,-52.01 325.12,-51.22 326.94,-57.98\"/>\n</g>\n<!-- 136214382784720*&#45;&gt;136214382784720 -->\n<g id=\"edge2\" class=\"edge\">\n<title>136214382784720*&#45;&gt;136214382784720</title>\n<path fill=\"none\" stroke=\"black\" d=\"M175.1,-73.5C183.27,-73.5 192.59,-73.5 201.88,-73.5\"/>\n<polygon fill=\"black\" stroke=\"black\" points=\"201.89,-77 211.89,-73.5 201.89,-70 201.89,-77\"/>\n</g>\n<!-- 136214382781888 -->\n<g id=\"node7\" class=\"node\">\n<title>136214382781888</title>\n<polygon fill=\"none\" stroke=\"black\" points=\"211,-0.5 211,-36.5 298,-36.5 298,-0.5 211,-0.5\"/>\n<text text-anchor=\"middle\" x=\"254.5\" y=\"-14.8\" font-family=\"Times,serif\" font-size=\"14.00\">data 10.0000</text>\n</g>\n<!-- 136214382781888&#45;&gt;136214382775984+ -->\n<g id=\"edge5\" class=\"edge\">\n<title>136214382781888&#45;&gt;136214382775984+</title>\n<path fill=\"none\" stroke=\"black\" d=\"M298,-29.48C307.18,-31.85 316.78,-34.33 325.6,-36.61\"/>\n<polygon fill=\"black\" stroke=\"black\" points=\"324.97,-40.07 335.53,-39.18 326.73,-33.29 324.97,-40.07\"/>\n</g>\n</g>\n</svg>\n",
            "text/plain": [
              "<graphviz.graphs.Digraph at 0x7be2e1e60340>"
            ]
          },
          "metadata": {},
          "execution_count": 42
        }
      ]
    },
    {
      "cell_type": "markdown",
      "source": [
        "## Create Label for Graph"
      ],
      "metadata": {
        "id": "MfDv52EJ68Yc"
      }
    },
    {
      "cell_type": "code",
      "source": [
        "class Value:\n",
        "\n",
        "  def __init__(self, data, _children=(), _op='', label=''):\n",
        "    self.data = data # store data\n",
        "    self._prev = set(_children)\n",
        "    self._op = _op\n",
        "    self.label = label\n",
        "\n",
        "  def __repr__(self): # function just to make python print nicer integer\n",
        "    return f\"Value(data={self.data})\"\n",
        "\n",
        "  def __add__(self, other):\n",
        "    out = Value(self.data + other.data,\n",
        "                (self, other),\n",
        "                _op='+'\n",
        "                )\n",
        "    return out\n",
        "\n",
        "  def __mul__(self, other):\n",
        "    out = Value(self.data * other.data,\n",
        "                (self, other),\n",
        "                _op='*'\n",
        "                )\n",
        "    return out"
      ],
      "metadata": {
        "id": "8xkwpUeB5vKo"
      },
      "execution_count": 43,
      "outputs": []
    },
    {
      "cell_type": "code",
      "source": [
        "a = Value(2.0, label='a')\n",
        "b = Value(-3.0, label='b')\n",
        "c = Value(10.0, label='c')\n",
        "\n",
        "e = a*b; e.label = 'e'\n",
        "d = e + c; d.label = 'd'"
      ],
      "metadata": {
        "id": "wBHhdnva7kq7"
      },
      "execution_count": 44,
      "outputs": []
    },
    {
      "cell_type": "markdown",
      "source": [
        "Visualize Label"
      ],
      "metadata": {
        "id": "NaVrLXEm8Izc"
      }
    },
    {
      "cell_type": "code",
      "source": [
        "from graphviz import Digraph\n",
        "\n",
        "def trace(root):\n",
        "  # builds a set of all nodes and edges in a graph\n",
        "  nodes, edges = set(), set()\n",
        "  def build(v):\n",
        "    if v not in nodes:\n",
        "      nodes.add(v)\n",
        "      for child in v._prev:\n",
        "        edges.add((child, v))\n",
        "        build(child)\n",
        "  build(root)\n",
        "  return nodes, edges\n",
        "\n",
        "def draw_dot(root):\n",
        "  dot = Digraph(format='svg', graph_attr={'rankdir': 'LR'}) # LR = left to right\n",
        "\n",
        "  nodes, edges = trace(root)\n",
        "  for n in nodes:\n",
        "    uid = str(id(n))\n",
        "    # for any value in the graph, create a rectangular ('record') node for it\n",
        "\n",
        "    # -------------------------- No Grad for Now --------------------------------------\n",
        "    # dot.node(name = uid, label = \"{ %s | data %.4f | grad %.4f }\" % (n.label, n.data, n.grad), shape='record')\n",
        "    dot.node(name = uid, label = \"{ %s | data %.4f }\" % (n.label, n.data), shape='record')\n",
        "\n",
        "    if n._op:\n",
        "      # if this value is a result of some operation, create an op node for it\n",
        "      dot.node(name = uid + n._op, label=n._op)\n",
        "      # and connect this node to it\n",
        "      dot.edge(uid + n._op, uid)\n",
        "\n",
        "  for n1, n2 in edges:\n",
        "    # connect n1 to the op node of n2\n",
        "    dot.edge(str(id(n1)), str(id(n2)) + n2._op)\n",
        "\n",
        "  return dot"
      ],
      "metadata": {
        "id": "CsUW2mSs7_98"
      },
      "execution_count": 57,
      "outputs": []
    },
    {
      "cell_type": "code",
      "source": [
        "draw_dot(d)"
      ],
      "metadata": {
        "colab": {
          "base_uri": "https://localhost:8080/",
          "height": 191
        },
        "id": "Cr5lzwYr8PV6",
        "outputId": "ce33f78b-25e0-47c7-9f3e-e6b4290b037a"
      },
      "execution_count": 58,
      "outputs": [
        {
          "output_type": "execute_result",
          "data": {
            "image/svg+xml": "<?xml version=\"1.0\" encoding=\"UTF-8\" standalone=\"no\"?>\n<!DOCTYPE svg PUBLIC \"-//W3C//DTD SVG 1.1//EN\"\n \"http://www.w3.org/Graphics/SVG/1.1/DTD/svg11.dtd\">\n<!-- Generated by graphviz version 2.43.0 (0)\n -->\n<!-- Title: %3 Pages: 1 -->\n<svg width=\"581pt\" height=\"128pt\"\n viewBox=\"0.00 0.00 581.00 128.00\" xmlns=\"http://www.w3.org/2000/svg\" xmlns:xlink=\"http://www.w3.org/1999/xlink\">\n<g id=\"graph0\" class=\"graph\" transform=\"scale(1 1) rotate(0) translate(4 124)\">\n<title>%3</title>\n<polygon fill=\"white\" stroke=\"transparent\" points=\"-4,4 -4,-124 577,-124 577,4 -4,4\"/>\n<!-- 136214382775360 -->\n<g id=\"node1\" class=\"node\">\n<title>136214382775360</title>\n<polygon fill=\"none\" stroke=\"black\" points=\"470,-27.5 470,-63.5 573,-63.5 573,-27.5 470,-27.5\"/>\n<text text-anchor=\"middle\" x=\"481.5\" y=\"-41.8\" font-family=\"Times,serif\" font-size=\"14.00\">d</text>\n<polyline fill=\"none\" stroke=\"black\" points=\"493,-27.5 493,-63.5 \"/>\n<text text-anchor=\"middle\" x=\"533\" y=\"-41.8\" font-family=\"Times,serif\" font-size=\"14.00\">data 4.0000</text>\n</g>\n<!-- 136214382775360+ -->\n<g id=\"node2\" class=\"node\">\n<title>136214382775360+</title>\n<ellipse fill=\"none\" stroke=\"black\" cx=\"407\" cy=\"-45.5\" rx=\"27\" ry=\"18\"/>\n<text text-anchor=\"middle\" x=\"407\" y=\"-41.8\" font-family=\"Times,serif\" font-size=\"14.00\">+</text>\n</g>\n<!-- 136214382775360+&#45;&gt;136214382775360 -->\n<g id=\"edge1\" class=\"edge\">\n<title>136214382775360+&#45;&gt;136214382775360</title>\n<path fill=\"none\" stroke=\"black\" d=\"M434.09,-45.5C441.83,-45.5 450.64,-45.5 459.61,-45.5\"/>\n<polygon fill=\"black\" stroke=\"black\" points=\"459.76,-49 469.76,-45.5 459.76,-42 459.76,-49\"/>\n</g>\n<!-- 136214382773440 -->\n<g id=\"node3\" class=\"node\">\n<title>136214382773440</title>\n<polygon fill=\"none\" stroke=\"black\" points=\"0,-83.5 0,-119.5 108,-119.5 108,-83.5 0,-83.5\"/>\n<text text-anchor=\"middle\" x=\"11.5\" y=\"-97.8\" font-family=\"Times,serif\" font-size=\"14.00\">b</text>\n<polyline fill=\"none\" stroke=\"black\" points=\"23,-83.5 23,-119.5 \"/>\n<text text-anchor=\"middle\" x=\"65.5\" y=\"-97.8\" font-family=\"Times,serif\" font-size=\"14.00\">data &#45;3.0000</text>\n</g>\n<!-- 136214382779776* -->\n<g id=\"node6\" class=\"node\">\n<title>136214382779776*</title>\n<ellipse fill=\"none\" stroke=\"black\" cx=\"171\" cy=\"-73.5\" rx=\"27\" ry=\"18\"/>\n<text text-anchor=\"middle\" x=\"171\" y=\"-69.8\" font-family=\"Times,serif\" font-size=\"14.00\">*</text>\n</g>\n<!-- 136214382773440&#45;&gt;136214382779776* -->\n<g id=\"edge4\" class=\"edge\">\n<title>136214382773440&#45;&gt;136214382779776*</title>\n<path fill=\"none\" stroke=\"black\" d=\"M108.12,-88.57C117.51,-86.28 127.06,-83.95 135.76,-81.84\"/>\n<polygon fill=\"black\" stroke=\"black\" points=\"136.62,-85.23 145.51,-79.46 134.97,-78.43 136.62,-85.23\"/>\n</g>\n<!-- 136214382774112 -->\n<g id=\"node4\" class=\"node\">\n<title>136214382774112</title>\n<polygon fill=\"none\" stroke=\"black\" points=\"2.5,-28.5 2.5,-64.5 105.5,-64.5 105.5,-28.5 2.5,-28.5\"/>\n<text text-anchor=\"middle\" x=\"14\" y=\"-42.8\" font-family=\"Times,serif\" font-size=\"14.00\">a</text>\n<polyline fill=\"none\" stroke=\"black\" points=\"25.5,-28.5 25.5,-64.5 \"/>\n<text text-anchor=\"middle\" x=\"65.5\" y=\"-42.8\" font-family=\"Times,serif\" font-size=\"14.00\">data 2.0000</text>\n</g>\n<!-- 136214382774112&#45;&gt;136214382779776* -->\n<g id=\"edge6\" class=\"edge\">\n<title>136214382774112&#45;&gt;136214382779776*</title>\n<path fill=\"none\" stroke=\"black\" d=\"M105.78,-58.42C115.74,-60.76 125.98,-63.17 135.28,-65.35\"/>\n<polygon fill=\"black\" stroke=\"black\" points=\"134.77,-68.82 145.3,-67.7 136.37,-62.01 134.77,-68.82\"/>\n</g>\n<!-- 136214382779776 -->\n<g id=\"node5\" class=\"node\">\n<title>136214382779776</title>\n<polygon fill=\"none\" stroke=\"black\" points=\"235,-55.5 235,-91.5 343,-91.5 343,-55.5 235,-55.5\"/>\n<text text-anchor=\"middle\" x=\"246.5\" y=\"-69.8\" font-family=\"Times,serif\" font-size=\"14.00\">e</text>\n<polyline fill=\"none\" stroke=\"black\" points=\"258,-55.5 258,-91.5 \"/>\n<text text-anchor=\"middle\" x=\"300.5\" y=\"-69.8\" font-family=\"Times,serif\" font-size=\"14.00\">data &#45;6.0000</text>\n</g>\n<!-- 136214382779776&#45;&gt;136214382775360+ -->\n<g id=\"edge3\" class=\"edge\">\n<title>136214382779776&#45;&gt;136214382775360+</title>\n<path fill=\"none\" stroke=\"black\" d=\"M343.25,-60.65C352.84,-58.33 362.6,-55.98 371.48,-53.83\"/>\n<polygon fill=\"black\" stroke=\"black\" points=\"372.54,-57.18 381.43,-51.43 370.89,-50.37 372.54,-57.18\"/>\n</g>\n<!-- 136214382779776*&#45;&gt;136214382779776 -->\n<g id=\"edge2\" class=\"edge\">\n<title>136214382779776*&#45;&gt;136214382779776</title>\n<path fill=\"none\" stroke=\"black\" d=\"M198.03,-73.5C206.08,-73.5 215.32,-73.5 224.74,-73.5\"/>\n<polygon fill=\"black\" stroke=\"black\" points=\"224.99,-77 234.99,-73.5 224.99,-70 224.99,-77\"/>\n</g>\n<!-- 136214382772672 -->\n<g id=\"node7\" class=\"node\">\n<title>136214382772672</title>\n<polygon fill=\"none\" stroke=\"black\" points=\"234,-0.5 234,-36.5 344,-36.5 344,-0.5 234,-0.5\"/>\n<text text-anchor=\"middle\" x=\"245.5\" y=\"-14.8\" font-family=\"Times,serif\" font-size=\"14.00\">c</text>\n<polyline fill=\"none\" stroke=\"black\" points=\"257,-0.5 257,-36.5 \"/>\n<text text-anchor=\"middle\" x=\"300.5\" y=\"-14.8\" font-family=\"Times,serif\" font-size=\"14.00\">data 10.0000</text>\n</g>\n<!-- 136214382772672&#45;&gt;136214382775360+ -->\n<g id=\"edge5\" class=\"edge\">\n<title>136214382772672&#45;&gt;136214382775360+</title>\n<path fill=\"none\" stroke=\"black\" d=\"M344.26,-31.13C353.49,-33.28 362.84,-35.45 371.37,-37.44\"/>\n<polygon fill=\"black\" stroke=\"black\" points=\"370.79,-40.9 381.32,-39.76 372.38,-34.08 370.79,-40.9\"/>\n</g>\n</g>\n</svg>\n",
            "text/plain": [
              "<graphviz.graphs.Digraph at 0x7be2e1bb7ac0>"
            ]
          },
          "metadata": {},
          "execution_count": 58
        }
      ]
    },
    {
      "cell_type": "markdown",
      "source": [
        "Let's make another variable L to be the last output"
      ],
      "metadata": {
        "id": "OOe0ejSz86Ms"
      }
    },
    {
      "cell_type": "code",
      "source": [
        "a = Value(2.0, label='a')\n",
        "b = Value(-3.0, label='b')\n",
        "c = Value(10.0, label='c')\n",
        "\n",
        "e = a*b; e.label = 'e'\n",
        "d = e + c; d.label = 'd'\n",
        "\n",
        "f = Value(-2.0, label='f')\n",
        "L = d * f; L.label = 'L'\n",
        "L"
      ],
      "metadata": {
        "colab": {
          "base_uri": "https://localhost:8080/"
        },
        "id": "QTq9tVQN8P14",
        "outputId": "72f7772d-018b-4183-8335-5a31f56a1300"
      },
      "execution_count": 63,
      "outputs": [
        {
          "output_type": "execute_result",
          "data": {
            "text/plain": [
              "Value(data=-8.0)"
            ]
          },
          "metadata": {},
          "execution_count": 63
        }
      ]
    },
    {
      "cell_type": "code",
      "source": [
        "draw_dot(L)"
      ],
      "metadata": {
        "colab": {
          "base_uri": "https://localhost:8080/",
          "height": 229
        },
        "id": "O7HmPyIX9T6t",
        "outputId": "0d0b91e3-3349-46a8-f760-a280723646d0"
      },
      "execution_count": 64,
      "outputs": [
        {
          "output_type": "execute_result",
          "data": {
            "image/svg+xml": "<?xml version=\"1.0\" encoding=\"UTF-8\" standalone=\"no\"?>\n<!DOCTYPE svg PUBLIC \"-//W3C//DTD SVG 1.1//EN\"\n \"http://www.w3.org/Graphics/SVG/1.1/DTD/svg11.dtd\">\n<!-- Generated by graphviz version 2.43.0 (0)\n -->\n<!-- Title: %3 Pages: 1 -->\n<svg width=\"820pt\" height=\"156pt\"\n viewBox=\"0.00 0.00 820.00 156.00\" xmlns=\"http://www.w3.org/2000/svg\" xmlns:xlink=\"http://www.w3.org/1999/xlink\">\n<g id=\"graph0\" class=\"graph\" transform=\"scale(1 1) rotate(0) translate(4 152)\">\n<title>%3</title>\n<polygon fill=\"white\" stroke=\"transparent\" points=\"-4,4 -4,-152 816,-152 816,4 -4,4\"/>\n<!-- 136214382780448 -->\n<g id=\"node1\" class=\"node\">\n<title>136214382780448</title>\n<polygon fill=\"none\" stroke=\"black\" points=\"0,-111.5 0,-147.5 108,-147.5 108,-111.5 0,-111.5\"/>\n<text text-anchor=\"middle\" x=\"11.5\" y=\"-125.8\" font-family=\"Times,serif\" font-size=\"14.00\">b</text>\n<polyline fill=\"none\" stroke=\"black\" points=\"23,-111.5 23,-147.5 \"/>\n<text text-anchor=\"middle\" x=\"65.5\" y=\"-125.8\" font-family=\"Times,serif\" font-size=\"14.00\">data &#45;3.0000</text>\n</g>\n<!-- 136214382773344* -->\n<g id=\"node5\" class=\"node\">\n<title>136214382773344*</title>\n<ellipse fill=\"none\" stroke=\"black\" cx=\"171\" cy=\"-101.5\" rx=\"27\" ry=\"18\"/>\n<text text-anchor=\"middle\" x=\"171\" y=\"-97.8\" font-family=\"Times,serif\" font-size=\"14.00\">*</text>\n</g>\n<!-- 136214382780448&#45;&gt;136214382773344* -->\n<g id=\"edge5\" class=\"edge\">\n<title>136214382780448&#45;&gt;136214382773344*</title>\n<path fill=\"none\" stroke=\"black\" d=\"M108.12,-116.57C117.51,-114.28 127.06,-111.95 135.76,-109.84\"/>\n<polygon fill=\"black\" stroke=\"black\" points=\"136.62,-113.23 145.51,-107.46 134.97,-106.43 136.62,-113.23\"/>\n</g>\n<!-- 136214382777376 -->\n<g id=\"node2\" class=\"node\">\n<title>136214382777376</title>\n<polygon fill=\"none\" stroke=\"black\" points=\"471.5,-55.5 471.5,-91.5 574.5,-91.5 574.5,-55.5 471.5,-55.5\"/>\n<text text-anchor=\"middle\" x=\"483\" y=\"-69.8\" font-family=\"Times,serif\" font-size=\"14.00\">d</text>\n<polyline fill=\"none\" stroke=\"black\" points=\"494.5,-55.5 494.5,-91.5 \"/>\n<text text-anchor=\"middle\" x=\"534.5\" y=\"-69.8\" font-family=\"Times,serif\" font-size=\"14.00\">data 4.0000</text>\n</g>\n<!-- 136214382775648* -->\n<g id=\"node8\" class=\"node\">\n<title>136214382775648*</title>\n<ellipse fill=\"none\" stroke=\"black\" cx=\"639\" cy=\"-45.5\" rx=\"27\" ry=\"18\"/>\n<text text-anchor=\"middle\" x=\"639\" y=\"-41.8\" font-family=\"Times,serif\" font-size=\"14.00\">*</text>\n</g>\n<!-- 136214382777376&#45;&gt;136214382775648* -->\n<g id=\"edge7\" class=\"edge\">\n<title>136214382777376&#45;&gt;136214382775648*</title>\n<path fill=\"none\" stroke=\"black\" d=\"M574.67,-61.06C584.43,-58.66 594.45,-56.2 603.55,-53.96\"/>\n<polygon fill=\"black\" stroke=\"black\" points=\"604.5,-57.33 613.37,-51.55 602.83,-50.54 604.5,-57.33\"/>\n</g>\n<!-- 136214382777376+ -->\n<g id=\"node3\" class=\"node\">\n<title>136214382777376+</title>\n<ellipse fill=\"none\" stroke=\"black\" cx=\"407\" cy=\"-73.5\" rx=\"27\" ry=\"18\"/>\n<text text-anchor=\"middle\" x=\"407\" y=\"-69.8\" font-family=\"Times,serif\" font-size=\"14.00\">+</text>\n</g>\n<!-- 136214382777376+&#45;&gt;136214382777376 -->\n<g id=\"edge1\" class=\"edge\">\n<title>136214382777376+&#45;&gt;136214382777376</title>\n<path fill=\"none\" stroke=\"black\" d=\"M434.15,-73.5C442.26,-73.5 451.57,-73.5 461.02,-73.5\"/>\n<polygon fill=\"black\" stroke=\"black\" points=\"461.28,-77 471.28,-73.5 461.28,-70 461.28,-77\"/>\n</g>\n<!-- 136214382773344 -->\n<g id=\"node4\" class=\"node\">\n<title>136214382773344</title>\n<polygon fill=\"none\" stroke=\"black\" points=\"235,-83.5 235,-119.5 343,-119.5 343,-83.5 235,-83.5\"/>\n<text text-anchor=\"middle\" x=\"246.5\" y=\"-97.8\" font-family=\"Times,serif\" font-size=\"14.00\">e</text>\n<polyline fill=\"none\" stroke=\"black\" points=\"258,-83.5 258,-119.5 \"/>\n<text text-anchor=\"middle\" x=\"300.5\" y=\"-97.8\" font-family=\"Times,serif\" font-size=\"14.00\">data &#45;6.0000</text>\n</g>\n<!-- 136214382773344&#45;&gt;136214382777376+ -->\n<g id=\"edge9\" class=\"edge\">\n<title>136214382773344&#45;&gt;136214382777376+</title>\n<path fill=\"none\" stroke=\"black\" d=\"M343.25,-88.65C352.84,-86.33 362.6,-83.98 371.48,-81.83\"/>\n<polygon fill=\"black\" stroke=\"black\" points=\"372.54,-85.18 381.43,-79.43 370.89,-78.37 372.54,-85.18\"/>\n</g>\n<!-- 136214382773344*&#45;&gt;136214382773344 -->\n<g id=\"edge2\" class=\"edge\">\n<title>136214382773344*&#45;&gt;136214382773344</title>\n<path fill=\"none\" stroke=\"black\" d=\"M198.03,-101.5C206.08,-101.5 215.32,-101.5 224.74,-101.5\"/>\n<polygon fill=\"black\" stroke=\"black\" points=\"224.99,-105 234.99,-101.5 224.99,-98 224.99,-105\"/>\n</g>\n<!-- 136214382787888 -->\n<g id=\"node6\" class=\"node\">\n<title>136214382787888</title>\n<polygon fill=\"none\" stroke=\"black\" points=\"470,-0.5 470,-36.5 576,-36.5 576,-0.5 470,-0.5\"/>\n<text text-anchor=\"middle\" x=\"480.5\" y=\"-14.8\" font-family=\"Times,serif\" font-size=\"14.00\">f</text>\n<polyline fill=\"none\" stroke=\"black\" points=\"491,-0.5 491,-36.5 \"/>\n<text text-anchor=\"middle\" x=\"533.5\" y=\"-14.8\" font-family=\"Times,serif\" font-size=\"14.00\">data &#45;2.0000</text>\n</g>\n<!-- 136214382787888&#45;&gt;136214382775648* -->\n<g id=\"edge8\" class=\"edge\">\n<title>136214382787888&#45;&gt;136214382775648*</title>\n<path fill=\"none\" stroke=\"black\" d=\"M576.33,-30.89C585.48,-33.06 594.8,-35.27 603.33,-37.29\"/>\n<polygon fill=\"black\" stroke=\"black\" points=\"602.73,-40.74 613.27,-39.64 604.34,-33.93 602.73,-40.74\"/>\n</g>\n<!-- 136214382775648 -->\n<g id=\"node7\" class=\"node\">\n<title>136214382775648</title>\n<polygon fill=\"none\" stroke=\"black\" points=\"702,-27.5 702,-63.5 812,-63.5 812,-27.5 702,-27.5\"/>\n<text text-anchor=\"middle\" x=\"714.5\" y=\"-41.8\" font-family=\"Times,serif\" font-size=\"14.00\">L</text>\n<polyline fill=\"none\" stroke=\"black\" points=\"727,-27.5 727,-63.5 \"/>\n<text text-anchor=\"middle\" x=\"769.5\" y=\"-41.8\" font-family=\"Times,serif\" font-size=\"14.00\">data &#45;8.0000</text>\n</g>\n<!-- 136214382775648*&#45;&gt;136214382775648 -->\n<g id=\"edge3\" class=\"edge\">\n<title>136214382775648*&#45;&gt;136214382775648</title>\n<path fill=\"none\" stroke=\"black\" d=\"M666.03,-45.5C673.7,-45.5 682.45,-45.5 691.42,-45.5\"/>\n<polygon fill=\"black\" stroke=\"black\" points=\"691.58,-49 701.58,-45.5 691.58,-42 691.58,-49\"/>\n</g>\n<!-- 136214382773680 -->\n<g id=\"node9\" class=\"node\">\n<title>136214382773680</title>\n<polygon fill=\"none\" stroke=\"black\" points=\"2.5,-56.5 2.5,-92.5 105.5,-92.5 105.5,-56.5 2.5,-56.5\"/>\n<text text-anchor=\"middle\" x=\"14\" y=\"-70.8\" font-family=\"Times,serif\" font-size=\"14.00\">a</text>\n<polyline fill=\"none\" stroke=\"black\" points=\"25.5,-56.5 25.5,-92.5 \"/>\n<text text-anchor=\"middle\" x=\"65.5\" y=\"-70.8\" font-family=\"Times,serif\" font-size=\"14.00\">data 2.0000</text>\n</g>\n<!-- 136214382773680&#45;&gt;136214382773344* -->\n<g id=\"edge6\" class=\"edge\">\n<title>136214382773680&#45;&gt;136214382773344*</title>\n<path fill=\"none\" stroke=\"black\" d=\"M105.78,-86.42C115.74,-88.76 125.98,-91.17 135.28,-93.35\"/>\n<polygon fill=\"black\" stroke=\"black\" points=\"134.77,-96.82 145.3,-95.7 136.37,-90.01 134.77,-96.82\"/>\n</g>\n<!-- 136214382786016 -->\n<g id=\"node10\" class=\"node\">\n<title>136214382786016</title>\n<polygon fill=\"none\" stroke=\"black\" points=\"234,-28.5 234,-64.5 344,-64.5 344,-28.5 234,-28.5\"/>\n<text text-anchor=\"middle\" x=\"245.5\" y=\"-42.8\" font-family=\"Times,serif\" font-size=\"14.00\">c</text>\n<polyline fill=\"none\" stroke=\"black\" points=\"257,-28.5 257,-64.5 \"/>\n<text text-anchor=\"middle\" x=\"300.5\" y=\"-42.8\" font-family=\"Times,serif\" font-size=\"14.00\">data 10.0000</text>\n</g>\n<!-- 136214382786016&#45;&gt;136214382777376+ -->\n<g id=\"edge4\" class=\"edge\">\n<title>136214382786016&#45;&gt;136214382777376+</title>\n<path fill=\"none\" stroke=\"black\" d=\"M344.26,-59.13C353.49,-61.28 362.84,-63.45 371.37,-65.44\"/>\n<polygon fill=\"black\" stroke=\"black\" points=\"370.79,-68.9 381.32,-67.76 372.38,-62.08 370.79,-68.9\"/>\n</g>\n</g>\n</svg>\n",
            "text/plain": [
              "<graphviz.graphs.Digraph at 0x7be2e1e61270>"
            ]
          },
          "metadata": {},
          "execution_count": 64
        }
      ]
    },
    {
      "cell_type": "markdown",
      "source": [
        "## Create Gradient for Graph"
      ],
      "metadata": {
        "id": "vZh4R87B-gkk"
      }
    },
    {
      "cell_type": "markdown",
      "source": [
        "The concept:\n",
        "\n",
        "We will now need to put in grad into our current Value object structure.\n",
        "\n",
        "Grad will calculate the derivative\n",
        "\n",
        "Grad will initially be 0, because we need to assume that every single value will not affect the Output"
      ],
      "metadata": {
        "id": "BEBe3kXd-jNF"
      }
    },
    {
      "cell_type": "code",
      "source": [
        "class Value:\n",
        "\n",
        "  def __init__(self, data, _children=(), _op='', label=''):\n",
        "    self.data = data\n",
        "    self.grad = 0 # gradient will initially be 0\n",
        "    self._prev = set(_children)\n",
        "    self._op = _op\n",
        "    self.label = label\n",
        "\n",
        "  def __repr__(self):\n",
        "    return f\"Value(data={self.data})\"\n",
        "\n",
        "  def __add__(self, other):\n",
        "    out = Value(self.data + other.data,\n",
        "                (self, other),\n",
        "                _op='+'\n",
        "                )\n",
        "    return out\n",
        "\n",
        "  def __mul__(self, other):\n",
        "    out = Value(self.data * other.data,\n",
        "                (self, other),\n",
        "                _op='*'\n",
        "                )\n",
        "    return out"
      ],
      "metadata": {
        "id": "CCmx9Zca9Von"
      },
      "execution_count": 65,
      "outputs": []
    },
    {
      "cell_type": "markdown",
      "source": [
        "Update our Visualize code, include grad"
      ],
      "metadata": {
        "id": "rlI1uvS3_N1b"
      }
    },
    {
      "cell_type": "code",
      "source": [
        "from graphviz import Digraph\n",
        "\n",
        "def trace(root):\n",
        "  # builds a set of all nodes and edges in a graph\n",
        "  nodes, edges = set(), set()\n",
        "  def build(v):\n",
        "    if v not in nodes:\n",
        "      nodes.add(v)\n",
        "      for child in v._prev:\n",
        "        edges.add((child, v))\n",
        "        build(child)\n",
        "  build(root)\n",
        "  return nodes, edges\n",
        "\n",
        "def draw_dot(root):\n",
        "  dot = Digraph(format='svg', graph_attr={'rankdir': 'LR'}) # LR = left to right\n",
        "\n",
        "  nodes, edges = trace(root)\n",
        "  for n in nodes:\n",
        "    uid = str(id(n))\n",
        "    # for any value in the graph, create a rectangular ('record') node for it\n",
        "\n",
        "    # -------------------------- Include Grad, Label, Data --------------------------------------\n",
        "    dot.node(name = uid, label = \"{ %s | data %.4f | grad %.4f }\" % (n.label, n.data, n.grad), shape='record')\n",
        "\n",
        "    if n._op:\n",
        "      # if this value is a result of some operation, create an op node for it\n",
        "      dot.node(name = uid + n._op, label=n._op)\n",
        "      # and connect this node to it\n",
        "      dot.edge(uid + n._op, uid)\n",
        "\n",
        "  for n1, n2 in edges:\n",
        "    # connect n1 to the op node of n2\n",
        "    dot.edge(str(id(n1)), str(id(n2)) + n2._op)\n",
        "\n",
        "  return dot"
      ],
      "metadata": {
        "id": "xsEO4NM4_NS7"
      },
      "execution_count": 66,
      "outputs": []
    },
    {
      "cell_type": "code",
      "source": [
        "a = Value(2.0, label='a')\n",
        "b = Value(-3.0, label='b')\n",
        "c = Value(10.0, label='c')\n",
        "\n",
        "e = a*b; e.label = 'e'\n",
        "d = e + c; d.label = 'd'\n",
        "\n",
        "f = Value(-2.0, label='f')\n",
        "L = d * f; L.label = 'L'\n",
        "L"
      ],
      "metadata": {
        "colab": {
          "base_uri": "https://localhost:8080/"
        },
        "id": "wE-qcX0y_qYr",
        "outputId": "81d0f527-4878-4c72-fc7b-5a4c9aa264b2"
      },
      "execution_count": 69,
      "outputs": [
        {
          "output_type": "execute_result",
          "data": {
            "text/plain": [
              "Value(data=-8.0)"
            ]
          },
          "metadata": {},
          "execution_count": 69
        }
      ]
    },
    {
      "cell_type": "code",
      "source": [
        "draw_dot(L)"
      ],
      "metadata": {
        "colab": {
          "base_uri": "https://localhost:8080/",
          "height": 249
        },
        "id": "gaUfVVer_auT",
        "outputId": "3a523112-f86d-4f11-f76c-ae14f64c1bee"
      },
      "execution_count": 70,
      "outputs": [
        {
          "output_type": "execute_result",
          "data": {
            "image/svg+xml": "<?xml version=\"1.0\" encoding=\"UTF-8\" standalone=\"no\"?>\n<!DOCTYPE svg PUBLIC \"-//W3C//DTD SVG 1.1//EN\"\n \"http://www.w3.org/Graphics/SVG/1.1/DTD/svg11.dtd\">\n<!-- Generated by graphviz version 2.43.0 (0)\n -->\n<!-- Title: %3 Pages: 1 -->\n<svg width=\"1148pt\" height=\"156pt\"\n viewBox=\"0.00 0.00 1148.00 156.00\" xmlns=\"http://www.w3.org/2000/svg\" xmlns:xlink=\"http://www.w3.org/1999/xlink\">\n<g id=\"graph0\" class=\"graph\" transform=\"scale(1 1) rotate(0) translate(4 152)\">\n<title>%3</title>\n<polygon fill=\"white\" stroke=\"transparent\" points=\"-4,4 -4,-152 1144,-152 1144,4 -4,4\"/>\n<!-- 136214382787600 -->\n<g id=\"node1\" class=\"node\">\n<title>136214382787600</title>\n<polygon fill=\"none\" stroke=\"black\" points=\"0,-111.5 0,-147.5 190,-147.5 190,-111.5 0,-111.5\"/>\n<text text-anchor=\"middle\" x=\"11.5\" y=\"-125.8\" font-family=\"Times,serif\" font-size=\"14.00\">b</text>\n<polyline fill=\"none\" stroke=\"black\" points=\"23,-111.5 23,-147.5 \"/>\n<text text-anchor=\"middle\" x=\"65.5\" y=\"-125.8\" font-family=\"Times,serif\" font-size=\"14.00\">data &#45;3.0000</text>\n<polyline fill=\"none\" stroke=\"black\" points=\"108,-111.5 108,-147.5 \"/>\n<text text-anchor=\"middle\" x=\"149\" y=\"-125.8\" font-family=\"Times,serif\" font-size=\"14.00\">grad 0.0000</text>\n</g>\n<!-- 136214382780352* -->\n<g id=\"node8\" class=\"node\">\n<title>136214382780352*</title>\n<ellipse fill=\"none\" stroke=\"black\" cx=\"253\" cy=\"-101.5\" rx=\"27\" ry=\"18\"/>\n<text text-anchor=\"middle\" x=\"253\" y=\"-97.8\" font-family=\"Times,serif\" font-size=\"14.00\">*</text>\n</g>\n<!-- 136214382787600&#45;&gt;136214382780352* -->\n<g id=\"edge6\" class=\"edge\">\n<title>136214382787600&#45;&gt;136214382780352*</title>\n<path fill=\"none\" stroke=\"black\" d=\"M190.34,-112.57C199.62,-110.9 208.58,-109.29 216.66,-107.84\"/>\n<polygon fill=\"black\" stroke=\"black\" points=\"217.49,-111.25 226.72,-106.04 216.26,-104.36 217.49,-111.25\"/>\n</g>\n<!-- 136214382782512 -->\n<g id=\"node2\" class=\"node\">\n<title>136214382782512</title>\n<polygon fill=\"none\" stroke=\"black\" points=\"2.5,-56.5 2.5,-92.5 187.5,-92.5 187.5,-56.5 2.5,-56.5\"/>\n<text text-anchor=\"middle\" x=\"14\" y=\"-70.8\" font-family=\"Times,serif\" font-size=\"14.00\">a</text>\n<polyline fill=\"none\" stroke=\"black\" points=\"25.5,-56.5 25.5,-92.5 \"/>\n<text text-anchor=\"middle\" x=\"65.5\" y=\"-70.8\" font-family=\"Times,serif\" font-size=\"14.00\">data 2.0000</text>\n<polyline fill=\"none\" stroke=\"black\" points=\"105.5,-56.5 105.5,-92.5 \"/>\n<text text-anchor=\"middle\" x=\"146.5\" y=\"-70.8\" font-family=\"Times,serif\" font-size=\"14.00\">grad 0.0000</text>\n</g>\n<!-- 136214382782512&#45;&gt;136214382780352* -->\n<g id=\"edge5\" class=\"edge\">\n<title>136214382782512&#45;&gt;136214382780352*</title>\n<path fill=\"none\" stroke=\"black\" d=\"M187.65,-90.36C197.94,-92.14 207.91,-93.87 216.81,-95.41\"/>\n<polygon fill=\"black\" stroke=\"black\" points=\"216.26,-98.87 226.71,-97.12 217.45,-91.97 216.26,-98.87\"/>\n</g>\n<!-- 136214382773872 -->\n<g id=\"node3\" class=\"node\">\n<title>136214382773872</title>\n<polygon fill=\"none\" stroke=\"black\" points=\"634,-0.5 634,-36.5 822,-36.5 822,-0.5 634,-0.5\"/>\n<text text-anchor=\"middle\" x=\"644.5\" y=\"-14.8\" font-family=\"Times,serif\" font-size=\"14.00\">f</text>\n<polyline fill=\"none\" stroke=\"black\" points=\"655,-0.5 655,-36.5 \"/>\n<text text-anchor=\"middle\" x=\"697.5\" y=\"-14.8\" font-family=\"Times,serif\" font-size=\"14.00\">data &#45;2.0000</text>\n<polyline fill=\"none\" stroke=\"black\" points=\"740,-0.5 740,-36.5 \"/>\n<text text-anchor=\"middle\" x=\"781\" y=\"-14.8\" font-family=\"Times,serif\" font-size=\"14.00\">grad 0.0000</text>\n</g>\n<!-- 136214382774400* -->\n<g id=\"node5\" class=\"node\">\n<title>136214382774400*</title>\n<ellipse fill=\"none\" stroke=\"black\" cx=\"885\" cy=\"-45.5\" rx=\"27\" ry=\"18\"/>\n<text text-anchor=\"middle\" x=\"885\" y=\"-41.8\" font-family=\"Times,serif\" font-size=\"14.00\">*</text>\n</g>\n<!-- 136214382773872&#45;&gt;136214382774400* -->\n<g id=\"edge8\" class=\"edge\">\n<title>136214382773872&#45;&gt;136214382774400*</title>\n<path fill=\"none\" stroke=\"black\" d=\"M822.29,-34.75C831.57,-36.37 840.52,-37.93 848.61,-39.33\"/>\n<polygon fill=\"black\" stroke=\"black\" points=\"848.22,-42.82 858.68,-41.09 849.42,-35.92 848.22,-42.82\"/>\n</g>\n<!-- 136214382774400 -->\n<g id=\"node4\" class=\"node\">\n<title>136214382774400</title>\n<polygon fill=\"none\" stroke=\"black\" points=\"948,-27.5 948,-63.5 1140,-63.5 1140,-27.5 948,-27.5\"/>\n<text text-anchor=\"middle\" x=\"960.5\" y=\"-41.8\" font-family=\"Times,serif\" font-size=\"14.00\">L</text>\n<polyline fill=\"none\" stroke=\"black\" points=\"973,-27.5 973,-63.5 \"/>\n<text text-anchor=\"middle\" x=\"1015.5\" y=\"-41.8\" font-family=\"Times,serif\" font-size=\"14.00\">data &#45;8.0000</text>\n<polyline fill=\"none\" stroke=\"black\" points=\"1058,-27.5 1058,-63.5 \"/>\n<text text-anchor=\"middle\" x=\"1099\" y=\"-41.8\" font-family=\"Times,serif\" font-size=\"14.00\">grad 0.0000</text>\n</g>\n<!-- 136214382774400*&#45;&gt;136214382774400 -->\n<g id=\"edge1\" class=\"edge\">\n<title>136214382774400*&#45;&gt;136214382774400</title>\n<path fill=\"none\" stroke=\"black\" d=\"M912.28,-45.5C919.78,-45.5 928.44,-45.5 937.67,-45.5\"/>\n<polygon fill=\"black\" stroke=\"black\" points=\"937.87,-49 947.87,-45.5 937.87,-42 937.87,-49\"/>\n</g>\n<!-- 136214382773104 -->\n<g id=\"node6\" class=\"node\">\n<title>136214382773104</title>\n<polygon fill=\"none\" stroke=\"black\" points=\"316,-28.5 316,-64.5 508,-64.5 508,-28.5 316,-28.5\"/>\n<text text-anchor=\"middle\" x=\"327.5\" y=\"-42.8\" font-family=\"Times,serif\" font-size=\"14.00\">c</text>\n<polyline fill=\"none\" stroke=\"black\" points=\"339,-28.5 339,-64.5 \"/>\n<text text-anchor=\"middle\" x=\"382.5\" y=\"-42.8\" font-family=\"Times,serif\" font-size=\"14.00\">data 10.0000</text>\n<polyline fill=\"none\" stroke=\"black\" points=\"426,-28.5 426,-64.5 \"/>\n<text text-anchor=\"middle\" x=\"467\" y=\"-42.8\" font-family=\"Times,serif\" font-size=\"14.00\">grad 0.0000</text>\n</g>\n<!-- 136214382784480+ -->\n<g id=\"node10\" class=\"node\">\n<title>136214382784480+</title>\n<ellipse fill=\"none\" stroke=\"black\" cx=\"571\" cy=\"-73.5\" rx=\"27\" ry=\"18\"/>\n<text text-anchor=\"middle\" x=\"571\" y=\"-69.8\" font-family=\"Times,serif\" font-size=\"14.00\">+</text>\n</g>\n<!-- 136214382773104&#45;&gt;136214382784480+ -->\n<g id=\"edge7\" class=\"edge\">\n<title>136214382773104&#45;&gt;136214382784480+</title>\n<path fill=\"none\" stroke=\"black\" d=\"M508.4,-62.91C517.69,-64.5 526.64,-66.04 534.71,-67.43\"/>\n<polygon fill=\"black\" stroke=\"black\" points=\"534.32,-70.91 544.76,-69.16 535.5,-64.02 534.32,-70.91\"/>\n</g>\n<!-- 136214382780352 -->\n<g id=\"node7\" class=\"node\">\n<title>136214382780352</title>\n<polygon fill=\"none\" stroke=\"black\" points=\"317,-83.5 317,-119.5 507,-119.5 507,-83.5 317,-83.5\"/>\n<text text-anchor=\"middle\" x=\"328.5\" y=\"-97.8\" font-family=\"Times,serif\" font-size=\"14.00\">e</text>\n<polyline fill=\"none\" stroke=\"black\" points=\"340,-83.5 340,-119.5 \"/>\n<text text-anchor=\"middle\" x=\"382.5\" y=\"-97.8\" font-family=\"Times,serif\" font-size=\"14.00\">data &#45;6.0000</text>\n<polyline fill=\"none\" stroke=\"black\" points=\"425,-83.5 425,-119.5 \"/>\n<text text-anchor=\"middle\" x=\"466\" y=\"-97.8\" font-family=\"Times,serif\" font-size=\"14.00\">grad 0.0000</text>\n</g>\n<!-- 136214382780352&#45;&gt;136214382784480+ -->\n<g id=\"edge9\" class=\"edge\">\n<title>136214382780352&#45;&gt;136214382784480+</title>\n<path fill=\"none\" stroke=\"black\" d=\"M507.05,-84.73C516.89,-82.97 526.39,-81.28 534.9,-79.76\"/>\n<polygon fill=\"black\" stroke=\"black\" points=\"535.52,-83.2 544.75,-78 534.29,-76.31 535.52,-83.2\"/>\n</g>\n<!-- 136214382780352*&#45;&gt;136214382780352 -->\n<g id=\"edge2\" class=\"edge\">\n<title>136214382780352*&#45;&gt;136214382780352</title>\n<path fill=\"none\" stroke=\"black\" d=\"M280.28,-101.5C288.05,-101.5 297.08,-101.5 306.68,-101.5\"/>\n<polygon fill=\"black\" stroke=\"black\" points=\"306.88,-105 316.88,-101.5 306.88,-98 306.88,-105\"/>\n</g>\n<!-- 136214382784480 -->\n<g id=\"node9\" class=\"node\">\n<title>136214382784480</title>\n<polygon fill=\"none\" stroke=\"black\" points=\"635.5,-55.5 635.5,-91.5 820.5,-91.5 820.5,-55.5 635.5,-55.5\"/>\n<text text-anchor=\"middle\" x=\"647\" y=\"-69.8\" font-family=\"Times,serif\" font-size=\"14.00\">d</text>\n<polyline fill=\"none\" stroke=\"black\" points=\"658.5,-55.5 658.5,-91.5 \"/>\n<text text-anchor=\"middle\" x=\"698.5\" y=\"-69.8\" font-family=\"Times,serif\" font-size=\"14.00\">data 4.0000</text>\n<polyline fill=\"none\" stroke=\"black\" points=\"738.5,-55.5 738.5,-91.5 \"/>\n<text text-anchor=\"middle\" x=\"779.5\" y=\"-69.8\" font-family=\"Times,serif\" font-size=\"14.00\">grad 0.0000</text>\n</g>\n<!-- 136214382784480&#45;&gt;136214382774400* -->\n<g id=\"edge4\" class=\"edge\">\n<title>136214382784480&#45;&gt;136214382774400*</title>\n<path fill=\"none\" stroke=\"black\" d=\"M820.51,-56.97C830.48,-55.17 840.13,-53.42 848.77,-51.86\"/>\n<polygon fill=\"black\" stroke=\"black\" points=\"849.55,-55.28 858.77,-50.06 848.3,-48.39 849.55,-55.28\"/>\n</g>\n<!-- 136214382784480+&#45;&gt;136214382784480 -->\n<g id=\"edge3\" class=\"edge\">\n<title>136214382784480+&#45;&gt;136214382784480</title>\n<path fill=\"none\" stroke=\"black\" d=\"M598.29,-73.5C606.26,-73.5 615.54,-73.5 625.39,-73.5\"/>\n<polygon fill=\"black\" stroke=\"black\" points=\"625.41,-77 635.41,-73.5 625.41,-70 625.41,-77\"/>\n</g>\n</g>\n</svg>\n",
            "text/plain": [
              "<graphviz.graphs.Digraph at 0x7be2e1e60100>"
            ]
          },
          "metadata": {},
          "execution_count": 70
        }
      ]
    },
    {
      "cell_type": "markdown",
      "source": [
        "# Calculate Gradient (manually)"
      ],
      "metadata": {
        "id": "gR6h4lMeAk96"
      }
    },
    {
      "cell_type": "markdown",
      "source": [
        "Calculate Derivative of L with respect to L"
      ],
      "metadata": {
        "id": "c_8znB2aAH8k"
      }
    },
    {
      "cell_type": "markdown",
      "source": [
        "![image.png](data:image/png;base64,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)"
      ],
      "metadata": {
        "id": "xcIy3yu6ALiL"
      }
    },
    {
      "cell_type": "code",
      "source": [
        "# We create this function is just to not mess up the Global variables.\n",
        "def lol():\n",
        "\n",
        "  h = 0.0001\n",
        "\n",
        "  # Without Increment of h\n",
        "  a = Value(2.0, label='a')\n",
        "  b = Value(-3.0, label='b')\n",
        "  c = Value(10.0, label='c')\n",
        "  e = a*b; e.label = 'e'\n",
        "  d = e + c; d.label = 'd'\n",
        "  f = Value(-2.0, label='f')\n",
        "  L = d * f; L.label = 'L'\n",
        "  L1 = L.data\n",
        "\n",
        "  # With Increment of h\n",
        "  a = Value(2.0, label='a')\n",
        "  b = Value(-3.0, label='b')\n",
        "  c = Value(10.0, label='c')\n",
        "  e = a*b; e.label = 'e'\n",
        "  d = e + c; d.label = 'd'\n",
        "  f = Value(-2.0, label='f')\n",
        "  L = d * f; L.label = 'L'\n",
        "  L2 = L.data + h # we increment h to L\n",
        "\n",
        "  print((L2 - L1) / h)\n",
        "\n",
        "lol()"
      ],
      "metadata": {
        "colab": {
          "base_uri": "https://localhost:8080/"
        },
        "id": "mXZKvrDF_YV-",
        "outputId": "2ae5b73e-0db5-410c-f4a3-71f6353a496b"
      },
      "execution_count": 71,
      "outputs": [
        {
          "output_type": "stream",
          "name": "stdout",
          "text": [
            "0.9999999999976694\n"
          ]
        }
      ]
    },
    {
      "cell_type": "markdown",
      "source": [
        "## Calculate dL/dd"
      ],
      "metadata": {
        "id": "Wt50k8fJBxM7"
      }
    },
    {
      "cell_type": "markdown",
      "source": [
        "![image.png](data:image/png;base64,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)"
      ],
      "metadata": {
        "id": "IMDlkJx2B8BD"
      }
    },
    {
      "cell_type": "code",
      "source": [
        "# We now know that:\n",
        "# L = d * f\n",
        "\n",
        "# If we want to calculate the derivative will be:\n",
        "# dL/dd = ?\n",
        "\n",
        "# We apply the calculus properties thingi:\n",
        "# = (f(x + h) - f(x)) / h\n",
        "# = ((d + h)*f - d * f) / h\n",
        "# = (d*f + h*f - d * f) / h\n",
        "# = (h*f) / h\n",
        "# = f\n",
        "\n",
        "# dL/dd = -2.0\n",
        "# So, gradient for d is -2.0\n",
        "# because f is equal to -2.0"
      ],
      "metadata": {
        "id": "EJTr9Xr4OAgY"
      },
      "execution_count": null,
      "outputs": []
    },
    {
      "cell_type": "code",
      "source": [
        "d.grad = -2.0"
      ],
      "metadata": {
        "id": "i6eIyihHBp-2"
      },
      "execution_count": 75,
      "outputs": []
    },
    {
      "cell_type": "markdown",
      "source": [
        "Let's Verify"
      ],
      "metadata": {
        "id": "eIjp4oqSNVpo"
      }
    },
    {
      "cell_type": "code",
      "source": [
        "# We create this function is just to not mess up the Global variables.\n",
        "def lol():\n",
        "\n",
        "  h = 0.0001\n",
        "\n",
        "  # Without Increment of h\n",
        "  a = Value(2.0, label='a')\n",
        "  b = Value(-3.0, label='b')\n",
        "  c = Value(10.0, label='c')\n",
        "  e = a*b; e.label = 'e'\n",
        "  d = e + c; d.label = 'd'\n",
        "  f = Value(-2.0, label='f')\n",
        "  L = d * f; L.label = 'L'\n",
        "  L1 = L.data\n",
        "\n",
        "  # With Increment of h\n",
        "  a = Value(2.0, label='a')\n",
        "  b = Value(-3.0, label='b')\n",
        "  c = Value(10.0, label='c')\n",
        "  e = a*b; e.label = 'e'\n",
        "  d = e + c; d.label = 'd'\n",
        "  d.data += h # we increment h to d\n",
        "  f = Value(-2.0, label='f')\n",
        "  L = d * f; L.label = 'L'\n",
        "  L2 = L.data\n",
        "\n",
        "  print((L2 - L1) / h)\n",
        "\n",
        "lol()"
      ],
      "metadata": {
        "colab": {
          "base_uri": "https://localhost:8080/"
        },
        "id": "4oBs7xrzNVQK",
        "outputId": "c6779b1d-4846-4a59-9e4e-74b255910aac"
      },
      "execution_count": 80,
      "outputs": [
        {
          "output_type": "stream",
          "name": "stdout",
          "text": [
            "-1.9999999999953388\n"
          ]
        }
      ]
    },
    {
      "cell_type": "markdown",
      "source": [
        "## Calculate dL/df"
      ],
      "metadata": {
        "id": "WruAghokD4Yk"
      }
    },
    {
      "cell_type": "markdown",
      "source": [
        "![image.png](data:image/png;base64,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)"
      ],
      "metadata": {
        "id": "J0623z12En_U"
      }
    },
    {
      "cell_type": "code",
      "source": [
        "# We now know that:\n",
        "# L = d * f\n",
        "\n",
        "# If we want to calculate the derivative will be:\n",
        "# dL/df = ?\n",
        "\n",
        "# We apply the calculus properties thingi:\n",
        "# = (f(x + h) - f(x)) / h\n",
        "# = (d*(f + h) - d * f) / h\n",
        "# = (d*f + d*h - d * f) / h\n",
        "# = (d*h) / h\n",
        "# = d\n",
        "\n",
        "# dL/df = 4.0\n",
        "# So, gradient for f is 4.0\n",
        "# because d is equal to 4.0"
      ],
      "metadata": {
        "id": "IlddgLVDPZig"
      },
      "execution_count": null,
      "outputs": []
    },
    {
      "cell_type": "code",
      "source": [
        "f.grad = 4.0"
      ],
      "metadata": {
        "id": "AlvWjdzFD1_V"
      },
      "execution_count": 81,
      "outputs": []
    },
    {
      "cell_type": "markdown",
      "source": [
        "Let's Verify"
      ],
      "metadata": {
        "id": "U7BHkM-EPhJ3"
      }
    },
    {
      "cell_type": "code",
      "source": [
        "# We create this function is just to not mess up the Global variables.\n",
        "def lol():\n",
        "\n",
        "  h = 0.0001\n",
        "\n",
        "  # Without Increment of h\n",
        "  a = Value(2.0, label='a')\n",
        "  b = Value(-3.0, label='b')\n",
        "  c = Value(10.0, label='c')\n",
        "  e = a*b; e.label = 'e'\n",
        "  d = e + c; d.label = 'd'\n",
        "  f = Value(-2.0, label='f')\n",
        "  L = d * f; L.label = 'L'\n",
        "  L1 = L.data\n",
        "\n",
        "  # With Increment of h\n",
        "  a = Value(2.0, label='a')\n",
        "  b = Value(-3.0, label='b')\n",
        "  c = Value(10.0, label='c')\n",
        "  e = a*b; e.label = 'e'\n",
        "  d = e + c; d.label = 'd'\n",
        "  f = Value(-2.0 + h, label='f')  # we increment h to f\n",
        "  L = d * f; L.label = 'L'\n",
        "  L2 = L.data\n",
        "\n",
        "  print((L2 - L1) / h)\n",
        "\n",
        "lol()"
      ],
      "metadata": {
        "colab": {
          "base_uri": "https://localhost:8080/"
        },
        "id": "T1_3Ahp7Mcd9",
        "outputId": "e230d653-8382-46d6-9923-56504ce91503"
      },
      "execution_count": 82,
      "outputs": [
        {
          "output_type": "stream",
          "name": "stdout",
          "text": [
            "3.9999999999995595\n"
          ]
        }
      ]
    },
    {
      "cell_type": "markdown",
      "source": [
        "## Calculate dL/de"
      ],
      "metadata": {
        "id": "W_0AZSP_QByX"
      }
    },
    {
      "cell_type": "markdown",
      "source": [
        "![image.png](data:image/png;base64,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)"
      ],
      "metadata": {
        "id": "DdY3461PQO5I"
      }
    },
    {
      "cell_type": "code",
      "source": [
        "# (Chain Rule)\n",
        "\n",
        "# We know that:\n",
        "# L = d * f\n",
        "# d = e + c (Local)\n",
        "\n",
        "# (Local Derivative)\n",
        "# If we want to calculate the derivative will be:\n",
        "# dd/de = ?\n",
        "\n",
        "# We apply the calculus properties thingi:\n",
        "# = (f(x + h) - f(x)) / h\n",
        "# = ((e+h + c) - (e + c)) / h\n",
        "# = (e + h + c - e - c) / h\n",
        "# = h / h\n",
        "# = 1.0\n",
        "\n",
        "# dd/de = 1.0\n",
        "# This is the derivative for dd/de, but we are not done yet!"
      ],
      "metadata": {
        "id": "KGzriDOZPmtM"
      },
      "execution_count": 84,
      "outputs": []
    },
    {
      "cell_type": "code",
      "source": [
        "# Now\n",
        "\n",
        "# Want:\n",
        "# dL/de\n",
        "\n",
        "# Know:\n",
        "# dd/de and dL/dd\n",
        "\n",
        "# So, we can apply the chain rule\n",
        "# dL/de = (dL/dd)*(dd/de)\n",
        "# dL/de = (-2.0)*(1.0)\n",
        "# dL/de = -2.0\n",
        "\n",
        "# So, gradient for e is -2.0"
      ],
      "metadata": {
        "id": "4R-zUyq_Vux9"
      },
      "execution_count": 85,
      "outputs": []
    },
    {
      "cell_type": "code",
      "source": [
        "e.grad = -2.0"
      ],
      "metadata": {
        "id": "W5DL8JGNWcAk"
      },
      "execution_count": 97,
      "outputs": []
    },
    {
      "cell_type": "markdown",
      "source": [
        "Let's Verify"
      ],
      "metadata": {
        "id": "IiRuMpkCaQSw"
      }
    },
    {
      "cell_type": "code",
      "source": [
        "# We create this function is just to not mess up the Global variables.\n",
        "def lol():\n",
        "\n",
        "  h = 0.0001\n",
        "\n",
        "  # Without Increment of h\n",
        "  a = Value(2.0, label='a')\n",
        "  b = Value(-3.0, label='b')\n",
        "  c = Value(10.0, label='c')\n",
        "  e = a*b; e.label = 'e'\n",
        "  d = e + c; d.label = 'd'\n",
        "  f = Value(-2.0, label='f')\n",
        "  L = d * f; L.label = 'L'\n",
        "  L1 = L.data\n",
        "\n",
        "  # With Increment of h\n",
        "  a = Value(2.0, label='a')\n",
        "  b = Value(-3.0, label='b')\n",
        "  c = Value(10.0, label='c')\n",
        "  e = a*b; e.label = 'e'\n",
        "  e.data += h # we increment h to e\n",
        "  d = e + c; d.label = 'd'\n",
        "  f = Value(-2.0, label='f')\n",
        "  L = d * f; L.label = 'L'\n",
        "  L2 = L.data\n",
        "\n",
        "  print((L2 - L1) / h)\n",
        "\n",
        "lol()"
      ],
      "metadata": {
        "colab": {
          "base_uri": "https://localhost:8080/"
        },
        "id": "_H1jwPOGaPDc",
        "outputId": "3e6a95f7-01e1-4b1f-88f0-4dfdd4dc0205"
      },
      "execution_count": 87,
      "outputs": [
        {
          "output_type": "stream",
          "name": "stdout",
          "text": [
            "-1.9999999999953388\n"
          ]
        }
      ]
    },
    {
      "cell_type": "markdown",
      "source": [
        "## Calculate dL/dc"
      ],
      "metadata": {
        "id": "FnYvkIJZacnW"
      }
    },
    {
      "cell_type": "markdown",
      "source": [
        "![image.png](data:image/png;base64,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)"
      ],
      "metadata": {
        "id": "jOFWevHbajhu"
      }
    },
    {
      "cell_type": "code",
      "source": [
        "# (Chain Rule)\n",
        "\n",
        "# We know that:\n",
        "# L = d * f\n",
        "# d = e + c (Local)\n",
        "\n",
        "# (Local Derivative)\n",
        "# If we want to calculate the derivative will be:\n",
        "# dd/dc = ?\n",
        "\n",
        "# We apply the calculus properties thingi:\n",
        "# = (f(x + h) - f(x)) / h\n",
        "# = ((e + c+h) - (e + c)) / h\n",
        "# = (e + c + h - e - c) / h\n",
        "# = h / h\n",
        "# = 1.0\n",
        "\n",
        "# dd/dc = 1.0\n",
        "# This is the derivative for dd/dc, but we are not done yet!"
      ],
      "metadata": {
        "id": "EPOmJWqMaa62"
      },
      "execution_count": 88,
      "outputs": []
    },
    {
      "cell_type": "code",
      "source": [
        "# Now\n",
        "\n",
        "# Want:\n",
        "# dL/dc\n",
        "\n",
        "# Know:\n",
        "# dd/dc and dL/dd\n",
        "\n",
        "# So, we can apply the chain rule\n",
        "# dL/dc = (dL/dd)*(dd/dc)\n",
        "# dL/dc = (-2.0)*(1.0)\n",
        "# dL/dc = -2.0\n",
        "\n",
        "# So, gradient for c is -2.0"
      ],
      "metadata": {
        "id": "jtclx2xUa9OT"
      },
      "execution_count": null,
      "outputs": []
    },
    {
      "cell_type": "code",
      "source": [
        "c.grad = -2.0"
      ],
      "metadata": {
        "id": "m4WU_TVsbdbY"
      },
      "execution_count": null,
      "outputs": []
    },
    {
      "cell_type": "markdown",
      "source": [
        "Let's Verify"
      ],
      "metadata": {
        "id": "FoFG0dTAbgQV"
      }
    },
    {
      "cell_type": "code",
      "source": [
        "# We create this function is just to not mess up the Global variables.\n",
        "def lol():\n",
        "\n",
        "  h = 0.0001\n",
        "\n",
        "  # Without Increment of h\n",
        "  a = Value(2.0, label='a')\n",
        "  b = Value(-3.0, label='b')\n",
        "  c = Value(10.0, label='c')\n",
        "  e = a*b; e.label = 'e'\n",
        "  d = e + c; d.label = 'd'\n",
        "  f = Value(-2.0, label='f')\n",
        "  L = d * f; L.label = 'L'\n",
        "  L1 = L.data\n",
        "\n",
        "  # With Increment of h\n",
        "  a = Value(2.0, label='a')\n",
        "  b = Value(-3.0, label='b')\n",
        "  c = Value(10.0 + h, label='c') # we increment h to c\n",
        "  e = a*b; e.label = 'e'\n",
        "  d = e + c; d.label = 'd'\n",
        "  f = Value(-2.0, label='f')\n",
        "  L = d * f; L.label = 'L'\n",
        "  L2 = L.data\n",
        "\n",
        "  print((L2 - L1) / h)\n",
        "\n",
        "lol()"
      ],
      "metadata": {
        "colab": {
          "base_uri": "https://localhost:8080/"
        },
        "id": "o6yYEVuGbhS4",
        "outputId": "d249d49c-34f6-4688-f4d5-d0cc2f563c1a"
      },
      "execution_count": 89,
      "outputs": [
        {
          "output_type": "stream",
          "name": "stdout",
          "text": [
            "-1.9999999999953388\n"
          ]
        }
      ]
    },
    {
      "cell_type": "markdown",
      "source": [
        "## Calculate dL/db"
      ],
      "metadata": {
        "id": "s4fVPXCtbzcA"
      }
    },
    {
      "cell_type": "markdown",
      "source": [
        "![image.png](data:image/png;base64,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)"
      ],
      "metadata": {
        "id": "UmUtd5zEb04O"
      }
    },
    {
      "cell_type": "code",
      "source": [
        "# (Chain Rule)\n",
        "\n",
        "# We know that:\n",
        "# L = d * f\n",
        "# d = e + c\n",
        "# e = b * a (Local)\n",
        "\n",
        "# (Local Derivative)\n",
        "# If we want to calculate the derivative will be:\n",
        "# de/db = ?\n",
        "\n",
        "# We apply the calculus properties thingi:\n",
        "# = (f(x + h) - f(x)) / h\n",
        "# = ((b+h)*a - b*a) / h\n",
        "# = (b*a + h*a - b*a) / h\n",
        "# = (h*a) / h\n",
        "# = a\n",
        "\n",
        "# de/db = a\n",
        "# de/db = 2.0\n",
        "# This is the derivative for de/db, but we are not done yet!"
      ],
      "metadata": {
        "id": "V1H0nRoPbkyc"
      },
      "execution_count": null,
      "outputs": []
    },
    {
      "cell_type": "code",
      "source": [
        "# Now\n",
        "\n",
        "# Want:\n",
        "# dL/db\n",
        "\n",
        "# Know:\n",
        "# dL/de and de/db\n",
        "\n",
        "# So, we can apply the chain rule\n",
        "# dL/de = (dL/de)*(de/db)\n",
        "# dL/de = (-2.0)*(2.0)\n",
        "# dL/de = -4.0\n",
        "\n",
        "# So, gradient for e is -4.0"
      ],
      "metadata": {
        "id": "l7Sl3nh1cJuG"
      },
      "execution_count": null,
      "outputs": []
    },
    {
      "cell_type": "code",
      "source": [
        "b.grad = -4.0"
      ],
      "metadata": {
        "id": "SHjBNTXGgci-"
      },
      "execution_count": 96,
      "outputs": []
    },
    {
      "cell_type": "markdown",
      "source": [
        "Let's Verify"
      ],
      "metadata": {
        "id": "fTS3NLevgPHu"
      }
    },
    {
      "cell_type": "code",
      "source": [
        "# We create this function is just to not mess up the Global variables.\n",
        "def lol():\n",
        "\n",
        "  h = 0.0001\n",
        "\n",
        "  # Without Increment of h\n",
        "  a = Value(2.0, label='a')\n",
        "  b = Value(-3.0, label='b')\n",
        "  c = Value(10.0, label='c')\n",
        "  e = a*b; e.label = 'e'\n",
        "  d = e + c; d.label = 'd'\n",
        "  f = Value(-2.0, label='f')\n",
        "  L = d * f; L.label = 'L'\n",
        "  L1 = L.data\n",
        "\n",
        "  # With Increment of h\n",
        "  a = Value(2.0, label='a')\n",
        "  b = Value(-3.0 + h, label='b') # we increment h to b\n",
        "  c = Value(10.0, label='c')\n",
        "  e = a*b; e.label = 'e'\n",
        "  d = e + c; d.label = 'd'\n",
        "  f = Value(-2.0, label='f')\n",
        "  L = d * f; L.label = 'L'\n",
        "  L2 = L.data\n",
        "\n",
        "  print((L2 - L1) / h)\n",
        "\n",
        "lol()"
      ],
      "metadata": {
        "colab": {
          "base_uri": "https://localhost:8080/"
        },
        "id": "csqo6ZzGgPaJ",
        "outputId": "0eb9861a-8be2-4ce6-f03f-797ec9a272a8"
      },
      "execution_count": 91,
      "outputs": [
        {
          "output_type": "stream",
          "name": "stdout",
          "text": [
            "-4.000000000008441\n"
          ]
        }
      ]
    },
    {
      "cell_type": "markdown",
      "source": [
        "## Calculate dL/da"
      ],
      "metadata": {
        "id": "VKkShd-jgg10"
      }
    },
    {
      "cell_type": "markdown",
      "source": [
        "![image.png](data:image/png;base64,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)"
      ],
      "metadata": {
        "id": "FO0MuM4_glZ6"
      }
    },
    {
      "cell_type": "code",
      "source": [
        "# (Chain Rule)\n",
        "\n",
        "# We know that:\n",
        "# L = d * f\n",
        "# d = e + c\n",
        "# e = b * a (Local)\n",
        "\n",
        "# (Local Derivative)\n",
        "# If we want to calculate the derivative will be:\n",
        "# de/da = ?\n",
        "\n",
        "# We apply the calculus properties thingi:\n",
        "# = (f(x + h) - f(x)) / h\n",
        "# = (b*(a+h) - b*a) / h\n",
        "# = (b*a + h*b - b*a) / h\n",
        "# = (h*b) / h\n",
        "# = b\n",
        "\n",
        "# de/da = b\n",
        "# de/da = -3.0\n",
        "# This is the derivative for de/da, but we are not done yet!"
      ],
      "metadata": {
        "id": "gYbwcUzbgWkE"
      },
      "execution_count": null,
      "outputs": []
    },
    {
      "cell_type": "code",
      "source": [
        "# Now\n",
        "\n",
        "# Want:\n",
        "# dL/da\n",
        "\n",
        "# Know:\n",
        "# dL/de and de/da\n",
        "\n",
        "# So, we can apply the chain rule\n",
        "# dL/da = (dL/de)*(de/da)\n",
        "# dL/da = (-2.0)*(-3.0)\n",
        "# dL/da = 6.0\n",
        "\n",
        "# So, gradient for a is 6.0"
      ],
      "metadata": {
        "id": "UcpYcHJQhB11"
      },
      "execution_count": null,
      "outputs": []
    },
    {
      "cell_type": "code",
      "source": [
        "a.grad = 6.0"
      ],
      "metadata": {
        "id": "TXJN2oNRhL-d"
      },
      "execution_count": 93,
      "outputs": []
    },
    {
      "cell_type": "markdown",
      "source": [
        "Let's Verify"
      ],
      "metadata": {
        "id": "KsFRh9hPhKu2"
      }
    },
    {
      "cell_type": "code",
      "source": [
        "# We create this function is just to not mess up the Global variables.\n",
        "def lol():\n",
        "\n",
        "  h = 0.0001\n",
        "\n",
        "  # Without Increment of h\n",
        "  a = Value(2.0, label='a')\n",
        "  b = Value(-3.0, label='b')\n",
        "  c = Value(10.0, label='c')\n",
        "  e = a*b; e.label = 'e'\n",
        "  d = e + c; d.label = 'd'\n",
        "  f = Value(-2.0, label='f')\n",
        "  L = d * f; L.label = 'L'\n",
        "  L1 = L.data\n",
        "\n",
        "  # With Increment of h\n",
        "  a = Value(2.0 + h, label='a') # we increment h to a\n",
        "  b = Value(-3.0, label='b')\n",
        "  c = Value(10.0, label='c')\n",
        "  e = a*b; e.label = 'e'\n",
        "  d = e + c; d.label = 'd'\n",
        "  f = Value(-2.0, label='f')\n",
        "  L = d * f; L.label = 'L'\n",
        "  L2 = L.data\n",
        "\n",
        "  print((L2 - L1) / h)\n",
        "\n",
        "lol()"
      ],
      "metadata": {
        "colab": {
          "base_uri": "https://localhost:8080/"
        },
        "id": "GV8lfWizhRzd",
        "outputId": "1b71fef3-1127-4822-8af2-d2d0b58c3733"
      },
      "execution_count": 94,
      "outputs": [
        {
          "output_type": "stream",
          "name": "stdout",
          "text": [
            "6.000000000021544\n"
          ]
        }
      ]
    },
    {
      "cell_type": "markdown",
      "source": [
        "## Visualize All Derivative"
      ],
      "metadata": {
        "id": "tFtHEpNnhjr0"
      }
    },
    {
      "cell_type": "markdown",
      "source": [
        "We have now done all of the backpropagation ! Yay!"
      ],
      "metadata": {
        "id": "ebs2zIf6hyRN"
      }
    },
    {
      "cell_type": "code",
      "source": [
        "draw_dot(L)"
      ],
      "metadata": {
        "colab": {
          "base_uri": "https://localhost:8080/",
          "height": 249
        },
        "id": "Jv5vNZ2bhVP1",
        "outputId": "939f6117-344c-42c6-a929-9c7b08cbf6c2"
      },
      "execution_count": 98,
      "outputs": [
        {
          "output_type": "execute_result",
          "data": {
            "image/svg+xml": "<?xml version=\"1.0\" encoding=\"UTF-8\" standalone=\"no\"?>\n<!DOCTYPE svg PUBLIC \"-//W3C//DTD SVG 1.1//EN\"\n \"http://www.w3.org/Graphics/SVG/1.1/DTD/svg11.dtd\">\n<!-- Generated by graphviz version 2.43.0 (0)\n -->\n<!-- Title: %3 Pages: 1 -->\n<svg width=\"1154pt\" height=\"156pt\"\n viewBox=\"0.00 0.00 1154.00 156.00\" xmlns=\"http://www.w3.org/2000/svg\" xmlns:xlink=\"http://www.w3.org/1999/xlink\">\n<g id=\"graph0\" class=\"graph\" transform=\"scale(1 1) rotate(0) translate(4 152)\">\n<title>%3</title>\n<polygon fill=\"white\" stroke=\"transparent\" points=\"-4,4 -4,-152 1150,-152 1150,4 -4,4\"/>\n<!-- 136214382787600 -->\n<g id=\"node1\" class=\"node\">\n<title>136214382787600</title>\n<polygon fill=\"none\" stroke=\"black\" points=\"0,-111.5 0,-147.5 194,-147.5 194,-111.5 0,-111.5\"/>\n<text text-anchor=\"middle\" x=\"11.5\" y=\"-125.8\" font-family=\"Times,serif\" font-size=\"14.00\">b</text>\n<polyline fill=\"none\" stroke=\"black\" points=\"23,-111.5 23,-147.5 \"/>\n<text text-anchor=\"middle\" x=\"65.5\" y=\"-125.8\" font-family=\"Times,serif\" font-size=\"14.00\">data &#45;3.0000</text>\n<polyline fill=\"none\" stroke=\"black\" points=\"108,-111.5 108,-147.5 \"/>\n<text text-anchor=\"middle\" x=\"151\" y=\"-125.8\" font-family=\"Times,serif\" font-size=\"14.00\">grad &#45;4.0000</text>\n</g>\n<!-- 136214382780352* -->\n<g id=\"node8\" class=\"node\">\n<title>136214382780352*</title>\n<ellipse fill=\"none\" stroke=\"black\" cx=\"257\" cy=\"-101.5\" rx=\"27\" ry=\"18\"/>\n<text text-anchor=\"middle\" x=\"257\" y=\"-97.8\" font-family=\"Times,serif\" font-size=\"14.00\">*</text>\n</g>\n<!-- 136214382787600&#45;&gt;136214382780352* -->\n<g id=\"edge6\" class=\"edge\">\n<title>136214382787600&#45;&gt;136214382780352*</title>\n<path fill=\"none\" stroke=\"black\" d=\"M194.01,-112.49C203.35,-110.83 212.37,-109.23 220.49,-107.79\"/>\n<polygon fill=\"black\" stroke=\"black\" points=\"221.37,-111.19 230.6,-106 220.15,-104.3 221.37,-111.19\"/>\n</g>\n<!-- 136214382782512 -->\n<g id=\"node2\" class=\"node\">\n<title>136214382782512</title>\n<polygon fill=\"none\" stroke=\"black\" points=\"4.5,-56.5 4.5,-92.5 189.5,-92.5 189.5,-56.5 4.5,-56.5\"/>\n<text text-anchor=\"middle\" x=\"16\" y=\"-70.8\" font-family=\"Times,serif\" font-size=\"14.00\">a</text>\n<polyline fill=\"none\" stroke=\"black\" points=\"27.5,-56.5 27.5,-92.5 \"/>\n<text text-anchor=\"middle\" x=\"67.5\" y=\"-70.8\" font-family=\"Times,serif\" font-size=\"14.00\">data 2.0000</text>\n<polyline fill=\"none\" stroke=\"black\" points=\"107.5,-56.5 107.5,-92.5 \"/>\n<text text-anchor=\"middle\" x=\"148.5\" y=\"-70.8\" font-family=\"Times,serif\" font-size=\"14.00\">grad 6.0000</text>\n</g>\n<!-- 136214382782512&#45;&gt;136214382780352* -->\n<g id=\"edge5\" class=\"edge\">\n<title>136214382782512&#45;&gt;136214382780352*</title>\n<path fill=\"none\" stroke=\"black\" d=\"M189.91,-90.21C200.76,-92.06 211.28,-93.86 220.61,-95.45\"/>\n<polygon fill=\"black\" stroke=\"black\" points=\"220.16,-98.93 230.6,-97.16 221.34,-92.03 220.16,-98.93\"/>\n</g>\n<!-- 136214382773872 -->\n<g id=\"node3\" class=\"node\">\n<title>136214382773872</title>\n<polygon fill=\"none\" stroke=\"black\" points=\"640,-0.5 640,-36.5 828,-36.5 828,-0.5 640,-0.5\"/>\n<text text-anchor=\"middle\" x=\"650.5\" y=\"-14.8\" font-family=\"Times,serif\" font-size=\"14.00\">f</text>\n<polyline fill=\"none\" stroke=\"black\" points=\"661,-0.5 661,-36.5 \"/>\n<text text-anchor=\"middle\" x=\"703.5\" y=\"-14.8\" font-family=\"Times,serif\" font-size=\"14.00\">data &#45;2.0000</text>\n<polyline fill=\"none\" stroke=\"black\" points=\"746,-0.5 746,-36.5 \"/>\n<text text-anchor=\"middle\" x=\"787\" y=\"-14.8\" font-family=\"Times,serif\" font-size=\"14.00\">grad 4.0000</text>\n</g>\n<!-- 136214382774400* -->\n<g id=\"node5\" class=\"node\">\n<title>136214382774400*</title>\n<ellipse fill=\"none\" stroke=\"black\" cx=\"891\" cy=\"-45.5\" rx=\"27\" ry=\"18\"/>\n<text text-anchor=\"middle\" x=\"891\" y=\"-41.8\" font-family=\"Times,serif\" font-size=\"14.00\">*</text>\n</g>\n<!-- 136214382773872&#45;&gt;136214382774400* -->\n<g id=\"edge8\" class=\"edge\">\n<title>136214382773872&#45;&gt;136214382774400*</title>\n<path fill=\"none\" stroke=\"black\" d=\"M828.29,-34.75C837.57,-36.37 846.52,-37.93 854.61,-39.33\"/>\n<polygon fill=\"black\" stroke=\"black\" points=\"854.22,-42.82 864.68,-41.09 855.42,-35.92 854.22,-42.82\"/>\n</g>\n<!-- 136214382774400 -->\n<g id=\"node4\" class=\"node\">\n<title>136214382774400</title>\n<polygon fill=\"none\" stroke=\"black\" points=\"954,-27.5 954,-63.5 1146,-63.5 1146,-27.5 954,-27.5\"/>\n<text text-anchor=\"middle\" x=\"966.5\" y=\"-41.8\" font-family=\"Times,serif\" font-size=\"14.00\">L</text>\n<polyline fill=\"none\" stroke=\"black\" points=\"979,-27.5 979,-63.5 \"/>\n<text text-anchor=\"middle\" x=\"1021.5\" y=\"-41.8\" font-family=\"Times,serif\" font-size=\"14.00\">data &#45;8.0000</text>\n<polyline fill=\"none\" stroke=\"black\" points=\"1064,-27.5 1064,-63.5 \"/>\n<text text-anchor=\"middle\" x=\"1105\" y=\"-41.8\" font-family=\"Times,serif\" font-size=\"14.00\">grad 0.0000</text>\n</g>\n<!-- 136214382774400*&#45;&gt;136214382774400 -->\n<g id=\"edge1\" class=\"edge\">\n<title>136214382774400*&#45;&gt;136214382774400</title>\n<path fill=\"none\" stroke=\"black\" d=\"M918.28,-45.5C925.78,-45.5 934.44,-45.5 943.67,-45.5\"/>\n<polygon fill=\"black\" stroke=\"black\" points=\"943.87,-49 953.87,-45.5 943.87,-42 943.87,-49\"/>\n</g>\n<!-- 136214382773104 -->\n<g id=\"node6\" class=\"node\">\n<title>136214382773104</title>\n<polygon fill=\"none\" stroke=\"black\" points=\"321,-28.5 321,-64.5 513,-64.5 513,-28.5 321,-28.5\"/>\n<text text-anchor=\"middle\" x=\"332.5\" y=\"-42.8\" font-family=\"Times,serif\" font-size=\"14.00\">c</text>\n<polyline fill=\"none\" stroke=\"black\" points=\"344,-28.5 344,-64.5 \"/>\n<text text-anchor=\"middle\" x=\"387.5\" y=\"-42.8\" font-family=\"Times,serif\" font-size=\"14.00\">data 10.0000</text>\n<polyline fill=\"none\" stroke=\"black\" points=\"431,-28.5 431,-64.5 \"/>\n<text text-anchor=\"middle\" x=\"472\" y=\"-42.8\" font-family=\"Times,serif\" font-size=\"14.00\">grad 0.0000</text>\n</g>\n<!-- 136214382784480+ -->\n<g id=\"node10\" class=\"node\">\n<title>136214382784480+</title>\n<ellipse fill=\"none\" stroke=\"black\" cx=\"577\" cy=\"-73.5\" rx=\"27\" ry=\"18\"/>\n<text text-anchor=\"middle\" x=\"577\" y=\"-69.8\" font-family=\"Times,serif\" font-size=\"14.00\">+</text>\n</g>\n<!-- 136214382773104&#45;&gt;136214382784480+ -->\n<g id=\"edge7\" class=\"edge\">\n<title>136214382773104&#45;&gt;136214382784480+</title>\n<path fill=\"none\" stroke=\"black\" d=\"M513.1,-62.75C522.75,-64.4 532.07,-65.99 540.44,-67.42\"/>\n<polygon fill=\"black\" stroke=\"black\" points=\"540.04,-70.91 550.49,-69.14 541.22,-64.01 540.04,-70.91\"/>\n</g>\n<!-- 136214382780352 -->\n<g id=\"node7\" class=\"node\">\n<title>136214382780352</title>\n<polygon fill=\"none\" stroke=\"black\" points=\"320,-83.5 320,-119.5 514,-119.5 514,-83.5 320,-83.5\"/>\n<text text-anchor=\"middle\" x=\"331.5\" y=\"-97.8\" font-family=\"Times,serif\" font-size=\"14.00\">e</text>\n<polyline fill=\"none\" stroke=\"black\" points=\"343,-83.5 343,-119.5 \"/>\n<text text-anchor=\"middle\" x=\"385.5\" y=\"-97.8\" font-family=\"Times,serif\" font-size=\"14.00\">data &#45;6.0000</text>\n<polyline fill=\"none\" stroke=\"black\" points=\"428,-83.5 428,-119.5 \"/>\n<text text-anchor=\"middle\" x=\"471\" y=\"-97.8\" font-family=\"Times,serif\" font-size=\"14.00\">grad &#45;2.0000</text>\n</g>\n<!-- 136214382780352&#45;&gt;136214382784480+ -->\n<g id=\"edge9\" class=\"edge\">\n<title>136214382780352&#45;&gt;136214382784480+</title>\n<path fill=\"none\" stroke=\"black\" d=\"M514.01,-84.49C523.35,-82.83 532.37,-81.23 540.49,-79.79\"/>\n<polygon fill=\"black\" stroke=\"black\" points=\"541.37,-83.19 550.6,-78 540.15,-76.3 541.37,-83.19\"/>\n</g>\n<!-- 136214382780352*&#45;&gt;136214382780352 -->\n<g id=\"edge2\" class=\"edge\">\n<title>136214382780352*&#45;&gt;136214382780352</title>\n<path fill=\"none\" stroke=\"black\" d=\"M284.09,-101.5C291.62,-101.5 300.34,-101.5 309.63,-101.5\"/>\n<polygon fill=\"black\" stroke=\"black\" points=\"309.92,-105 319.92,-101.5 309.92,-98 309.92,-105\"/>\n</g>\n<!-- 136214382784480 -->\n<g id=\"node9\" class=\"node\">\n<title>136214382784480</title>\n<polygon fill=\"none\" stroke=\"black\" points=\"641.5,-55.5 641.5,-91.5 826.5,-91.5 826.5,-55.5 641.5,-55.5\"/>\n<text text-anchor=\"middle\" x=\"653\" y=\"-69.8\" font-family=\"Times,serif\" font-size=\"14.00\">d</text>\n<polyline fill=\"none\" stroke=\"black\" points=\"664.5,-55.5 664.5,-91.5 \"/>\n<text text-anchor=\"middle\" x=\"704.5\" y=\"-69.8\" font-family=\"Times,serif\" font-size=\"14.00\">data 4.0000</text>\n<polyline fill=\"none\" stroke=\"black\" points=\"744.5,-55.5 744.5,-91.5 \"/>\n<text text-anchor=\"middle\" x=\"785.5\" y=\"-69.8\" font-family=\"Times,serif\" font-size=\"14.00\">grad 1.0000</text>\n</g>\n<!-- 136214382784480&#45;&gt;136214382774400* -->\n<g id=\"edge4\" class=\"edge\">\n<title>136214382784480&#45;&gt;136214382774400*</title>\n<path fill=\"none\" stroke=\"black\" d=\"M826.51,-56.97C836.48,-55.17 846.13,-53.42 854.77,-51.86\"/>\n<polygon fill=\"black\" stroke=\"black\" points=\"855.55,-55.28 864.77,-50.06 854.3,-48.39 855.55,-55.28\"/>\n</g>\n<!-- 136214382784480+&#45;&gt;136214382784480 -->\n<g id=\"edge3\" class=\"edge\">\n<title>136214382784480+&#45;&gt;136214382784480</title>\n<path fill=\"none\" stroke=\"black\" d=\"M604.29,-73.5C612.26,-73.5 621.54,-73.5 631.39,-73.5\"/>\n<polygon fill=\"black\" stroke=\"black\" points=\"631.41,-77 641.41,-73.5 631.41,-70 631.41,-77\"/>\n</g>\n</g>\n</svg>\n",
            "text/plain": [
              "<graphviz.graphs.Digraph at 0x7be2e1c0b130>"
            ]
          },
          "metadata": {},
          "execution_count": 98
        }
      ]
    }
  ]
}