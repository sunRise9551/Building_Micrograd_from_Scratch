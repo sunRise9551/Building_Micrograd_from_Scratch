{
  "nbformat": 4,
  "nbformat_minor": 0,
  "metadata": {
    "colab": {
      "provenance": [],
      "toc_visible": true,
      "authorship_tag": "ABX9TyOSOiA0dtNRi+MHLVI6VUVb",
      "include_colab_link": true
    },
    "kernelspec": {
      "name": "python3",
      "display_name": "Python 3"
    },
    "language_info": {
      "name": "python"
    }
  },
  "cells": [
    {
      "cell_type": "markdown",
      "metadata": {
        "id": "view-in-github",
        "colab_type": "text"
      },
      "source": [
        "<a href=\"https://colab.research.google.com/github/sunRise9551/Building_Micrograd_from_Scratch/blob/main/Building_Micrograd_from_Scratch.ipynb\" target=\"_parent\"><img src=\"https://colab.research.google.com/assets/colab-badge.svg\" alt=\"Open In Colab\"/></a>"
      ]
    },
    {
      "cell_type": "markdown",
      "source": [],
      "metadata": {
        "id": "PtZkaoh-tnli"
      }
    },
    {
      "cell_type": "code",
      "execution_count": null,
      "metadata": {
        "id": "hJGkhG86te4p"
      },
      "outputs": [],
      "source": [
        "import math\n",
        "import numpy as np\n",
        "import matplotlib.pyplot as plt\n",
        "%matplotlib inline"
      ]
    },
    {
      "cell_type": "markdown",
      "source": [
        "# Understand Concept of Derivative"
      ],
      "metadata": {
        "id": "6V7dvw6_um0n"
      }
    },
    {
      "cell_type": "markdown",
      "source": [
        "Let's say we have a function f(x)"
      ],
      "metadata": {
        "id": "t9ZLu4BXt_LP"
      }
    },
    {
      "cell_type": "code",
      "source": [
        "def f(x):\n",
        "  return 3*x**2 - 4*x + 5"
      ],
      "metadata": {
        "id": "S8ScBIN2t0_U"
      },
      "execution_count": null,
      "outputs": []
    },
    {
      "cell_type": "code",
      "source": [
        "f(3.0)"
      ],
      "metadata": {
        "colab": {
          "base_uri": "https://localhost:8080/"
        },
        "id": "7sGhHskKt8bh",
        "outputId": "f2aa3610-60cd-4061-dd79-93d50f897a7b"
      },
      "execution_count": null,
      "outputs": [
        {
          "output_type": "execute_result",
          "data": {
            "text/plain": [
              "20.0"
            ]
          },
          "metadata": {},
          "execution_count": 3
        }
      ]
    },
    {
      "cell_type": "code",
      "source": [
        "xs = np.arange(-5, 5, 0.25)\n",
        "ys = f(xs)\n",
        "plt.plot(xs, ys)"
      ],
      "metadata": {
        "colab": {
          "base_uri": "https://localhost:8080/",
          "height": 448
        },
        "id": "ky2mSOubt9aV",
        "outputId": "adb97faa-5859-4f25-8caf-7e05d9075f87"
      },
      "execution_count": null,
      "outputs": [
        {
          "output_type": "execute_result",
          "data": {
            "text/plain": [
              "[<matplotlib.lines.Line2D at 0x7be2f9b7ec80>]"
            ]
          },
          "metadata": {},
          "execution_count": 5
        },
        {
          "output_type": "display_data",
          "data": {
            "text/plain": [
              "<Figure size 640x480 with 1 Axes>"
            ],
            "image/png": "[encoded data removed]"
          },
          "metadata": {}
        }
      ]
    },
    {
      "cell_type": "markdown",
      "source": [
        "# Calculate Simple Derivative"
      ],
      "metadata": {
        "id": "Ei8sSMOOULAf"
      }
    },
    {
      "cell_type": "markdown",
      "source": [
        "Let's say we want to calculate the derivative of:\n",
        "x with respect to f()"
      ],
      "metadata": {
        "id": "oReZ5AcXvOZv"
      }
    },
    {
      "cell_type": "code",
      "source": [
        "h = 0.000001 # represents a small increment for calculating the derivative\n",
        "x = 2/3 # the point of the above graph when x=2/3\n",
        "(f(x + h) - f(x)) / h # the slope of that point, which approximates the derivative"
      ],
      "metadata": {
        "colab": {
          "base_uri": "https://localhost:8080/"
        },
        "id": "ERr2fM_9uMGW",
        "outputId": "23e5f149-78c3-413f-a9dd-67af37de0cae"
      },
      "execution_count": null,
      "outputs": [
        {
          "output_type": "execute_result",
          "data": {
            "text/plain": [
              "2.999378523327323e-06"
            ]
          },
          "metadata": {},
          "execution_count": 6
        }
      ]
    },
    {
      "cell_type": "markdown",
      "source": [
        "More complex function"
      ],
      "metadata": {
        "id": "Sk3LjtvIvTgO"
      }
    },
    {
      "cell_type": "code",
      "source": [
        "a = 2.0\n",
        "b = -3.0\n",
        "c = 10.0\n",
        "d = a*b + c\n",
        "print(d)"
      ],
      "metadata": {
        "colab": {
          "base_uri": "https://localhost:8080/"
        },
        "id": "CwoYxc2Qu2cR",
        "outputId": "5c358ca6-e9f4-4178-83b4-c7cf6eaa80af"
      },
      "execution_count": null,
      "outputs": [
        {
          "output_type": "stream",
          "name": "stdout",
          "text": [
            "4.0\n"
          ]
        }
      ]
    },
    {
      "cell_type": "markdown",
      "source": [
        "We now have a function f(a*b + c)\n",
        "\n",
        "We want to calculate the derivative of:\n",
        "\n",
        "'a' with respect to 'f'\n",
        "\n",
        "'b' with respect to 'f'\n",
        "\n",
        "'c' with respect to 'f'\n",
        "\n",
        "So, We will bump tiny amount of h to 'a' 'b' 'c' each time and calculate their derivative"
      ],
      "metadata": {
        "id": "N2df2SVyxQyw"
      }
    },
    {
      "cell_type": "markdown",
      "source": [
        "### Derivative for 'a'"
      ],
      "metadata": {
        "id": "RJnTJJ-Qx669"
      }
    },
    {
      "cell_type": "code",
      "source": [
        "h = 0.0001\n",
        "\n",
        "# inputs\n",
        "a = 2.0\n",
        "b = -3.0\n",
        "c = 10.0\n",
        "\n",
        "d1 = a*b + c # computes the result before 'a' being increment\n",
        "a += h # increment 'a' by h amount\n",
        "d2 = a*b + c # computes the result after 'a' being increment\n",
        "\n",
        "print('d1', d1)\n",
        "print('d2', d2)\n",
        "print('slope', (d2 - d1)/h) # this is the derivative for 'a'"
      ],
      "metadata": {
        "colab": {
          "base_uri": "https://localhost:8080/"
        },
        "id": "uMBR0edKu92y",
        "outputId": "a1697d50-8078-45c2-a8ca-0e416bf3e17d"
      },
      "execution_count": null,
      "outputs": [
        {
          "output_type": "stream",
          "name": "stdout",
          "text": [
            "d1 4.0\n",
            "d2 3.999699999999999\n",
            "slope -3.000000000010772\n"
          ]
        }
      ]
    },
    {
      "cell_type": "markdown",
      "source": [
        "## Derivative for 'b'"
      ],
      "metadata": {
        "id": "D_cbQVBkymRd"
      }
    },
    {
      "cell_type": "code",
      "source": [
        "h = 0.0001\n",
        "\n",
        "# inputs\n",
        "a = 2.0\n",
        "b = -3.0\n",
        "c = 10.0\n",
        "\n",
        "d1 = a*b + c # computes the result before 'b' being increment\n",
        "b += h # increment 'c' by h amount\n",
        "d2 = a*b + c # computes the result after 'b' being increment\n",
        "\n",
        "print('d1', d1)\n",
        "print('d2', d2)\n",
        "print('slope', (d2 - d1)/h) # this is the derivative for 'b'"
      ],
      "metadata": {
        "colab": {
          "base_uri": "https://localhost:8080/"
        },
        "id": "MvbBBfeIyfmx",
        "outputId": "228a0f09-4d5e-4deb-f67d-a14870c13a21"
      },
      "execution_count": null,
      "outputs": [
        {
          "output_type": "stream",
          "name": "stdout",
          "text": [
            "d1 4.0\n",
            "d2 4.0002\n",
            "slope 2.0000000000042206\n"
          ]
        }
      ]
    },
    {
      "cell_type": "markdown",
      "source": [
        "## Derivative for 'c'"
      ],
      "metadata": {
        "id": "WMdLQPUNysne"
      }
    },
    {
      "cell_type": "code",
      "source": [
        "h = 0.0001\n",
        "\n",
        "# inputs\n",
        "a = 2.0\n",
        "b = -3.0\n",
        "c = 10.0\n",
        "\n",
        "d1 = a*b + c # computes the result before 'c' being increment\n",
        "c += h # increment 'c' by h amount\n",
        "d2 = a*b + c # computes the result after 'c' being increment\n",
        "\n",
        "print('d1', d1)\n",
        "print('d2', d2)\n",
        "print('slope', (d2 - d1)/h) # this is the derivative for 'c'"
      ],
      "metadata": {
        "colab": {
          "base_uri": "https://localhost:8080/"
        },
        "id": "tKuwpsu_yqtz",
        "outputId": "5ae855ea-c528-41a6-8651-4ab33d6d6bdc"
      },
      "execution_count": null,
      "outputs": [
        {
          "output_type": "stream",
          "name": "stdout",
          "text": [
            "d1 4.0\n",
            "d2 4.0001\n",
            "slope 0.9999999999976694\n"
          ]
        }
      ]
    },
    {
      "cell_type": "markdown",
      "source": [
        "# Create Value Object"
      ],
      "metadata": {
        "id": "DzXq5BX8UVb4"
      }
    },
    {
      "cell_type": "markdown",
      "source": [
        "We have now understand how derivative works, we can then start working on creating Value object for micrograd"
      ],
      "metadata": {
        "id": "-uQ0JTZWzBNV"
      }
    },
    {
      "cell_type": "markdown",
      "source": [
        "## Operation Sum and Mul"
      ],
      "metadata": {
        "id": "zSL5ItyRUiHH"
      }
    },
    {
      "cell_type": "markdown",
      "source": [
        "Create a Value Object that can perform + and * operation"
      ],
      "metadata": {
        "id": "6EuRydaQzocO"
      }
    },
    {
      "cell_type": "code",
      "source": [
        "class Value:\n",
        "\n",
        "  def __init__(self, data):\n",
        "    self.data = data # store data\n",
        "\n",
        "  def __repr__(self): # function just to make python print nicer integer\n",
        "    return f\"Value(data={self.data})\"\n",
        "\n",
        "  def __add__(self, other):\n",
        "    out = Value(self.data + other.data) # Take in self.data + other.data\n",
        "    return out\n",
        "\n",
        "  def __mul__(self, other):\n",
        "    out = Value(self.data * other.data) # Take in self.data * other.data\n",
        "    return out"
      ],
      "metadata": {
        "id": "DgXDXk_1yzKo"
      },
      "execution_count": null,
      "outputs": []
    },
    {
      "cell_type": "code",
      "source": [
        "a = Value(2.0)\n",
        "b = Value(-3.0)\n",
        "c = Value(10.0)\n",
        "\n",
        "print(a*b)\n",
        "print(a.__mul__(b)) # equivalent to this\n",
        "\n",
        "print(a*b + c)\n",
        "print((a.__mul__(b)).__add__(c)) # equivalent to this\n"
      ],
      "metadata": {
        "colab": {
          "base_uri": "https://localhost:8080/"
        },
        "id": "QUJAPGW4zmns",
        "outputId": "94cfc0a0-2b35-4acf-b5d4-f14d395d3f7d"
      },
      "execution_count": null,
      "outputs": [
        {
          "output_type": "stream",
          "name": "stdout",
          "text": [
            "Value(data=-6.0)\n",
            "Value(data=-6.0)\n",
            "Value(data=4.0)\n",
            "Value(data=4.0)\n"
          ]
        }
      ]
    },
    {
      "cell_type": "markdown",
      "source": [
        "## Store Childs node"
      ],
      "metadata": {
        "id": "YpWsaMlaU0vR"
      }
    },
    {
      "cell_type": "markdown",
      "source": [
        "Create a variable to store its childs"
      ],
      "metadata": {
        "id": "6w_OM7U00xhH"
      }
    },
    {
      "cell_type": "markdown",
      "source": [
        "This is the concept:\n",
        "1. We will create a new variable 'a _children=()' tuple to store its parents\n",
        "2. When we are creating a Value, it will not store anything to the tuple\n",
        "3. When we are doing Addition or Multiplication, we will assign its parent to the tuple\n"
      ],
      "metadata": {
        "id": "IUFGJ4AL1KGF"
      }
    },
    {
      "cell_type": "code",
      "source": [
        "class Value:\n",
        "\n",
        "  def __init__(self, data, _children=()):\n",
        "    self.data = data # store data\n",
        "    self._prev = set(_children)\n",
        "\n",
        "  def __repr__(self): # function just to make python print nicer integer\n",
        "    return f\"Value(data={self.data})\"\n",
        "\n",
        "  def __add__(self, other):\n",
        "    out = Value(self.data + other.data,\n",
        "                (self, other) # Pass itself and other to the tuple\n",
        "                )\n",
        "    return out\n",
        "\n",
        "  def __mul__(self, other):\n",
        "    out = Value(self.data * other.data,\n",
        "                (self, other) # Pass itself and other to the tuple\n",
        "                )\n",
        "    return out"
      ],
      "metadata": {
        "id": "BlKYdZTh0KtT"
      },
      "execution_count": null,
      "outputs": []
    },
    {
      "cell_type": "code",
      "source": [
        "a = Value(2.0)\n",
        "b = Value(-3.0)\n",
        "c = Value(10.0)\n",
        "\n",
        "d = a*b + c\n",
        "\n",
        "print(d._prev)\n",
        "\n",
        "# We can now see that the childrens for 'd' are (a*b) and (c)\n",
        "# (a*b) and (c)\n",
        "# (2.0*-3.0) and (10.0)\n",
        "# (-6.0) and (10.0)"
      ],
      "metadata": {
        "colab": {
          "base_uri": "https://localhost:8080/"
        },
        "id": "oa05sZ-d2TZt",
        "outputId": "123b3493-721e-4ee9-d347-6e3a2067b3cd"
      },
      "execution_count": null,
      "outputs": [
        {
          "output_type": "stream",
          "name": "stdout",
          "text": [
            "{Value(data=-6.0), Value(data=10.0)}\n"
          ]
        }
      ]
    },
    {
      "cell_type": "markdown",
      "source": [
        "## Store Operations"
      ],
      "metadata": {
        "id": "YjsgPsGDU-oy"
      }
    },
    {
      "cell_type": "markdown",
      "source": [
        "Create a variable _op=' ' to store its operations"
      ],
      "metadata": {
        "id": "IPlySsbR3xdc"
      }
    },
    {
      "cell_type": "code",
      "source": [
        "class Value:\n",
        "\n",
        "  def __init__(self, data, _children=(), _op=''):\n",
        "    self.data = data # store data\n",
        "    self._prev = set(_children)\n",
        "    self._op = _op\n",
        "\n",
        "  def __repr__(self): # function just to make python print nicer integer\n",
        "    return f\"Value(data={self.data})\"\n",
        "\n",
        "  def __add__(self, other):\n",
        "    out = Value(self.data + other.data,\n",
        "                (self, other),\n",
        "                _op='+'\n",
        "                )\n",
        "    return out\n",
        "\n",
        "  def __mul__(self, other):\n",
        "    out = Value(self.data * other.data,\n",
        "                (self, other),\n",
        "                _op='*'\n",
        "                )\n",
        "    return out"
      ],
      "metadata": {
        "id": "PcpMPP-M2UYf"
      },
      "execution_count": null,
      "outputs": []
    },
    {
      "cell_type": "code",
      "source": [
        "a = Value(2.0)\n",
        "b = Value(-3.0)\n",
        "c = Value(10.0)\n",
        "\n",
        "d = a*b + c\n",
        "\n",
        "print(d._op)\n",
        "# We can now know that the 'd' variable is compute by sum '+'"
      ],
      "metadata": {
        "colab": {
          "base_uri": "https://localhost:8080/"
        },
        "id": "ZqB5LHVo4PBN",
        "outputId": "5332e9bf-df2f-44d0-b632-69a864762fb9"
      },
      "execution_count": null,
      "outputs": [
        {
          "output_type": "stream",
          "name": "stdout",
          "text": [
            "+\n"
          ]
        }
      ]
    },
    {
      "cell_type": "markdown",
      "source": [
        "# Visualize Structure"
      ],
      "metadata": {
        "id": "cC-g5JyaVFSY"
      }
    },
    {
      "cell_type": "markdown",
      "source": [
        "Visualize What we have done so far"
      ],
      "metadata": {
        "id": "QAyl5rCF5otE"
      }
    },
    {
      "cell_type": "code",
      "source": [
        "from graphviz import Digraph\n",
        "\n",
        "def trace(root):\n",
        "  # builds a set of all nodes and edges in a graph\n",
        "  nodes, edges = set(), set()\n",
        "  def build(v):\n",
        "    if v not in nodes:\n",
        "      nodes.add(v)\n",
        "      for child in v._prev:\n",
        "        edges.add((child, v))\n",
        "        build(child)\n",
        "  build(root)\n",
        "  return nodes, edges\n",
        "\n",
        "def draw_dot(root):\n",
        "  dot = Digraph(format='svg', graph_attr={'rankdir': 'LR'}) # LR = left to right\n",
        "\n",
        "  nodes, edges = trace(root)\n",
        "  for n in nodes:\n",
        "    uid = str(id(n))\n",
        "    # for any value in the graph, create a rectangular ('record') node for it\n",
        "\n",
        "    # -------------------------- No Label and Grad for Now --------------------------------------\n",
        "    # dot.node(name = uid, label = \"{ %s | data %.4f | grad %.4f }\" % (n.label, n.data, n.grad), shape='record')\n",
        "    dot.node(name = uid, label = \"{ data %.4f }\" % (n.data), shape='record')\n",
        "\n",
        "    if n._op:\n",
        "      # if this value is a result of some operation, create an op node for it\n",
        "      dot.node(name = uid + n._op, label=n._op)\n",
        "      # and connect this node to it\n",
        "      dot.edge(uid + n._op, uid)\n",
        "\n",
        "  for n1, n2 in edges:\n",
        "    # connect n1 to the op node of n2\n",
        "    dot.edge(str(id(n1)), str(id(n2)) + n2._op)\n",
        "\n",
        "  return dot"
      ],
      "metadata": {
        "id": "up3dUk6e4QQ0"
      },
      "execution_count": null,
      "outputs": []
    },
    {
      "cell_type": "code",
      "source": [
        "draw_dot(d)"
      ],
      "metadata": {
        "colab": {
          "base_uri": "https://localhost:8080/",
          "height": 191
        },
        "id": "suqlfImQ5rju",
        "outputId": "c4833aeb-65fd-4b2b-f4c4-67d02c9aa7c4"
      },
      "execution_count": null,
      "outputs": [
        {
          "output_type": "execute_result",
          "data": {
            "image/svg+xml": "<?xml version=\"1.0\" encoding=\"UTF-8\" standalone=\"no\"?>\n<!DOCTYPE svg PUBLIC \"-//W3C//DTD SVG 1.1//EN\"\n \"http://www.w3.org/Graphics/SVG/1.1/DTD/svg11.dtd\">\n<!-- Generated by graphviz version 2.43.0 (0)\n -->\n<!-- Title: %3 Pages: 1 -->\n<svg width=\"512pt\" height=\"128pt\"\n viewBox=\"0.00 0.00 512.00 128.00\" xmlns=\"http://www.w3.org/2000/svg\" xmlns:xlink=\"http://www.w3.org/1999/xlink\">\n<g id=\"graph0\" class=\"graph\" transform=\"scale(1 1) rotate(0) translate(4 124)\">\n<title>%3</title>\n<polygon fill=\"white\" stroke=\"transparent\" points=\"-4,4 -4,-124 508,-124 508,4 -4,4\"/>\n<!-- 136214382785104 -->\n<g id=\"node1\" class=\"node\">\n<title>136214382785104</title>\n<polygon fill=\"none\" stroke=\"black\" points=\"0,-83.5 0,-119.5 85,-119.5 85,-83.5 0,-83.5\"/>\n<text text-anchor=\"middle\" x=\"42.5\" y=\"-97.8\" font-family=\"Times,serif\" font-size=\"14.00\">data &#45;3.0000</text>\n</g>\n<!-- 136214382784720* -->\n<g id=\"node6\" class=\"node\">\n<title>136214382784720*</title>\n<ellipse fill=\"none\" stroke=\"black\" cx=\"148\" cy=\"-73.5\" rx=\"27\" ry=\"18\"/>\n<text text-anchor=\"middle\" x=\"148\" y=\"-69.8\" font-family=\"Times,serif\" font-size=\"14.00\">*</text>\n</g>\n<!-- 136214382785104&#45;&gt;136214382784720* -->\n<g id=\"edge3\" class=\"edge\">\n<title>136214382785104&#45;&gt;136214382784720*</title>\n<path fill=\"none\" stroke=\"black\" d=\"M85,-90.27C94.32,-87.75 104.1,-85.11 113.06,-82.68\"/>\n<polygon fill=\"black\" stroke=\"black\" points=\"114.03,-86.04 122.77,-80.05 112.2,-79.29 114.03,-86.04\"/>\n</g>\n<!-- 136214382779536 -->\n<g id=\"node2\" class=\"node\">\n<title>136214382779536</title>\n<polygon fill=\"none\" stroke=\"black\" points=\"2.5,-28.5 2.5,-64.5 82.5,-64.5 82.5,-28.5 2.5,-28.5\"/>\n<text text-anchor=\"middle\" x=\"42.5\" y=\"-42.8\" font-family=\"Times,serif\" font-size=\"14.00\">data 2.0000</text>\n</g>\n<!-- 136214382779536&#45;&gt;136214382784720* -->\n<g id=\"edge4\" class=\"edge\">\n<title>136214382779536&#45;&gt;136214382784720*</title>\n<path fill=\"none\" stroke=\"black\" d=\"M82.63,-56.71C92.47,-59.27 102.95,-62.01 112.54,-64.51\"/>\n<polygon fill=\"black\" stroke=\"black\" points=\"111.96,-67.98 122.52,-67.11 113.73,-61.2 111.96,-67.98\"/>\n</g>\n<!-- 136214382775984 -->\n<g id=\"node3\" class=\"node\">\n<title>136214382775984</title>\n<polygon fill=\"none\" stroke=\"black\" points=\"424,-27.5 424,-63.5 504,-63.5 504,-27.5 424,-27.5\"/>\n<text text-anchor=\"middle\" x=\"464\" y=\"-41.8\" font-family=\"Times,serif\" font-size=\"14.00\">data 4.0000</text>\n</g>\n<!-- 136214382775984+ -->\n<g id=\"node4\" class=\"node\">\n<title>136214382775984+</title>\n<ellipse fill=\"none\" stroke=\"black\" cx=\"361\" cy=\"-45.5\" rx=\"27\" ry=\"18\"/>\n<text text-anchor=\"middle\" x=\"361\" y=\"-41.8\" font-family=\"Times,serif\" font-size=\"14.00\">+</text>\n</g>\n<!-- 136214382775984+&#45;&gt;136214382775984 -->\n<g id=\"edge1\" class=\"edge\">\n<title>136214382775984+&#45;&gt;136214382775984</title>\n<path fill=\"none\" stroke=\"black\" d=\"M388.01,-45.5C395.82,-45.5 404.67,-45.5 413.48,-45.5\"/>\n<polygon fill=\"black\" stroke=\"black\" points=\"413.73,-49 423.73,-45.5 413.73,-42 413.73,-49\"/>\n</g>\n<!-- 136214382784720 -->\n<g id=\"node5\" class=\"node\">\n<title>136214382784720</title>\n<polygon fill=\"none\" stroke=\"black\" points=\"212,-55.5 212,-91.5 297,-91.5 297,-55.5 212,-55.5\"/>\n<text text-anchor=\"middle\" x=\"254.5\" y=\"-69.8\" font-family=\"Times,serif\" font-size=\"14.00\">data &#45;6.0000</text>\n</g>\n<!-- 136214382784720&#45;&gt;136214382775984+ -->\n<g id=\"edge6\" class=\"edge\">\n<title>136214382784720&#45;&gt;136214382775984+</title>\n<path fill=\"none\" stroke=\"black\" d=\"M297.1,-62.35C306.61,-59.8 316.62,-57.12 325.78,-54.67\"/>\n<polygon fill=\"black\" stroke=\"black\" points=\"326.94,-57.98 335.69,-52.01 325.12,-51.22 326.94,-57.98\"/>\n</g>\n<!-- 136214382784720*&#45;&gt;136214382784720 -->\n<g id=\"edge2\" class=\"edge\">\n<title>136214382784720*&#45;&gt;136214382784720</title>\n<path fill=\"none\" stroke=\"black\" d=\"M175.1,-73.5C183.27,-73.5 192.59,-73.5 201.88,-73.5\"/>\n<polygon fill=\"black\" stroke=\"black\" points=\"201.89,-77 211.89,-73.5 201.89,-70 201.89,-77\"/>\n</g>\n<!-- 136214382781888 -->\n<g id=\"node7\" class=\"node\">\n<title>136214382781888</title>\n<polygon fill=\"none\" stroke=\"black\" points=\"211,-0.5 211,-36.5 298,-36.5 298,-0.5 211,-0.5\"/>\n<text text-anchor=\"middle\" x=\"254.5\" y=\"-14.8\" font-family=\"Times,serif\" font-size=\"14.00\">data 10.0000</text>\n</g>\n<!-- 136214382781888&#45;&gt;136214382775984+ -->\n<g id=\"edge5\" class=\"edge\">\n<title>136214382781888&#45;&gt;136214382775984+</title>\n<path fill=\"none\" stroke=\"black\" d=\"M298,-29.48C307.18,-31.85 316.78,-34.33 325.6,-36.61\"/>\n<polygon fill=\"black\" stroke=\"black\" points=\"324.97,-40.07 335.53,-39.18 326.73,-33.29 324.97,-40.07\"/>\n</g>\n</g>\n</svg>\n",
            "text/plain": [
              "<graphviz.graphs.Digraph at 0x7be2e1e60340>"
            ]
          },
          "metadata": {},
          "execution_count": 42
        }
      ]
    },
    {
      "cell_type": "markdown",
      "source": [
        "## Create Label for Graph"
      ],
      "metadata": {
        "id": "MfDv52EJ68Yc"
      }
    },
    {
      "cell_type": "code",
      "source": [
        "class Value:\n",
        "\n",
        "  def __init__(self, data, _children=(), _op='', label=''):\n",
        "    self.data = data # store data\n",
        "    self._prev = set(_children)\n",
        "    self._op = _op\n",
        "    self.label = label\n",
        "\n",
        "  def __repr__(self): # function just to make python print nicer integer\n",
        "    return f\"Value(data={self.data})\"\n",
        "\n",
        "  def __add__(self, other):\n",
        "    out = Value(self.data + other.data,\n",
        "                (self, other),\n",
        "                _op='+'\n",
        "                )\n",
        "    return out\n",
        "\n",
        "  def __mul__(self, other):\n",
        "    out = Value(self.data * other.data,\n",
        "                (self, other),\n",
        "                _op='*'\n",
        "                )\n",
        "    return out"
      ],
      "metadata": {
        "id": "8xkwpUeB5vKo"
      },
      "execution_count": null,
      "outputs": []
    },
    {
      "cell_type": "code",
      "source": [
        "a = Value(2.0, label='a')\n",
        "b = Value(-3.0, label='b')\n",
        "c = Value(10.0, label='c')\n",
        "\n",
        "e = a*b; e.label = 'e'\n",
        "d = e + c; d.label = 'd'"
      ],
      "metadata": {
        "id": "wBHhdnva7kq7"
      },
      "execution_count": null,
      "outputs": []
    },
    {
      "cell_type": "markdown",
      "source": [
        "Visualize Label"
      ],
      "metadata": {
        "id": "NaVrLXEm8Izc"
      }
    },
    {
      "cell_type": "code",
      "source": [
        "from graphviz import Digraph\n",
        "\n",
        "def trace(root):\n",
        "  # builds a set of all nodes and edges in a graph\n",
        "  nodes, edges = set(), set()\n",
        "  def build(v):\n",
        "    if v not in nodes:\n",
        "      nodes.add(v)\n",
        "      for child in v._prev:\n",
        "        edges.add((child, v))\n",
        "        build(child)\n",
        "  build(root)\n",
        "  return nodes, edges\n",
        "\n",
        "def draw_dot(root):\n",
        "  dot = Digraph(format='svg', graph_attr={'rankdir': 'LR'}) # LR = left to right\n",
        "\n",
        "  nodes, edges = trace(root)\n",
        "  for n in nodes:\n",
        "    uid = str(id(n))\n",
        "    # for any value in the graph, create a rectangular ('record') node for it\n",
        "\n",
        "    # -------------------------- No Grad for Now --------------------------------------\n",
        "    # dot.node(name = uid, label = \"{ %s | data %.4f | grad %.4f }\" % (n.label, n.data, n.grad), shape='record')\n",
        "    dot.node(name = uid, label = \"{ %s | data %.4f }\" % (n.label, n.data), shape='record')\n",
        "\n",
        "    if n._op:\n",
        "      # if this value is a result of some operation, create an op node for it\n",
        "      dot.node(name = uid + n._op, label=n._op)\n",
        "      # and connect this node to it\n",
        "      dot.edge(uid + n._op, uid)\n",
        "\n",
        "  for n1, n2 in edges:\n",
        "    # connect n1 to the op node of n2\n",
        "    dot.edge(str(id(n1)), str(id(n2)) + n2._op)\n",
        "\n",
        "  return dot"
      ],
      "metadata": {
        "id": "CsUW2mSs7_98"
      },
      "execution_count": null,
      "outputs": []
    },
    {
      "cell_type": "code",
      "source": [
        "draw_dot(d)"
      ],
      "metadata": {
        "colab": {
          "base_uri": "https://localhost:8080/",
          "height": 191
        },
        "id": "Cr5lzwYr8PV6",
        "outputId": "ce33f78b-25e0-47c7-9f3e-e6b4290b037a"
      },
      "execution_count": null,
      "outputs": [
        {
          "output_type": "execute_result",
          "data": {
            "image/svg+xml": "<?xml version=\"1.0\" encoding=\"UTF-8\" standalone=\"no\"?>\n<!DOCTYPE svg PUBLIC \"-//W3C//DTD SVG 1.1//EN\"\n \"http://www.w3.org/Graphics/SVG/1.1/DTD/svg11.dtd\">\n<!-- Generated by graphviz version 2.43.0 (0)\n -->\n<!-- Title: %3 Pages: 1 -->\n<svg width=\"581pt\" height=\"128pt\"\n viewBox=\"0.00 0.00 581.00 128.00\" xmlns=\"http://www.w3.org/2000/svg\" xmlns:xlink=\"http://www.w3.org/1999/xlink\">\n<g id=\"graph0\" class=\"graph\" transform=\"scale(1 1) rotate(0) translate(4 124)\">\n<title>%3</title>\n<polygon fill=\"white\" stroke=\"transparent\" points=\"-4,4 -4,-124 577,-124 577,4 -4,4\"/>\n<!-- 136214382775360 -->\n<g id=\"node1\" class=\"node\">\n<title>136214382775360</title>\n<polygon fill=\"none\" stroke=\"black\" points=\"470,-27.5 470,-63.5 573,-63.5 573,-27.5 470,-27.5\"/>\n<text text-anchor=\"middle\" x=\"481.5\" y=\"-41.8\" font-family=\"Times,serif\" font-size=\"14.00\">d</text>\n<polyline fill=\"none\" stroke=\"black\" points=\"493,-27.5 493,-63.5 \"/>\n<text text-anchor=\"middle\" x=\"533\" y=\"-41.8\" font-family=\"Times,serif\" font-size=\"14.00\">data 4.0000</text>\n</g>\n<!-- 136214382775360+ -->\n<g id=\"node2\" class=\"node\">\n<title>136214382775360+</title>\n<ellipse fill=\"none\" stroke=\"black\" cx=\"407\" cy=\"-45.5\" rx=\"27\" ry=\"18\"/>\n<text text-anchor=\"middle\" x=\"407\" y=\"-41.8\" font-family=\"Times,serif\" font-size=\"14.00\">+</text>\n</g>\n<!-- 136214382775360+&#45;&gt;136214382775360 -->\n<g id=\"edge1\" class=\"edge\">\n<title>136214382775360+&#45;&gt;136214382775360</title>\n<path fill=\"none\" stroke=\"black\" d=\"M434.09,-45.5C441.83,-45.5 450.64,-45.5 459.61,-45.5\"/>\n<polygon fill=\"black\" stroke=\"black\" points=\"459.76,-49 469.76,-45.5 459.76,-42 459.76,-49\"/>\n</g>\n<!-- 136214382773440 -->\n<g id=\"node3\" class=\"node\">\n<title>136214382773440</title>\n<polygon fill=\"none\" stroke=\"black\" points=\"0,-83.5 0,-119.5 108,-119.5 108,-83.5 0,-83.5\"/>\n<text text-anchor=\"middle\" x=\"11.5\" y=\"-97.8\" font-family=\"Times,serif\" font-size=\"14.00\">b</text>\n<polyline fill=\"none\" stroke=\"black\" points=\"23,-83.5 23,-119.5 \"/>\n<text text-anchor=\"middle\" x=\"65.5\" y=\"-97.8\" font-family=\"Times,serif\" font-size=\"14.00\">data &#45;3.0000</text>\n</g>\n<!-- 136214382779776* -->\n<g id=\"node6\" class=\"node\">\n<title>136214382779776*</title>\n<ellipse fill=\"none\" stroke=\"black\" cx=\"171\" cy=\"-73.5\" rx=\"27\" ry=\"18\"/>\n<text text-anchor=\"middle\" x=\"171\" y=\"-69.8\" font-family=\"Times,serif\" font-size=\"14.00\">*</text>\n</g>\n<!-- 136214382773440&#45;&gt;136214382779776* -->\n<g id=\"edge4\" class=\"edge\">\n<title>136214382773440&#45;&gt;136214382779776*</title>\n<path fill=\"none\" stroke=\"black\" d=\"M108.12,-88.57C117.51,-86.28 127.06,-83.95 135.76,-81.84\"/>\n<polygon fill=\"black\" stroke=\"black\" points=\"136.62,-85.23 145.51,-79.46 134.97,-78.43 136.62,-85.23\"/>\n</g>\n<!-- 136214382774112 -->\n<g id=\"node4\" class=\"node\">\n<title>136214382774112</title>\n<polygon fill=\"none\" stroke=\"black\" points=\"2.5,-28.5 2.5,-64.5 105.5,-64.5 105.5,-28.5 2.5,-28.5\"/>\n<text text-anchor=\"middle\" x=\"14\" y=\"-42.8\" font-family=\"Times,serif\" font-size=\"14.00\">a</text>\n<polyline fill=\"none\" stroke=\"black\" points=\"25.5,-28.5 25.5,-64.5 \"/>\n<text text-anchor=\"middle\" x=\"65.5\" y=\"-42.8\" font-family=\"Times,serif\" font-size=\"14.00\">data 2.0000</text>\n</g>\n<!-- 136214382774112&#45;&gt;136214382779776* -->\n<g id=\"edge6\" class=\"edge\">\n<title>136214382774112&#45;&gt;136214382779776*</title>\n<path fill=\"none\" stroke=\"black\" d=\"M105.78,-58.42C115.74,-60.76 125.98,-63.17 135.28,-65.35\"/>\n<polygon fill=\"black\" stroke=\"black\" points=\"134.77,-68.82 145.3,-67.7 136.37,-62.01 134.77,-68.82\"/>\n</g>\n<!-- 136214382779776 -->\n<g id=\"node5\" class=\"node\">\n<title>136214382779776</title>\n<polygon fill=\"none\" stroke=\"black\" points=\"235,-55.5 235,-91.5 343,-91.5 343,-55.5 235,-55.5\"/>\n<text text-anchor=\"middle\" x=\"246.5\" y=\"-69.8\" font-family=\"Times,serif\" font-size=\"14.00\">e</text>\n<polyline fill=\"none\" stroke=\"black\" points=\"258,-55.5 258,-91.5 \"/>\n<text text-anchor=\"middle\" x=\"300.5\" y=\"-69.8\" font-family=\"Times,serif\" font-size=\"14.00\">data &#45;6.0000</text>\n</g>\n<!-- 136214382779776&#45;&gt;136214382775360+ -->\n<g id=\"edge3\" class=\"edge\">\n<title>136214382779776&#45;&gt;136214382775360+</title>\n<path fill=\"none\" stroke=\"black\" d=\"M343.25,-60.65C352.84,-58.33 362.6,-55.98 371.48,-53.83\"/>\n<polygon fill=\"black\" stroke=\"black\" points=\"372.54,-57.18 381.43,-51.43 370.89,-50.37 372.54,-57.18\"/>\n</g>\n<!-- 136214382779776*&#45;&gt;136214382779776 -->\n<g id=\"edge2\" class=\"edge\">\n<title>136214382779776*&#45;&gt;136214382779776</title>\n<path fill=\"none\" stroke=\"black\" d=\"M198.03,-73.5C206.08,-73.5 215.32,-73.5 224.74,-73.5\"/>\n<polygon fill=\"black\" stroke=\"black\" points=\"224.99,-77 234.99,-73.5 224.99,-70 224.99,-77\"/>\n</g>\n<!-- 136214382772672 -->\n<g id=\"node7\" class=\"node\">\n<title>136214382772672</title>\n<polygon fill=\"none\" stroke=\"black\" points=\"234,-0.5 234,-36.5 344,-36.5 344,-0.5 234,-0.5\"/>\n<text text-anchor=\"middle\" x=\"245.5\" y=\"-14.8\" font-family=\"Times,serif\" font-size=\"14.00\">c</text>\n<polyline fill=\"none\" stroke=\"black\" points=\"257,-0.5 257,-36.5 \"/>\n<text text-anchor=\"middle\" x=\"300.5\" y=\"-14.8\" font-family=\"Times,serif\" font-size=\"14.00\">data 10.0000</text>\n</g>\n<!-- 136214382772672&#45;&gt;136214382775360+ -->\n<g id=\"edge5\" class=\"edge\">\n<title>136214382772672&#45;&gt;136214382775360+</title>\n<path fill=\"none\" stroke=\"black\" d=\"M344.26,-31.13C353.49,-33.28 362.84,-35.45 371.37,-37.44\"/>\n<polygon fill=\"black\" stroke=\"black\" points=\"370.79,-40.9 381.32,-39.76 372.38,-34.08 370.79,-40.9\"/>\n</g>\n</g>\n</svg>\n",
            "text/plain": [
              "<graphviz.graphs.Digraph at 0x7be2e1bb7ac0>"
            ]
          },
          "metadata": {},
          "execution_count": 58
        }
      ]
    },
    {
      "cell_type": "markdown",
      "source": [
        "Let's make another variable L to be the last output"
      ],
      "metadata": {
        "id": "OOe0ejSz86Ms"
      }
    },
    {
      "cell_type": "code",
      "source": [
        "a = Value(2.0, label='a')\n",
        "b = Value(-3.0, label='b')\n",
        "c = Value(10.0, label='c')\n",
        "\n",
        "e = a*b; e.label = 'e'\n",
        "d = e + c; d.label = 'd'\n",
        "\n",
        "f = Value(-2.0, label='f')\n",
        "L = d * f; L.label = 'L'\n",
        "L"
      ],
      "metadata": {
        "colab": {
          "base_uri": "https://localhost:8080/"
        },
        "id": "QTq9tVQN8P14",
        "outputId": "72f7772d-018b-4183-8335-5a31f56a1300"
      },
      "execution_count": null,
      "outputs": [
        {
          "output_type": "execute_result",
          "data": {
            "text/plain": [
              "Value(data=-8.0)"
            ]
          },
          "metadata": {},
          "execution_count": 63
        }
      ]
    },
    {
      "cell_type": "code",
      "source": [
        "draw_dot(L)"
      ],
      "metadata": {
        "colab": {
          "base_uri": "https://localhost:8080/",
          "height": 229
        },
        "id": "O7HmPyIX9T6t",
        "outputId": "0d0b91e3-3349-46a8-f760-a280723646d0"
      },
      "execution_count": null,
      "outputs": [
        {
          "output_type": "execute_result",
          "data": {
            "image/svg+xml": "<?xml version=\"1.0\" encoding=\"UTF-8\" standalone=\"no\"?>\n<!DOCTYPE svg PUBLIC \"-//W3C//DTD SVG 1.1//EN\"\n \"http://www.w3.org/Graphics/SVG/1.1/DTD/svg11.dtd\">\n<!-- Generated by graphviz version 2.43.0 (0)\n -->\n<!-- Title: %3 Pages: 1 -->\n<svg width=\"820pt\" height=\"156pt\"\n viewBox=\"0.00 0.00 820.00 156.00\" xmlns=\"http://www.w3.org/2000/svg\" xmlns:xlink=\"http://www.w3.org/1999/xlink\">\n<g id=\"graph0\" class=\"graph\" transform=\"scale(1 1) rotate(0) translate(4 152)\">\n<title>%3</title>\n<polygon fill=\"white\" stroke=\"transparent\" points=\"-4,4 -4,-152 816,-152 816,4 -4,4\"/>\n<!-- 136214382780448 -->\n<g id=\"node1\" class=\"node\">\n<title>136214382780448</title>\n<polygon fill=\"none\" stroke=\"black\" points=\"0,-111.5 0,-147.5 108,-147.5 108,-111.5 0,-111.5\"/>\n<text text-anchor=\"middle\" x=\"11.5\" y=\"-125.8\" font-family=\"Times,serif\" font-size=\"14.00\">b</text>\n<polyline fill=\"none\" stroke=\"black\" points=\"23,-111.5 23,-147.5 \"/>\n<text text-anchor=\"middle\" x=\"65.5\" y=\"-125.8\" font-family=\"Times,serif\" font-size=\"14.00\">data &#45;3.0000</text>\n</g>\n<!-- 136214382773344* -->\n<g id=\"node5\" class=\"node\">\n<title>136214382773344*</title>\n<ellipse fill=\"none\" stroke=\"black\" cx=\"171\" cy=\"-101.5\" rx=\"27\" ry=\"18\"/>\n<text text-anchor=\"middle\" x=\"171\" y=\"-97.8\" font-family=\"Times,serif\" font-size=\"14.00\">*</text>\n</g>\n<!-- 136214382780448&#45;&gt;136214382773344* -->\n<g id=\"edge5\" class=\"edge\">\n<title>136214382780448&#45;&gt;136214382773344*</title>\n<path fill=\"none\" stroke=\"black\" d=\"M108.12,-116.57C117.51,-114.28 127.06,-111.95 135.76,-109.84\"/>\n<polygon fill=\"black\" stroke=\"black\" points=\"136.62,-113.23 145.51,-107.46 134.97,-106.43 136.62,-113.23\"/>\n</g>\n<!-- 136214382777376 -->\n<g id=\"node2\" class=\"node\">\n<title>136214382777376</title>\n<polygon fill=\"none\" stroke=\"black\" points=\"471.5,-55.5 471.5,-91.5 574.5,-91.5 574.5,-55.5 471.5,-55.5\"/>\n<text text-anchor=\"middle\" x=\"483\" y=\"-69.8\" font-family=\"Times,serif\" font-size=\"14.00\">d</text>\n<polyline fill=\"none\" stroke=\"black\" points=\"494.5,-55.5 494.5,-91.5 \"/>\n<text text-anchor=\"middle\" x=\"534.5\" y=\"-69.8\" font-family=\"Times,serif\" font-size=\"14.00\">data 4.0000</text>\n</g>\n<!-- 136214382775648* -->\n<g id=\"node8\" class=\"node\">\n<title>136214382775648*</title>\n<ellipse fill=\"none\" stroke=\"black\" cx=\"639\" cy=\"-45.5\" rx=\"27\" ry=\"18\"/>\n<text text-anchor=\"middle\" x=\"639\" y=\"-41.8\" font-family=\"Times,serif\" font-size=\"14.00\">*</text>\n</g>\n<!-- 136214382777376&#45;&gt;136214382775648* -->\n<g id=\"edge7\" class=\"edge\">\n<title>136214382777376&#45;&gt;136214382775648*</title>\n<path fill=\"none\" stroke=\"black\" d=\"M574.67,-61.06C584.43,-58.66 594.45,-56.2 603.55,-53.96\"/>\n<polygon fill=\"black\" stroke=\"black\" points=\"604.5,-57.33 613.37,-51.55 602.83,-50.54 604.5,-57.33\"/>\n</g>\n<!-- 136214382777376+ -->\n<g id=\"node3\" class=\"node\">\n<title>136214382777376+</title>\n<ellipse fill=\"none\" stroke=\"black\" cx=\"407\" cy=\"-73.5\" rx=\"27\" ry=\"18\"/>\n<text text-anchor=\"middle\" x=\"407\" y=\"-69.8\" font-family=\"Times,serif\" font-size=\"14.00\">+</text>\n</g>\n<!-- 136214382777376+&#45;&gt;136214382777376 -->\n<g id=\"edge1\" class=\"edge\">\n<title>136214382777376+&#45;&gt;136214382777376</title>\n<path fill=\"none\" stroke=\"black\" d=\"M434.15,-73.5C442.26,-73.5 451.57,-73.5 461.02,-73.5\"/>\n<polygon fill=\"black\" stroke=\"black\" points=\"461.28,-77 471.28,-73.5 461.28,-70 461.28,-77\"/>\n</g>\n<!-- 136214382773344 -->\n<g id=\"node4\" class=\"node\">\n<title>136214382773344</title>\n<polygon fill=\"none\" stroke=\"black\" points=\"235,-83.5 235,-119.5 343,-119.5 343,-83.5 235,-83.5\"/>\n<text text-anchor=\"middle\" x=\"246.5\" y=\"-97.8\" font-family=\"Times,serif\" font-size=\"14.00\">e</text>\n<polyline fill=\"none\" stroke=\"black\" points=\"258,-83.5 258,-119.5 \"/>\n<text text-anchor=\"middle\" x=\"300.5\" y=\"-97.8\" font-family=\"Times,serif\" font-size=\"14.00\">data &#45;6.0000</text>\n</g>\n<!-- 136214382773344&#45;&gt;136214382777376+ -->\n<g id=\"edge9\" class=\"edge\">\n<title>136214382773344&#45;&gt;136214382777376+</title>\n<path fill=\"none\" stroke=\"black\" d=\"M343.25,-88.65C352.84,-86.33 362.6,-83.98 371.48,-81.83\"/>\n<polygon fill=\"black\" stroke=\"black\" points=\"372.54,-85.18 381.43,-79.43 370.89,-78.37 372.54,-85.18\"/>\n</g>\n<!-- 136214382773344*&#45;&gt;136214382773344 -->\n<g id=\"edge2\" class=\"edge\">\n<title>136214382773344*&#45;&gt;136214382773344</title>\n<path fill=\"none\" stroke=\"black\" d=\"M198.03,-101.5C206.08,-101.5 215.32,-101.5 224.74,-101.5\"/>\n<polygon fill=\"black\" stroke=\"black\" points=\"224.99,-105 234.99,-101.5 224.99,-98 224.99,-105\"/>\n</g>\n<!-- 136214382787888 -->\n<g id=\"node6\" class=\"node\">\n<title>136214382787888</title>\n<polygon fill=\"none\" stroke=\"black\" points=\"470,-0.5 470,-36.5 576,-36.5 576,-0.5 470,-0.5\"/>\n<text text-anchor=\"middle\" x=\"480.5\" y=\"-14.8\" font-family=\"Times,serif\" font-size=\"14.00\">f</text>\n<polyline fill=\"none\" stroke=\"black\" points=\"491,-0.5 491,-36.5 \"/>\n<text text-anchor=\"middle\" x=\"533.5\" y=\"-14.8\" font-family=\"Times,serif\" font-size=\"14.00\">data &#45;2.0000</text>\n</g>\n<!-- 136214382787888&#45;&gt;136214382775648* -->\n<g id=\"edge8\" class=\"edge\">\n<title>136214382787888&#45;&gt;136214382775648*</title>\n<path fill=\"none\" stroke=\"black\" d=\"M576.33,-30.89C585.48,-33.06 594.8,-35.27 603.33,-37.29\"/>\n<polygon fill=\"black\" stroke=\"black\" points=\"602.73,-40.74 613.27,-39.64 604.34,-33.93 602.73,-40.74\"/>\n</g>\n<!-- 136214382775648 -->\n<g id=\"node7\" class=\"node\">\n<title>136214382775648</title>\n<polygon fill=\"none\" stroke=\"black\" points=\"702,-27.5 702,-63.5 812,-63.5 812,-27.5 702,-27.5\"/>\n<text text-anchor=\"middle\" x=\"714.5\" y=\"-41.8\" font-family=\"Times,serif\" font-size=\"14.00\">L</text>\n<polyline fill=\"none\" stroke=\"black\" points=\"727,-27.5 727,-63.5 \"/>\n<text text-anchor=\"middle\" x=\"769.5\" y=\"-41.8\" font-family=\"Times,serif\" font-size=\"14.00\">data &#45;8.0000</text>\n</g>\n<!-- 136214382775648*&#45;&gt;136214382775648 -->\n<g id=\"edge3\" class=\"edge\">\n<title>136214382775648*&#45;&gt;136214382775648</title>\n<path fill=\"none\" stroke=\"black\" d=\"M666.03,-45.5C673.7,-45.5 682.45,-45.5 691.42,-45.5\"/>\n<polygon fill=\"black\" stroke=\"black\" points=\"691.58,-49 701.58,-45.5 691.58,-42 691.58,-49\"/>\n</g>\n<!-- 136214382773680 -->\n<g id=\"node9\" class=\"node\">\n<title>136214382773680</title>\n<polygon fill=\"none\" stroke=\"black\" points=\"2.5,-56.5 2.5,-92.5 105.5,-92.5 105.5,-56.5 2.5,-56.5\"/>\n<text text-anchor=\"middle\" x=\"14\" y=\"-70.8\" font-family=\"Times,serif\" font-size=\"14.00\">a</text>\n<polyline fill=\"none\" stroke=\"black\" points=\"25.5,-56.5 25.5,-92.5 \"/>\n<text text-anchor=\"middle\" x=\"65.5\" y=\"-70.8\" font-family=\"Times,serif\" font-size=\"14.00\">data 2.0000</text>\n</g>\n<!-- 136214382773680&#45;&gt;136214382773344* -->\n<g id=\"edge6\" class=\"edge\">\n<title>136214382773680&#45;&gt;136214382773344*</title>\n<path fill=\"none\" stroke=\"black\" d=\"M105.78,-86.42C115.74,-88.76 125.98,-91.17 135.28,-93.35\"/>\n<polygon fill=\"black\" stroke=\"black\" points=\"134.77,-96.82 145.3,-95.7 136.37,-90.01 134.77,-96.82\"/>\n</g>\n<!-- 136214382786016 -->\n<g id=\"node10\" class=\"node\">\n<title>136214382786016</title>\n<polygon fill=\"none\" stroke=\"black\" points=\"234,-28.5 234,-64.5 344,-64.5 344,-28.5 234,-28.5\"/>\n<text text-anchor=\"middle\" x=\"245.5\" y=\"-42.8\" font-family=\"Times,serif\" font-size=\"14.00\">c</text>\n<polyline fill=\"none\" stroke=\"black\" points=\"257,-28.5 257,-64.5 \"/>\n<text text-anchor=\"middle\" x=\"300.5\" y=\"-42.8\" font-family=\"Times,serif\" font-size=\"14.00\">data 10.0000</text>\n</g>\n<!-- 136214382786016&#45;&gt;136214382777376+ -->\n<g id=\"edge4\" class=\"edge\">\n<title>136214382786016&#45;&gt;136214382777376+</title>\n<path fill=\"none\" stroke=\"black\" d=\"M344.26,-59.13C353.49,-61.28 362.84,-63.45 371.37,-65.44\"/>\n<polygon fill=\"black\" stroke=\"black\" points=\"370.79,-68.9 381.32,-67.76 372.38,-62.08 370.79,-68.9\"/>\n</g>\n</g>\n</svg>\n",
            "text/plain": [
              "<graphviz.graphs.Digraph at 0x7be2e1e61270>"
            ]
          },
          "metadata": {},
          "execution_count": 64
        }
      ]
    },
    {
      "cell_type": "markdown",
      "source": [
        "## Create Gradient for Graph"
      ],
      "metadata": {
        "id": "vZh4R87B-gkk"
      }
    },
    {
      "cell_type": "markdown",
      "source": [
        "The concept:\n",
        "\n",
        "We will now need to put in grad into our current Value object structure.\n",
        "\n",
        "Grad will calculate the derivative\n",
        "\n",
        "Grad will initially be 0, because we need to assume that every single value will not affect the Output"
      ],
      "metadata": {
        "id": "BEBe3kXd-jNF"
      }
    },
    {
      "cell_type": "code",
      "source": [
        "class Value:\n",
        "\n",
        "  def __init__(self, data, _children=(), _op='', label=''):\n",
        "    self.data = data\n",
        "    self.grad = 0 # gradient will initially be 0\n",
        "    self._prev = set(_children)\n",
        "    self._op = _op\n",
        "    self.label = label\n",
        "\n",
        "  def __repr__(self):\n",
        "    return f\"Value(data={self.data})\"\n",
        "\n",
        "  def __add__(self, other):\n",
        "    out = Value(self.data + other.data,\n",
        "                (self, other),\n",
        "                _op='+'\n",
        "                )\n",
        "    return out\n",
        "\n",
        "  def __mul__(self, other):\n",
        "    out = Value(self.data * other.data,\n",
        "                (self, other),\n",
        "                _op='*'\n",
        "                )\n",
        "    return out"
      ],
      "metadata": {
        "id": "CCmx9Zca9Von"
      },
      "execution_count": null,
      "outputs": []
    },
    {
      "cell_type": "markdown",
      "source": [
        "Update our Visualize code, include grad"
      ],
      "metadata": {
        "id": "rlI1uvS3_N1b"
      }
    },
    {
      "cell_type": "code",
      "source": [
        "from graphviz import Digraph\n",
        "\n",
        "def trace(root):\n",
        "  # builds a set of all nodes and edges in a graph\n",
        "  nodes, edges = set(), set()\n",
        "  def build(v):\n",
        "    if v not in nodes:\n",
        "      nodes.add(v)\n",
        "      for child in v._prev:\n",
        "        edges.add((child, v))\n",
        "        build(child)\n",
        "  build(root)\n",
        "  return nodes, edges\n",
        "\n",
        "def draw_dot(root):\n",
        "  dot = Digraph(format='svg', graph_attr={'rankdir': 'LR'}) # LR = left to right\n",
        "\n",
        "  nodes, edges = trace(root)\n",
        "  for n in nodes:\n",
        "    uid = str(id(n))\n",
        "    # for any value in the graph, create a rectangular ('record') node for it\n",
        "\n",
        "    # -------------------------- Include Grad, Label, Data --------------------------------------\n",
        "    dot.node(name = uid, label = \"{ %s | data %.4f | grad %.4f }\" % (n.label, n.data, n.grad), shape='record')\n",
        "\n",
        "    if n._op:\n",
        "      # if this value is a result of some operation, create an op node for it\n",
        "      dot.node(name = uid + n._op, label=n._op)\n",
        "      # and connect this node to it\n",
        "      dot.edge(uid + n._op, uid)\n",
        "\n",
        "  for n1, n2 in edges:\n",
        "    # connect n1 to the op node of n2\n",
        "    dot.edge(str(id(n1)), str(id(n2)) + n2._op)\n",
        "\n",
        "  return dot"
      ],
      "metadata": {
        "id": "xsEO4NM4_NS7"
      },
      "execution_count": null,
      "outputs": []
    },
    {
      "cell_type": "code",
      "source": [
        "a = Value(2.0, label='a')\n",
        "b = Value(-3.0, label='b')\n",
        "c = Value(10.0, label='c')\n",
        "\n",
        "e = a*b; e.label = 'e'\n",
        "d = e + c; d.label = 'd'\n",
        "\n",
        "f = Value(-2.0, label='f')\n",
        "L = d * f; L.label = 'L'\n",
        "L"
      ],
      "metadata": {
        "colab": {
          "base_uri": "https://localhost:8080/"
        },
        "id": "wE-qcX0y_qYr",
        "outputId": "859eda6f-c766-4cd2-a99a-7c8a2c134fa1"
      },
      "execution_count": null,
      "outputs": [
        {
          "output_type": "execute_result",
          "data": {
            "text/plain": [
              "Value(data=-8.0)"
            ]
          },
          "metadata": {},
          "execution_count": 103
        }
      ]
    },
    {
      "cell_type": "code",
      "source": [
        "draw_dot(L)"
      ],
      "metadata": {
        "colab": {
          "base_uri": "https://localhost:8080/",
          "height": 249
        },
        "id": "gaUfVVer_auT",
        "outputId": "113bd050-88e4-4020-d0a4-f93fe6132a85"
      },
      "execution_count": null,
      "outputs": [
        {
          "output_type": "execute_result",
          "data": {
            "image/svg+xml": "<?xml version=\"1.0\" encoding=\"UTF-8\" standalone=\"no\"?>\n<!DOCTYPE svg PUBLIC \"-//W3C//DTD SVG 1.1//EN\"\n \"http://www.w3.org/Graphics/SVG/1.1/DTD/svg11.dtd\">\n<!-- Generated by graphviz version 2.43.0 (0)\n -->\n<!-- Title: %3 Pages: 1 -->\n<svg width=\"1143pt\" height=\"156pt\"\n viewBox=\"0.00 0.00 1143.00 156.00\" xmlns=\"http://www.w3.org/2000/svg\" xmlns:xlink=\"http://www.w3.org/1999/xlink\">\n<g id=\"graph0\" class=\"graph\" transform=\"scale(1 1) rotate(0) translate(4 152)\">\n<title>%3</title>\n<polygon fill=\"white\" stroke=\"transparent\" points=\"-4,4 -4,-152 1139,-152 1139,4 -4,4\"/>\n<!-- 136214382785536 -->\n<g id=\"node1\" class=\"node\">\n<title>136214382785536</title>\n<polygon fill=\"none\" stroke=\"black\" points=\"0,-111.5 0,-147.5 190,-147.5 190,-111.5 0,-111.5\"/>\n<text text-anchor=\"middle\" x=\"11.5\" y=\"-125.8\" font-family=\"Times,serif\" font-size=\"14.00\">b</text>\n<polyline fill=\"none\" stroke=\"black\" points=\"23,-111.5 23,-147.5 \"/>\n<text text-anchor=\"middle\" x=\"65.5\" y=\"-125.8\" font-family=\"Times,serif\" font-size=\"14.00\">data &#45;3.0000</text>\n<polyline fill=\"none\" stroke=\"black\" points=\"108,-111.5 108,-147.5 \"/>\n<text text-anchor=\"middle\" x=\"149\" y=\"-125.8\" font-family=\"Times,serif\" font-size=\"14.00\">grad 0.0000</text>\n</g>\n<!-- 136214380325968* -->\n<g id=\"node4\" class=\"node\">\n<title>136214380325968*</title>\n<ellipse fill=\"none\" stroke=\"black\" cx=\"253\" cy=\"-101.5\" rx=\"27\" ry=\"18\"/>\n<text text-anchor=\"middle\" x=\"253\" y=\"-97.8\" font-family=\"Times,serif\" font-size=\"14.00\">*</text>\n</g>\n<!-- 136214382785536&#45;&gt;136214380325968* -->\n<g id=\"edge9\" class=\"edge\">\n<title>136214382785536&#45;&gt;136214380325968*</title>\n<path fill=\"none\" stroke=\"black\" d=\"M190.34,-112.57C199.62,-110.9 208.58,-109.29 216.66,-107.84\"/>\n<polygon fill=\"black\" stroke=\"black\" points=\"217.49,-111.25 226.72,-106.04 216.26,-104.36 217.49,-111.25\"/>\n</g>\n<!-- 136214380328464 -->\n<g id=\"node2\" class=\"node\">\n<title>136214380328464</title>\n<polygon fill=\"none\" stroke=\"black\" points=\"634,-0.5 634,-36.5 822,-36.5 822,-0.5 634,-0.5\"/>\n<text text-anchor=\"middle\" x=\"644.5\" y=\"-14.8\" font-family=\"Times,serif\" font-size=\"14.00\">f</text>\n<polyline fill=\"none\" stroke=\"black\" points=\"655,-0.5 655,-36.5 \"/>\n<text text-anchor=\"middle\" x=\"697.5\" y=\"-14.8\" font-family=\"Times,serif\" font-size=\"14.00\">data &#45;2.0000</text>\n<polyline fill=\"none\" stroke=\"black\" points=\"740,-0.5 740,-36.5 \"/>\n<text text-anchor=\"middle\" x=\"781\" y=\"-14.8\" font-family=\"Times,serif\" font-size=\"14.00\">grad 0.0000</text>\n</g>\n<!-- 136214380324720* -->\n<g id=\"node10\" class=\"node\">\n<title>136214380324720*</title>\n<ellipse fill=\"none\" stroke=\"black\" cx=\"885\" cy=\"-45.5\" rx=\"27\" ry=\"18\"/>\n<text text-anchor=\"middle\" x=\"885\" y=\"-41.8\" font-family=\"Times,serif\" font-size=\"14.00\">*</text>\n</g>\n<!-- 136214380328464&#45;&gt;136214380324720* -->\n<g id=\"edge6\" class=\"edge\">\n<title>136214380328464&#45;&gt;136214380324720*</title>\n<path fill=\"none\" stroke=\"black\" d=\"M822.29,-34.75C831.57,-36.37 840.52,-37.93 848.61,-39.33\"/>\n<polygon fill=\"black\" stroke=\"black\" points=\"848.22,-42.82 858.68,-41.09 849.42,-35.92 848.22,-42.82\"/>\n</g>\n<!-- 136214380325968 -->\n<g id=\"node3\" class=\"node\">\n<title>136214380325968</title>\n<polygon fill=\"none\" stroke=\"black\" points=\"318.5,-83.5 318.5,-119.5 505.5,-119.5 505.5,-83.5 318.5,-83.5\"/>\n<text text-anchor=\"middle\" x=\"328.5\" y=\"-97.8\" font-family=\"Times,serif\" font-size=\"14.00\"> </text>\n<polyline fill=\"none\" stroke=\"black\" points=\"338.5,-83.5 338.5,-119.5 \"/>\n<text text-anchor=\"middle\" x=\"381\" y=\"-97.8\" font-family=\"Times,serif\" font-size=\"14.00\">data &#45;6.0000</text>\n<polyline fill=\"none\" stroke=\"black\" points=\"423.5,-83.5 423.5,-119.5 \"/>\n<text text-anchor=\"middle\" x=\"464.5\" y=\"-97.8\" font-family=\"Times,serif\" font-size=\"14.00\">grad 0.0000</text>\n</g>\n<!-- 136214380325200+ -->\n<g id=\"node8\" class=\"node\">\n<title>136214380325200+</title>\n<ellipse fill=\"none\" stroke=\"black\" cx=\"571\" cy=\"-73.5\" rx=\"27\" ry=\"18\"/>\n<text text-anchor=\"middle\" x=\"571\" y=\"-69.8\" font-family=\"Times,serif\" font-size=\"14.00\">+</text>\n</g>\n<!-- 136214380325968&#45;&gt;136214380325200+ -->\n<g id=\"edge5\" class=\"edge\">\n<title>136214380325968&#45;&gt;136214380325200+</title>\n<path fill=\"none\" stroke=\"black\" d=\"M505.69,-84.97C516,-83.13 525.97,-81.35 534.85,-79.77\"/>\n<polygon fill=\"black\" stroke=\"black\" points=\"535.52,-83.2 544.75,-78 534.29,-76.31 535.52,-83.2\"/>\n</g>\n<!-- 136214380325968*&#45;&gt;136214380325968 -->\n<g id=\"edge1\" class=\"edge\">\n<title>136214380325968*&#45;&gt;136214380325968</title>\n<path fill=\"none\" stroke=\"black\" d=\"M280.28,-101.5C288.4,-101.5 297.88,-101.5 307.96,-101.5\"/>\n<polygon fill=\"black\" stroke=\"black\" points=\"308.22,-105 318.22,-101.5 308.22,-98 308.22,-105\"/>\n</g>\n<!-- 136214381825136 -->\n<g id=\"node5\" class=\"node\">\n<title>136214381825136</title>\n<polygon fill=\"none\" stroke=\"black\" points=\"316,-28.5 316,-64.5 508,-64.5 508,-28.5 316,-28.5\"/>\n<text text-anchor=\"middle\" x=\"327.5\" y=\"-42.8\" font-family=\"Times,serif\" font-size=\"14.00\">c</text>\n<polyline fill=\"none\" stroke=\"black\" points=\"339,-28.5 339,-64.5 \"/>\n<text text-anchor=\"middle\" x=\"382.5\" y=\"-42.8\" font-family=\"Times,serif\" font-size=\"14.00\">data 10.0000</text>\n<polyline fill=\"none\" stroke=\"black\" points=\"426,-28.5 426,-64.5 \"/>\n<text text-anchor=\"middle\" x=\"467\" y=\"-42.8\" font-family=\"Times,serif\" font-size=\"14.00\">grad 0.0000</text>\n</g>\n<!-- 136214381825136&#45;&gt;136214380325200+ -->\n<g id=\"edge4\" class=\"edge\">\n<title>136214381825136&#45;&gt;136214380325200+</title>\n<path fill=\"none\" stroke=\"black\" d=\"M508.4,-62.91C517.69,-64.5 526.64,-66.04 534.71,-67.43\"/>\n<polygon fill=\"black\" stroke=\"black\" points=\"534.32,-70.91 544.76,-69.16 535.5,-64.02 534.32,-70.91\"/>\n</g>\n<!-- 136214381825232 -->\n<g id=\"node6\" class=\"node\">\n<title>136214381825232</title>\n<polygon fill=\"none\" stroke=\"black\" points=\"2.5,-56.5 2.5,-92.5 187.5,-92.5 187.5,-56.5 2.5,-56.5\"/>\n<text text-anchor=\"middle\" x=\"14\" y=\"-70.8\" font-family=\"Times,serif\" font-size=\"14.00\">a</text>\n<polyline fill=\"none\" stroke=\"black\" points=\"25.5,-56.5 25.5,-92.5 \"/>\n<text text-anchor=\"middle\" x=\"65.5\" y=\"-70.8\" font-family=\"Times,serif\" font-size=\"14.00\">data 2.0000</text>\n<polyline fill=\"none\" stroke=\"black\" points=\"105.5,-56.5 105.5,-92.5 \"/>\n<text text-anchor=\"middle\" x=\"146.5\" y=\"-70.8\" font-family=\"Times,serif\" font-size=\"14.00\">grad 0.0000</text>\n</g>\n<!-- 136214381825232&#45;&gt;136214380325968* -->\n<g id=\"edge8\" class=\"edge\">\n<title>136214381825232&#45;&gt;136214380325968*</title>\n<path fill=\"none\" stroke=\"black\" d=\"M187.65,-90.36C197.94,-92.14 207.91,-93.87 216.81,-95.41\"/>\n<polygon fill=\"black\" stroke=\"black\" points=\"216.26,-98.87 226.71,-97.12 217.45,-91.97 216.26,-98.87\"/>\n</g>\n<!-- 136214380325200 -->\n<g id=\"node7\" class=\"node\">\n<title>136214380325200</title>\n<polygon fill=\"none\" stroke=\"black\" points=\"637,-55.5 637,-91.5 819,-91.5 819,-55.5 637,-55.5\"/>\n<text text-anchor=\"middle\" x=\"647\" y=\"-69.8\" font-family=\"Times,serif\" font-size=\"14.00\"> </text>\n<polyline fill=\"none\" stroke=\"black\" points=\"657,-55.5 657,-91.5 \"/>\n<text text-anchor=\"middle\" x=\"697\" y=\"-69.8\" font-family=\"Times,serif\" font-size=\"14.00\">data 4.0000</text>\n<polyline fill=\"none\" stroke=\"black\" points=\"737,-55.5 737,-91.5 \"/>\n<text text-anchor=\"middle\" x=\"778\" y=\"-69.8\" font-family=\"Times,serif\" font-size=\"14.00\">grad 0.0000</text>\n</g>\n<!-- 136214380325200&#45;&gt;136214380324720* -->\n<g id=\"edge7\" class=\"edge\">\n<title>136214380325200&#45;&gt;136214380324720*</title>\n<path fill=\"none\" stroke=\"black\" d=\"M819.16,-57.21C829.6,-55.33 839.72,-53.5 848.74,-51.87\"/>\n<polygon fill=\"black\" stroke=\"black\" points=\"849.56,-55.28 858.78,-50.06 848.32,-48.39 849.56,-55.28\"/>\n</g>\n<!-- 136214380325200+&#45;&gt;136214380325200 -->\n<g id=\"edge2\" class=\"edge\">\n<title>136214380325200+&#45;&gt;136214380325200</title>\n<path fill=\"none\" stroke=\"black\" d=\"M598.29,-73.5C606.61,-73.5 616.34,-73.5 626.67,-73.5\"/>\n<polygon fill=\"black\" stroke=\"black\" points=\"626.73,-77 636.73,-73.5 626.73,-70 626.73,-77\"/>\n</g>\n<!-- 136214380324720 -->\n<g id=\"node9\" class=\"node\">\n<title>136214380324720</title>\n<polygon fill=\"none\" stroke=\"black\" points=\"948,-27.5 948,-63.5 1135,-63.5 1135,-27.5 948,-27.5\"/>\n<text text-anchor=\"middle\" x=\"958\" y=\"-41.8\" font-family=\"Times,serif\" font-size=\"14.00\"> </text>\n<polyline fill=\"none\" stroke=\"black\" points=\"968,-27.5 968,-63.5 \"/>\n<text text-anchor=\"middle\" x=\"1010.5\" y=\"-41.8\" font-family=\"Times,serif\" font-size=\"14.00\">data &#45;8.0000</text>\n<polyline fill=\"none\" stroke=\"black\" points=\"1053,-27.5 1053,-63.5 \"/>\n<text text-anchor=\"middle\" x=\"1094\" y=\"-41.8\" font-family=\"Times,serif\" font-size=\"14.00\">grad 0.0000</text>\n</g>\n<!-- 136214380324720*&#45;&gt;136214380324720 -->\n<g id=\"edge3\" class=\"edge\">\n<title>136214380324720*&#45;&gt;136214380324720</title>\n<path fill=\"none\" stroke=\"black\" d=\"M912.21,-45.5C919.73,-45.5 928.43,-45.5 937.67,-45.5\"/>\n<polygon fill=\"black\" stroke=\"black\" points=\"937.89,-49 947.89,-45.5 937.89,-42 937.89,-49\"/>\n</g>\n</g>\n</svg>\n",
            "text/plain": [
              "<graphviz.graphs.Digraph at 0x7be2e1c0acb0>"
            ]
          },
          "metadata": {},
          "execution_count": 105
        }
      ]
    },
    {
      "cell_type": "markdown",
      "source": [
        "Backpropagation (Simple Expression)"
      ],
      "metadata": {
        "id": "gR6h4lMeAk96"
      }
    },
    {
      "cell_type": "markdown",
      "source": [
        "Calculate Derivative of L with respect to L"
      ],
      "metadata": {
        "id": "c_8znB2aAH8k"
      }
    },
    {
      "cell_type": "markdown",
      "source": [
        "![image.png](data:image/png;base64,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)"
      ],
      "metadata": {
        "id": "xcIy3yu6ALiL"
      }
    },
    {
      "cell_type": "code",
      "source": [
        "# We create this function is just to not mess up the Global variables.\n",
        "def lol():\n",
        "\n",
        "  h = 0.0001\n",
        "\n",
        "  # Without Increment of h\n",
        "  a = Value(2.0, label='a')\n",
        "  b = Value(-3.0, label='b')\n",
        "  c = Value(10.0, label='c')\n",
        "  e = a*b; e.label = 'e'\n",
        "  d = e + c; d.label = 'd'\n",
        "  f = Value(-2.0, label='f')\n",
        "  L = d * f; L.label = 'L'\n",
        "  L1 = L.data\n",
        "\n",
        "  # With Increment of h\n",
        "  a = Value(2.0, label='a')\n",
        "  b = Value(-3.0, label='b')\n",
        "  c = Value(10.0, label='c')\n",
        "  e = a*b; e.label = 'e'\n",
        "  d = e + c; d.label = 'd'\n",
        "  f = Value(-2.0, label='f')\n",
        "  L = d * f; L.label = 'L'\n",
        "  L2 = L.data + h # we increment h to L\n",
        "\n",
        "  print((L2 - L1) / h)\n",
        "\n",
        "lol()"
      ],
      "metadata": {
        "colab": {
          "base_uri": "https://localhost:8080/"
        },
        "id": "mXZKvrDF_YV-",
        "outputId": "2ae5b73e-0db5-410c-f4a3-71f6353a496b"
      },
      "execution_count": null,
      "outputs": [
        {
          "output_type": "stream",
          "name": "stdout",
          "text": [
            "0.9999999999976694\n"
          ]
        }
      ]
    },
    {
      "cell_type": "markdown",
      "source": [
        "# Backpropagation (Simple Expression)"
      ],
      "metadata": {
        "id": "vJl2np_Gn5uU"
      }
    },
    {
      "cell_type": "markdown",
      "source": [
        "## Calculate dL/dd"
      ],
      "metadata": {
        "id": "Wt50k8fJBxM7"
      }
    },
    {
      "cell_type": "markdown",
      "source": [
        "![image.png](data:image/png;base64,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)"
      ],
      "metadata": {
        "id": "IMDlkJx2B8BD"
      }
    },
    {
      "cell_type": "code",
      "source": [
        "# We now know that:\n",
        "# L = d * f\n",
        "\n",
        "# If we want to calculate the derivative will be:\n",
        "# dL/dd = ?\n",
        "\n",
        "# We apply the calculus properties thingi:\n",
        "# = (f(x + h) - f(x)) / h\n",
        "# = ((d + h)*f - d * f) / h\n",
        "# = (d*f + h*f - d * f) / h\n",
        "# = (h*f) / h\n",
        "# = f\n",
        "\n",
        "# dL/dd = -2.0\n",
        "# So, gradient for d is -2.0\n",
        "# because f is equal to -2.0"
      ],
      "metadata": {
        "id": "EJTr9Xr4OAgY"
      },
      "execution_count": null,
      "outputs": []
    },
    {
      "cell_type": "code",
      "source": [
        "d.grad = -2.0"
      ],
      "metadata": {
        "id": "i6eIyihHBp-2"
      },
      "execution_count": null,
      "outputs": []
    },
    {
      "cell_type": "markdown",
      "source": [
        "Let's Verify"
      ],
      "metadata": {
        "id": "eIjp4oqSNVpo"
      }
    },
    {
      "cell_type": "code",
      "source": [
        "# We create this function is just to not mess up the Global variables.\n",
        "def lol():\n",
        "\n",
        "  h = 0.0001\n",
        "\n",
        "  # Without Increment of h\n",
        "  a = Value(2.0, label='a')\n",
        "  b = Value(-3.0, label='b')\n",
        "  c = Value(10.0, label='c')\n",
        "  e = a*b; e.label = 'e'\n",
        "  d = e + c; d.label = 'd'\n",
        "  f = Value(-2.0, label='f')\n",
        "  L = d * f; L.label = 'L'\n",
        "  L1 = L.data\n",
        "\n",
        "  # With Increment of h\n",
        "  a = Value(2.0, label='a')\n",
        "  b = Value(-3.0, label='b')\n",
        "  c = Value(10.0, label='c')\n",
        "  e = a*b; e.label = 'e'\n",
        "  d = e + c; d.label = 'd'\n",
        "  d.data += h # we increment h to d\n",
        "  f = Value(-2.0, label='f')\n",
        "  L = d * f; L.label = 'L'\n",
        "  L2 = L.data\n",
        "\n",
        "  print((L2 - L1) / h)\n",
        "\n",
        "lol()"
      ],
      "metadata": {
        "colab": {
          "base_uri": "https://localhost:8080/"
        },
        "id": "4oBs7xrzNVQK",
        "outputId": "5f571d89-08ad-428d-ed6e-c57cd308a1e5"
      },
      "execution_count": null,
      "outputs": [
        {
          "output_type": "stream",
          "name": "stdout",
          "text": [
            "-1.9999999999953388\n"
          ]
        }
      ]
    },
    {
      "cell_type": "markdown",
      "source": [
        "## Calculate dL/df"
      ],
      "metadata": {
        "id": "WruAghokD4Yk"
      }
    },
    {
      "cell_type": "markdown",
      "source": [
        "![image.png](data:image/png;base64,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)"
      ],
      "metadata": {
        "id": "J0623z12En_U"
      }
    },
    {
      "cell_type": "code",
      "source": [
        "# We now know that:\n",
        "# L = d * f\n",
        "\n",
        "# If we want to calculate the derivative will be:\n",
        "# dL/df = ?\n",
        "\n",
        "# We apply the calculus properties thingi:\n",
        "# = (f(x + h) - f(x)) / h\n",
        "# = (d*(f + h) - d * f) / h\n",
        "# = (d*f + d*h - d * f) / h\n",
        "# = (d*h) / h\n",
        "# = d\n",
        "\n",
        "# dL/df = 4.0\n",
        "# So, gradient for f is 4.0\n",
        "# because d is equal to 4.0"
      ],
      "metadata": {
        "id": "IlddgLVDPZig"
      },
      "execution_count": null,
      "outputs": []
    },
    {
      "cell_type": "code",
      "source": [
        "f.grad = 4.0"
      ],
      "metadata": {
        "id": "AlvWjdzFD1_V"
      },
      "execution_count": null,
      "outputs": []
    },
    {
      "cell_type": "markdown",
      "source": [
        "Let's Verify"
      ],
      "metadata": {
        "id": "U7BHkM-EPhJ3"
      }
    },
    {
      "cell_type": "code",
      "source": [
        "# We create this function is just to not mess up the Global variables.\n",
        "def lol():\n",
        "\n",
        "  h = 0.0001\n",
        "\n",
        "  # Without Increment of h\n",
        "  a = Value(2.0, label='a')\n",
        "  b = Value(-3.0, label='b')\n",
        "  c = Value(10.0, label='c')\n",
        "  e = a*b; e.label = 'e'\n",
        "  d = e + c; d.label = 'd'\n",
        "  f = Value(-2.0, label='f')\n",
        "  L = d * f; L.label = 'L'\n",
        "  L1 = L.data\n",
        "\n",
        "  # With Increment of h\n",
        "  a = Value(2.0, label='a')\n",
        "  b = Value(-3.0, label='b')\n",
        "  c = Value(10.0, label='c')\n",
        "  e = a*b; e.label = 'e'\n",
        "  d = e + c; d.label = 'd'\n",
        "  f = Value(-2.0 + h, label='f')  # we increment h to f\n",
        "  L = d * f; L.label = 'L'\n",
        "  L2 = L.data\n",
        "\n",
        "  print((L2 - L1) / h)\n",
        "\n",
        "lol()"
      ],
      "metadata": {
        "colab": {
          "base_uri": "https://localhost:8080/"
        },
        "id": "T1_3Ahp7Mcd9",
        "outputId": "c7060460-89df-47a2-d9fa-56ed36cd6e10"
      },
      "execution_count": null,
      "outputs": [
        {
          "output_type": "stream",
          "name": "stdout",
          "text": [
            "3.9999999999995595\n"
          ]
        }
      ]
    },
    {
      "cell_type": "markdown",
      "source": [
        "## Calculate dL/de"
      ],
      "metadata": {
        "id": "W_0AZSP_QByX"
      }
    },
    {
      "cell_type": "markdown",
      "source": [
        "![image.png](data:image/png;base64,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)"
      ],
      "metadata": {
        "id": "DdY3461PQO5I"
      }
    },
    {
      "cell_type": "code",
      "source": [
        "# (Chain Rule)\n",
        "\n",
        "# We know that:\n",
        "# L = d * f\n",
        "# d = e + c (Local)\n",
        "\n",
        "# (Local Derivative)\n",
        "# If we want to calculate the derivative will be:\n",
        "# dd/de = ?\n",
        "\n",
        "# We apply the calculus properties thingi:\n",
        "# = (f(x + h) - f(x)) / h\n",
        "# = ((e+h + c) - (e + c)) / h\n",
        "# = (e + h + c - e - c) / h\n",
        "# = h / h\n",
        "# = 1.0\n",
        "\n",
        "# dd/de = 1.0\n",
        "# This is the derivative for dd/de, but we are not done yet!"
      ],
      "metadata": {
        "id": "KGzriDOZPmtM"
      },
      "execution_count": null,
      "outputs": []
    },
    {
      "cell_type": "code",
      "source": [
        "# Now\n",
        "\n",
        "# Want:\n",
        "# dL/de\n",
        "\n",
        "# Know:\n",
        "# dd/de and dL/dd\n",
        "\n",
        "# So, we can apply the chain rule\n",
        "# dL/de = (dL/dd)*(dd/de)\n",
        "# dL/de = (-2.0)*(1.0)\n",
        "# dL/de = -2.0\n",
        "\n",
        "# So, gradient for e is -2.0"
      ],
      "metadata": {
        "id": "4R-zUyq_Vux9"
      },
      "execution_count": null,
      "outputs": []
    },
    {
      "cell_type": "code",
      "source": [
        "e.grad = -2.0"
      ],
      "metadata": {
        "id": "W5DL8JGNWcAk"
      },
      "execution_count": null,
      "outputs": []
    },
    {
      "cell_type": "markdown",
      "source": [
        "Let's Verify"
      ],
      "metadata": {
        "id": "IiRuMpkCaQSw"
      }
    },
    {
      "cell_type": "code",
      "source": [
        "# We create this function is just to not mess up the Global variables.\n",
        "def lol():\n",
        "\n",
        "  h = 0.0001\n",
        "\n",
        "  # Without Increment of h\n",
        "  a = Value(2.0, label='a')\n",
        "  b = Value(-3.0, label='b')\n",
        "  c = Value(10.0, label='c')\n",
        "  e = a*b; e.label = 'e'\n",
        "  d = e + c; d.label = 'd'\n",
        "  f = Value(-2.0, label='f')\n",
        "  L = d * f; L.label = 'L'\n",
        "  L1 = L.data\n",
        "\n",
        "  # With Increment of h\n",
        "  a = Value(2.0, label='a')\n",
        "  b = Value(-3.0, label='b')\n",
        "  c = Value(10.0, label='c')\n",
        "  e = a*b; e.label = 'e'\n",
        "  e.data += h # we increment h to e\n",
        "  d = e + c; d.label = 'd'\n",
        "  f = Value(-2.0, label='f')\n",
        "  L = d * f; L.label = 'L'\n",
        "  L2 = L.data\n",
        "\n",
        "  print((L2 - L1) / h)\n",
        "\n",
        "lol()"
      ],
      "metadata": {
        "colab": {
          "base_uri": "https://localhost:8080/"
        },
        "id": "_H1jwPOGaPDc",
        "outputId": "8fd32be4-c0b0-40ed-ac11-5a08ce30ffd5"
      },
      "execution_count": null,
      "outputs": [
        {
          "output_type": "stream",
          "name": "stdout",
          "text": [
            "-1.9999999999953388\n"
          ]
        }
      ]
    },
    {
      "cell_type": "markdown",
      "source": [
        "## Calculate dL/dc"
      ],
      "metadata": {
        "id": "FnYvkIJZacnW"
      }
    },
    {
      "cell_type": "markdown",
      "source": [
        "![image.png](data:image/png;base64,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)"
      ],
      "metadata": {
        "id": "jOFWevHbajhu"
      }
    },
    {
      "cell_type": "code",
      "source": [
        "# (Chain Rule)\n",
        "\n",
        "# We know that:\n",
        "# L = d * f\n",
        "# d = e + c (Local)\n",
        "\n",
        "# (Local Derivative)\n",
        "# If we want to calculate the derivative will be:\n",
        "# dd/dc = ?\n",
        "\n",
        "# We apply the calculus properties thingi:\n",
        "# = (f(x + h) - f(x)) / h\n",
        "# = ((e + c+h) - (e + c)) / h\n",
        "# = (e + c + h - e - c) / h\n",
        "# = h / h\n",
        "# = 1.0\n",
        "\n",
        "# dd/dc = 1.0\n",
        "# This is the derivative for dd/dc, but we are not done yet!"
      ],
      "metadata": {
        "id": "EPOmJWqMaa62"
      },
      "execution_count": null,
      "outputs": []
    },
    {
      "cell_type": "code",
      "source": [
        "# Now\n",
        "\n",
        "# Want:\n",
        "# dL/dc\n",
        "\n",
        "# Know:\n",
        "# dd/dc and dL/dd\n",
        "\n",
        "# So, we can apply the chain rule\n",
        "# dL/dc = (dL/dd)*(dd/dc)\n",
        "# dL/dc = (-2.0)*(1.0)\n",
        "# dL/dc = -2.0\n",
        "\n",
        "# So, gradient for c is -2.0"
      ],
      "metadata": {
        "id": "jtclx2xUa9OT"
      },
      "execution_count": null,
      "outputs": []
    },
    {
      "cell_type": "code",
      "source": [
        "c.grad = -2.0"
      ],
      "metadata": {
        "id": "m4WU_TVsbdbY"
      },
      "execution_count": null,
      "outputs": []
    },
    {
      "cell_type": "markdown",
      "source": [
        "Let's Verify"
      ],
      "metadata": {
        "id": "FoFG0dTAbgQV"
      }
    },
    {
      "cell_type": "code",
      "source": [
        "# We create this function is just to not mess up the Global variables.\n",
        "def lol():\n",
        "\n",
        "  h = 0.0001\n",
        "\n",
        "  # Without Increment of h\n",
        "  a = Value(2.0, label='a')\n",
        "  b = Value(-3.0, label='b')\n",
        "  c = Value(10.0, label='c')\n",
        "  e = a*b; e.label = 'e'\n",
        "  d = e + c; d.label = 'd'\n",
        "  f = Value(-2.0, label='f')\n",
        "  L = d * f; L.label = 'L'\n",
        "  L1 = L.data\n",
        "\n",
        "  # With Increment of h\n",
        "  a = Value(2.0, label='a')\n",
        "  b = Value(-3.0, label='b')\n",
        "  c = Value(10.0 + h, label='c') # we increment h to c\n",
        "  e = a*b; e.label = 'e'\n",
        "  d = e + c; d.label = 'd'\n",
        "  f = Value(-2.0, label='f')\n",
        "  L = d * f; L.label = 'L'\n",
        "  L2 = L.data\n",
        "\n",
        "  print((L2 - L1) / h)\n",
        "\n",
        "lol()"
      ],
      "metadata": {
        "colab": {
          "base_uri": "https://localhost:8080/"
        },
        "id": "o6yYEVuGbhS4",
        "outputId": "1c2e2a4e-4fb0-4b43-feef-2903721195f1"
      },
      "execution_count": null,
      "outputs": [
        {
          "output_type": "stream",
          "name": "stdout",
          "text": [
            "-1.9999999999953388\n"
          ]
        }
      ]
    },
    {
      "cell_type": "markdown",
      "source": [
        "## Calculate dL/db"
      ],
      "metadata": {
        "id": "s4fVPXCtbzcA"
      }
    },
    {
      "cell_type": "markdown",
      "source": [
        "![image.png](data:image/png;base64,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)"
      ],
      "metadata": {
        "id": "UmUtd5zEb04O"
      }
    },
    {
      "cell_type": "code",
      "source": [
        "# (Chain Rule)\n",
        "\n",
        "# We know that:\n",
        "# L = d * f\n",
        "# d = e + c\n",
        "# e = b * a (Local)\n",
        "\n",
        "# (Local Derivative)\n",
        "# If we want to calculate the derivative will be:\n",
        "# de/db = ?\n",
        "\n",
        "# We apply the calculus properties thingi:\n",
        "# = (f(x + h) - f(x)) / h\n",
        "# = ((b+h)*a - b*a) / h\n",
        "# = (b*a + h*a - b*a) / h\n",
        "# = (h*a) / h\n",
        "# = a\n",
        "\n",
        "# de/db = a\n",
        "# de/db = 2.0\n",
        "# This is the derivative for de/db, but we are not done yet!"
      ],
      "metadata": {
        "id": "V1H0nRoPbkyc"
      },
      "execution_count": null,
      "outputs": []
    },
    {
      "cell_type": "code",
      "source": [
        "# Now\n",
        "\n",
        "# Want:\n",
        "# dL/db\n",
        "\n",
        "# Know:\n",
        "# dL/de and de/db\n",
        "\n",
        "# So, we can apply the chain rule\n",
        "# dL/de = (dL/de)*(de/db)\n",
        "# dL/de = (-2.0)*(2.0)\n",
        "# dL/de = -4.0\n",
        "\n",
        "# So, gradient for e is -4.0"
      ],
      "metadata": {
        "id": "l7Sl3nh1cJuG"
      },
      "execution_count": null,
      "outputs": []
    },
    {
      "cell_type": "code",
      "source": [
        "b.grad = -4.0"
      ],
      "metadata": {
        "id": "SHjBNTXGgci-"
      },
      "execution_count": null,
      "outputs": []
    },
    {
      "cell_type": "markdown",
      "source": [
        "Let's Verify"
      ],
      "metadata": {
        "id": "fTS3NLevgPHu"
      }
    },
    {
      "cell_type": "code",
      "source": [
        "# We create this function is just to not mess up the Global variables.\n",
        "def lol():\n",
        "\n",
        "  h = 0.0001\n",
        "\n",
        "  # Without Increment of h\n",
        "  a = Value(2.0, label='a')\n",
        "  b = Value(-3.0, label='b')\n",
        "  c = Value(10.0, label='c')\n",
        "  e = a*b; e.label = 'e'\n",
        "  d = e + c; d.label = 'd'\n",
        "  f = Value(-2.0, label='f')\n",
        "  L = d * f; L.label = 'L'\n",
        "  L1 = L.data\n",
        "\n",
        "  # With Increment of h\n",
        "  a = Value(2.0, label='a')\n",
        "  b = Value(-3.0 + h, label='b') # we increment h to b\n",
        "  c = Value(10.0, label='c')\n",
        "  e = a*b; e.label = 'e'\n",
        "  d = e + c; d.label = 'd'\n",
        "  f = Value(-2.0, label='f')\n",
        "  L = d * f; L.label = 'L'\n",
        "  L2 = L.data\n",
        "\n",
        "  print((L2 - L1) / h)\n",
        "\n",
        "lol()"
      ],
      "metadata": {
        "colab": {
          "base_uri": "https://localhost:8080/"
        },
        "id": "csqo6ZzGgPaJ",
        "outputId": "0eb9861a-8be2-4ce6-f03f-797ec9a272a8"
      },
      "execution_count": null,
      "outputs": [
        {
          "output_type": "stream",
          "name": "stdout",
          "text": [
            "-4.000000000008441\n"
          ]
        }
      ]
    },
    {
      "cell_type": "markdown",
      "source": [
        "## Calculate dL/da"
      ],
      "metadata": {
        "id": "VKkShd-jgg10"
      }
    },
    {
      "cell_type": "markdown",
      "source": [
        "![image.png](data:image/png;base64,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)"
      ],
      "metadata": {
        "id": "FO0MuM4_glZ6"
      }
    },
    {
      "cell_type": "code",
      "source": [
        "# (Chain Rule)\n",
        "\n",
        "# We know that:\n",
        "# L = d * f\n",
        "# d = e + c\n",
        "# e = b * a (Local)\n",
        "\n",
        "# (Local Derivative)\n",
        "# If we want to calculate the derivative will be:\n",
        "# de/da = ?\n",
        "\n",
        "# We apply the calculus properties thingi:\n",
        "# = (f(x + h) - f(x)) / h\n",
        "# = (b*(a+h) - b*a) / h\n",
        "# = (b*a + h*b - b*a) / h\n",
        "# = (h*b) / h\n",
        "# = b\n",
        "\n",
        "# de/da = b\n",
        "# de/da = -3.0\n",
        "# This is the derivative for de/da, but we are not done yet!"
      ],
      "metadata": {
        "id": "gYbwcUzbgWkE"
      },
      "execution_count": null,
      "outputs": []
    },
    {
      "cell_type": "code",
      "source": [
        "# Now\n",
        "\n",
        "# Want:\n",
        "# dL/da\n",
        "\n",
        "# Know:\n",
        "# dL/de and de/da\n",
        "\n",
        "# So, we can apply the chain rule\n",
        "# dL/da = (dL/de)*(de/da)\n",
        "# dL/da = (-2.0)*(-3.0)\n",
        "# dL/da = 6.0\n",
        "\n",
        "# So, gradient for a is 6.0"
      ],
      "metadata": {
        "id": "UcpYcHJQhB11"
      },
      "execution_count": null,
      "outputs": []
    },
    {
      "cell_type": "code",
      "source": [
        "a.grad = 6.0"
      ],
      "metadata": {
        "id": "TXJN2oNRhL-d"
      },
      "execution_count": null,
      "outputs": []
    },
    {
      "cell_type": "markdown",
      "source": [
        "Let's Verify"
      ],
      "metadata": {
        "id": "KsFRh9hPhKu2"
      }
    },
    {
      "cell_type": "code",
      "source": [
        "# We create this function is just to not mess up the Global variables.\n",
        "def lol():\n",
        "\n",
        "  h = 0.0001\n",
        "\n",
        "  # Without Increment of h\n",
        "  a = Value(2.0, label='a')\n",
        "  b = Value(-3.0, label='b')\n",
        "  c = Value(10.0, label='c')\n",
        "  e = a*b; e.label = 'e'\n",
        "  d = e + c; d.label = 'd'\n",
        "  f = Value(-2.0, label='f')\n",
        "  L = d * f; L.label = 'L'\n",
        "  L1 = L.data\n",
        "\n",
        "  # With Increment of h\n",
        "  a = Value(2.0 + h, label='a') # we increment h to a\n",
        "  b = Value(-3.0, label='b')\n",
        "  c = Value(10.0, label='c')\n",
        "  e = a*b; e.label = 'e'\n",
        "  d = e + c; d.label = 'd'\n",
        "  f = Value(-2.0, label='f')\n",
        "  L = d * f; L.label = 'L'\n",
        "  L2 = L.data\n",
        "\n",
        "  print((L2 - L1) / h)\n",
        "\n",
        "lol()"
      ],
      "metadata": {
        "colab": {
          "base_uri": "https://localhost:8080/"
        },
        "id": "GV8lfWizhRzd",
        "outputId": "0745f257-28f4-4ac6-c88c-dcc86fa8b6f6"
      },
      "execution_count": null,
      "outputs": [
        {
          "output_type": "stream",
          "name": "stdout",
          "text": [
            "6.000000000021544\n"
          ]
        }
      ]
    },
    {
      "cell_type": "markdown",
      "source": [
        "## Visualize All Derivative"
      ],
      "metadata": {
        "id": "tFtHEpNnhjr0"
      }
    },
    {
      "cell_type": "markdown",
      "source": [
        "We have now done all of the backpropagation ! Yay!"
      ],
      "metadata": {
        "id": "ebs2zIf6hyRN"
      }
    },
    {
      "cell_type": "code",
      "source": [
        "draw_dot(L)"
      ],
      "metadata": {
        "colab": {
          "base_uri": "https://localhost:8080/",
          "height": 249
        },
        "id": "Jv5vNZ2bhVP1",
        "outputId": "0f98a897-7272-4d40-f794-d2e113b28904"
      },
      "execution_count": null,
      "outputs": [
        {
          "output_type": "execute_result",
          "data": {
            "image/svg+xml": "<?xml version=\"1.0\" encoding=\"UTF-8\" standalone=\"no\"?>\n<!DOCTYPE svg PUBLIC \"-//W3C//DTD SVG 1.1//EN\"\n \"http://www.w3.org/Graphics/SVG/1.1/DTD/svg11.dtd\">\n<!-- Generated by graphviz version 2.43.0 (0)\n -->\n<!-- Title: %3 Pages: 1 -->\n<svg width=\"1151pt\" height=\"156pt\"\n viewBox=\"0.00 0.00 1151.00 156.00\" xmlns=\"http://www.w3.org/2000/svg\" xmlns:xlink=\"http://www.w3.org/1999/xlink\">\n<g id=\"graph0\" class=\"graph\" transform=\"scale(1 1) rotate(0) translate(4 152)\">\n<title>%3</title>\n<polygon fill=\"white\" stroke=\"transparent\" points=\"-4,4 -4,-152 1147,-152 1147,4 -4,4\"/>\n<!-- 136214382785536 -->\n<g id=\"node1\" class=\"node\">\n<title>136214382785536</title>\n<polygon fill=\"none\" stroke=\"black\" points=\"0,-111.5 0,-147.5 194,-147.5 194,-111.5 0,-111.5\"/>\n<text text-anchor=\"middle\" x=\"11.5\" y=\"-125.8\" font-family=\"Times,serif\" font-size=\"14.00\">b</text>\n<polyline fill=\"none\" stroke=\"black\" points=\"23,-111.5 23,-147.5 \"/>\n<text text-anchor=\"middle\" x=\"65.5\" y=\"-125.8\" font-family=\"Times,serif\" font-size=\"14.00\">data &#45;3.0000</text>\n<polyline fill=\"none\" stroke=\"black\" points=\"108,-111.5 108,-147.5 \"/>\n<text text-anchor=\"middle\" x=\"151\" y=\"-125.8\" font-family=\"Times,serif\" font-size=\"14.00\">grad &#45;4.0000</text>\n</g>\n<!-- 136214380322608* -->\n<g id=\"node8\" class=\"node\">\n<title>136214380322608*</title>\n<ellipse fill=\"none\" stroke=\"black\" cx=\"257\" cy=\"-101.5\" rx=\"27\" ry=\"18\"/>\n<text text-anchor=\"middle\" x=\"257\" y=\"-97.8\" font-family=\"Times,serif\" font-size=\"14.00\">*</text>\n</g>\n<!-- 136214382785536&#45;&gt;136214380322608* -->\n<g id=\"edge6\" class=\"edge\">\n<title>136214382785536&#45;&gt;136214380322608*</title>\n<path fill=\"none\" stroke=\"black\" d=\"M194.01,-112.49C203.35,-110.83 212.37,-109.23 220.49,-107.79\"/>\n<polygon fill=\"black\" stroke=\"black\" points=\"221.37,-111.19 230.6,-106 220.15,-104.3 221.37,-111.19\"/>\n</g>\n<!-- 136214380328464 -->\n<g id=\"node2\" class=\"node\">\n<title>136214380328464</title>\n<polygon fill=\"none\" stroke=\"black\" points=\"642,-0.5 642,-36.5 830,-36.5 830,-0.5 642,-0.5\"/>\n<text text-anchor=\"middle\" x=\"652.5\" y=\"-14.8\" font-family=\"Times,serif\" font-size=\"14.00\">f</text>\n<polyline fill=\"none\" stroke=\"black\" points=\"663,-0.5 663,-36.5 \"/>\n<text text-anchor=\"middle\" x=\"705.5\" y=\"-14.8\" font-family=\"Times,serif\" font-size=\"14.00\">data &#45;2.0000</text>\n<polyline fill=\"none\" stroke=\"black\" points=\"748,-0.5 748,-36.5 \"/>\n<text text-anchor=\"middle\" x=\"789\" y=\"-14.8\" font-family=\"Times,serif\" font-size=\"14.00\">grad 4.0000</text>\n</g>\n<!-- 136214380325056* -->\n<g id=\"node5\" class=\"node\">\n<title>136214380325056*</title>\n<ellipse fill=\"none\" stroke=\"black\" cx=\"893\" cy=\"-45.5\" rx=\"27\" ry=\"18\"/>\n<text text-anchor=\"middle\" x=\"893\" y=\"-41.8\" font-family=\"Times,serif\" font-size=\"14.00\">*</text>\n</g>\n<!-- 136214380328464&#45;&gt;136214380325056* -->\n<g id=\"edge9\" class=\"edge\">\n<title>136214380328464&#45;&gt;136214380325056*</title>\n<path fill=\"none\" stroke=\"black\" d=\"M830.29,-34.75C839.57,-36.37 848.52,-37.93 856.61,-39.33\"/>\n<polygon fill=\"black\" stroke=\"black\" points=\"856.22,-42.82 866.68,-41.09 857.42,-35.92 856.22,-42.82\"/>\n</g>\n<!-- 136214381825136 -->\n<g id=\"node3\" class=\"node\">\n<title>136214381825136</title>\n<polygon fill=\"none\" stroke=\"black\" points=\"320,-28.5 320,-64.5 516,-64.5 516,-28.5 320,-28.5\"/>\n<text text-anchor=\"middle\" x=\"331.5\" y=\"-42.8\" font-family=\"Times,serif\" font-size=\"14.00\">c</text>\n<polyline fill=\"none\" stroke=\"black\" points=\"343,-28.5 343,-64.5 \"/>\n<text text-anchor=\"middle\" x=\"386.5\" y=\"-42.8\" font-family=\"Times,serif\" font-size=\"14.00\">data 10.0000</text>\n<polyline fill=\"none\" stroke=\"black\" points=\"430,-28.5 430,-64.5 \"/>\n<text text-anchor=\"middle\" x=\"473\" y=\"-42.8\" font-family=\"Times,serif\" font-size=\"14.00\">grad &#45;2.0000</text>\n</g>\n<!-- 136214380327744+ -->\n<g id=\"node10\" class=\"node\">\n<title>136214380327744+</title>\n<ellipse fill=\"none\" stroke=\"black\" cx=\"579\" cy=\"-73.5\" rx=\"27\" ry=\"18\"/>\n<text text-anchor=\"middle\" x=\"579\" y=\"-69.8\" font-family=\"Times,serif\" font-size=\"14.00\">+</text>\n</g>\n<!-- 136214381825136&#45;&gt;136214380327744+ -->\n<g id=\"edge7\" class=\"edge\">\n<title>136214381825136&#45;&gt;136214380327744+</title>\n<path fill=\"none\" stroke=\"black\" d=\"M516.07,-62.98C525.42,-64.57 534.43,-66.1 542.55,-67.48\"/>\n<polygon fill=\"black\" stroke=\"black\" points=\"542.21,-70.97 552.65,-69.2 543.38,-64.07 542.21,-70.97\"/>\n</g>\n<!-- 136214380325056 -->\n<g id=\"node4\" class=\"node\">\n<title>136214380325056</title>\n<polygon fill=\"none\" stroke=\"black\" points=\"956,-27.5 956,-63.5 1143,-63.5 1143,-27.5 956,-27.5\"/>\n<text text-anchor=\"middle\" x=\"966\" y=\"-41.8\" font-family=\"Times,serif\" font-size=\"14.00\"> </text>\n<polyline fill=\"none\" stroke=\"black\" points=\"976,-27.5 976,-63.5 \"/>\n<text text-anchor=\"middle\" x=\"1018.5\" y=\"-41.8\" font-family=\"Times,serif\" font-size=\"14.00\">data &#45;8.0000</text>\n<polyline fill=\"none\" stroke=\"black\" points=\"1061,-27.5 1061,-63.5 \"/>\n<text text-anchor=\"middle\" x=\"1102\" y=\"-41.8\" font-family=\"Times,serif\" font-size=\"14.00\">grad 0.0000</text>\n</g>\n<!-- 136214380325056*&#45;&gt;136214380325056 -->\n<g id=\"edge1\" class=\"edge\">\n<title>136214380325056*&#45;&gt;136214380325056</title>\n<path fill=\"none\" stroke=\"black\" d=\"M920.21,-45.5C927.73,-45.5 936.43,-45.5 945.67,-45.5\"/>\n<polygon fill=\"black\" stroke=\"black\" points=\"945.89,-49 955.89,-45.5 945.89,-42 945.89,-49\"/>\n</g>\n<!-- 136214381825232 -->\n<g id=\"node6\" class=\"node\">\n<title>136214381825232</title>\n<polygon fill=\"none\" stroke=\"black\" points=\"4.5,-56.5 4.5,-92.5 189.5,-92.5 189.5,-56.5 4.5,-56.5\"/>\n<text text-anchor=\"middle\" x=\"16\" y=\"-70.8\" font-family=\"Times,serif\" font-size=\"14.00\">a</text>\n<polyline fill=\"none\" stroke=\"black\" points=\"27.5,-56.5 27.5,-92.5 \"/>\n<text text-anchor=\"middle\" x=\"67.5\" y=\"-70.8\" font-family=\"Times,serif\" font-size=\"14.00\">data 2.0000</text>\n<polyline fill=\"none\" stroke=\"black\" points=\"107.5,-56.5 107.5,-92.5 \"/>\n<text text-anchor=\"middle\" x=\"148.5\" y=\"-70.8\" font-family=\"Times,serif\" font-size=\"14.00\">grad 6.0000</text>\n</g>\n<!-- 136214381825232&#45;&gt;136214380322608* -->\n<g id=\"edge8\" class=\"edge\">\n<title>136214381825232&#45;&gt;136214380322608*</title>\n<path fill=\"none\" stroke=\"black\" d=\"M189.91,-90.21C200.76,-92.06 211.28,-93.86 220.61,-95.45\"/>\n<polygon fill=\"black\" stroke=\"black\" points=\"220.16,-98.93 230.6,-97.16 221.34,-92.03 220.16,-98.93\"/>\n</g>\n<!-- 136214380322608 -->\n<g id=\"node7\" class=\"node\">\n<title>136214380322608</title>\n<polygon fill=\"none\" stroke=\"black\" points=\"322.5,-83.5 322.5,-119.5 513.5,-119.5 513.5,-83.5 322.5,-83.5\"/>\n<text text-anchor=\"middle\" x=\"332.5\" y=\"-97.8\" font-family=\"Times,serif\" font-size=\"14.00\"> </text>\n<polyline fill=\"none\" stroke=\"black\" points=\"342.5,-83.5 342.5,-119.5 \"/>\n<text text-anchor=\"middle\" x=\"385\" y=\"-97.8\" font-family=\"Times,serif\" font-size=\"14.00\">data &#45;6.0000</text>\n<polyline fill=\"none\" stroke=\"black\" points=\"427.5,-83.5 427.5,-119.5 \"/>\n<text text-anchor=\"middle\" x=\"470.5\" y=\"-97.8\" font-family=\"Times,serif\" font-size=\"14.00\">grad &#45;2.0000</text>\n</g>\n<!-- 136214380322608&#45;&gt;136214380327744+ -->\n<g id=\"edge4\" class=\"edge\">\n<title>136214380322608&#45;&gt;136214380327744+</title>\n<path fill=\"none\" stroke=\"black\" d=\"M513.79,-84.81C523.91,-83.03 533.68,-81.3 542.42,-79.77\"/>\n<polygon fill=\"black\" stroke=\"black\" points=\"543.29,-83.17 552.53,-77.99 542.07,-76.27 543.29,-83.17\"/>\n</g>\n<!-- 136214380322608*&#45;&gt;136214380322608 -->\n<g id=\"edge2\" class=\"edge\">\n<title>136214380322608*&#45;&gt;136214380322608</title>\n<path fill=\"none\" stroke=\"black\" d=\"M284.26,-101.5C292.39,-101.5 301.91,-101.5 312.04,-101.5\"/>\n<polygon fill=\"black\" stroke=\"black\" points=\"312.35,-105 322.35,-101.5 312.35,-98 312.35,-105\"/>\n</g>\n<!-- 136214380327744 -->\n<g id=\"node9\" class=\"node\">\n<title>136214380327744</title>\n<polygon fill=\"none\" stroke=\"black\" points=\"643,-55.5 643,-91.5 829,-91.5 829,-55.5 643,-55.5\"/>\n<text text-anchor=\"middle\" x=\"653\" y=\"-69.8\" font-family=\"Times,serif\" font-size=\"14.00\"> </text>\n<polyline fill=\"none\" stroke=\"black\" points=\"663,-55.5 663,-91.5 \"/>\n<text text-anchor=\"middle\" x=\"703\" y=\"-69.8\" font-family=\"Times,serif\" font-size=\"14.00\">data 4.0000</text>\n<polyline fill=\"none\" stroke=\"black\" points=\"743,-55.5 743,-91.5 \"/>\n<text text-anchor=\"middle\" x=\"786\" y=\"-69.8\" font-family=\"Times,serif\" font-size=\"14.00\">grad &#45;2.0000</text>\n</g>\n<!-- 136214380327744&#45;&gt;136214380325056* -->\n<g id=\"edge5\" class=\"edge\">\n<title>136214380327744&#45;&gt;136214380325056*</title>\n<path fill=\"none\" stroke=\"black\" d=\"M829.4,-56.81C839.07,-55.06 848.41,-53.37 856.8,-51.86\"/>\n<polygon fill=\"black\" stroke=\"black\" points=\"857.65,-55.26 866.87,-50.04 856.4,-48.37 857.65,-55.26\"/>\n</g>\n<!-- 136214380327744+&#45;&gt;136214380327744 -->\n<g id=\"edge3\" class=\"edge\">\n<title>136214380327744+&#45;&gt;136214380327744</title>\n<path fill=\"none\" stroke=\"black\" d=\"M606.29,-73.5C614.05,-73.5 623.05,-73.5 632.61,-73.5\"/>\n<polygon fill=\"black\" stroke=\"black\" points=\"632.75,-77 642.75,-73.5 632.75,-70 632.75,-77\"/>\n</g>\n</g>\n</svg>\n",
            "text/plain": [
              "<graphviz.graphs.Digraph at 0x7be2e1c0b400>"
            ]
          },
          "metadata": {},
          "execution_count": 120
        }
      ]
    },
    {
      "cell_type": "markdown",
      "source": [
        "# Forward Propagation (Simple Expression)"
      ],
      "metadata": {
        "id": "2XVr5xcRk9r8"
      }
    },
    {
      "cell_type": "markdown",
      "source": [
        "We have now done calculating all the derivative for all variables.\n",
        "\n",
        "We can now try to do one forward pass, which is also a single optimization step."
      ],
      "metadata": {
        "id": "YbTWxDGylEHc"
      }
    },
    {
      "cell_type": "code",
      "source": [
        "# Our goal is to increase L\n",
        "# That means we have to go in the direction of gradient.\n",
        "# So, we will just increase *0.01 to each gradient.\n",
        "\n",
        "print(\"Before Forward Pass, value of L: \", L.data)\n",
        "\n",
        "a.data += 0.01 * a.grad\n",
        "b.data += 0.01 * b.grad\n",
        "c.data += 0.01 * c.grad\n",
        "f.data += 0.01 * f.grad\n",
        "\n",
        "e = a * b\n",
        "d = e + c\n",
        "L = d * f\n",
        "\n",
        "print(\"After Forward Pass, value of L: \", L.data)"
      ],
      "metadata": {
        "colab": {
          "base_uri": "https://localhost:8080/"
        },
        "id": "ctVDsQw_lCwt",
        "outputId": "3e231479-0a02-443f-fd04-f77de755c6ff"
      },
      "execution_count": null,
      "outputs": [
        {
          "output_type": "stream",
          "name": "stdout",
          "text": [
            "Before Forward Pass, value of L:  -8.0\n",
            "After Forward Pass, value of L:  -7.286496\n"
          ]
        }
      ]
    },
    {
      "cell_type": "markdown",
      "source": [
        "# Understand Neuron"
      ],
      "metadata": {
        "id": "tjN-b0SeoaMc"
      }
    },
    {
      "cell_type": "markdown",
      "source": [
        "w : weights\n",
        "\n",
        "x : inputs\n",
        "\n",
        "b : bias\n",
        "\n",
        "w0x0 + w1x1 + w2x2 + bias"
      ],
      "metadata": {
        "id": "9CSeKfnmo4TR"
      }
    },
    {
      "cell_type": "markdown",
      "source": [
        "![image.png](data:image/png;base64,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)"
      ],
      "metadata": {
        "id": "O6vBJozXoyrN"
      }
    },
    {
      "cell_type": "markdown",
      "source": [
        "# Understand Activation function"
      ],
      "metadata": {
        "id": "ZS47mP1gpoe8"
      }
    },
    {
      "cell_type": "markdown",
      "source": [
        "Example: Tanh function"
      ],
      "metadata": {
        "id": "JYl9lYMMqAM2"
      }
    },
    {
      "cell_type": "code",
      "source": [
        "plt.plot(np.arange(-5,5,0.2), np.tanh(np.arange(-5,5,0.2))); plt.grid();"
      ],
      "metadata": {
        "colab": {
          "base_uri": "https://localhost:8080/",
          "height": 430
        },
        "id": "Qp0FF0YKoLCd",
        "outputId": "ae78b907-a4da-4186-8469-61986a7d35a2"
      },
      "execution_count": null,
      "outputs": [
        {
          "output_type": "display_data",
          "data": {
            "text/plain": [
              "<Figure size 640x480 with 1 Axes>"
            ],
            "image/png": "[encoded data removed]"
          },
          "metadata": {}
        }
      ]
    },
    {
      "cell_type": "markdown",
      "source": [
        "# Build Neuron"
      ],
      "metadata": {
        "id": "fsIHku1VqaXM"
      }
    },
    {
      "cell_type": "markdown",
      "source": [
        "Let's write out the structures of neuron and activatiob function"
      ],
      "metadata": {
        "id": "_WL2awDqqSlk"
      }
    },
    {
      "cell_type": "code",
      "source": [
        "# inputs x1,x2\n",
        "x1 = Value(2.0, label='x1')\n",
        "x2 = Value(0.0, label='x2')\n",
        "\n",
        "# weights w1,w2\n",
        "w1 = Value(-3.0, label='w1')\n",
        "w2 = Value(1.0, label='w2')\n",
        "\n",
        "# bias of the neuron\n",
        "b = Value(6.7, label='b')\n",
        "\n",
        "# x1*w1 + x2*w2 + b\n",
        "x1w1 = x1*w1; x1w1.label = 'x1*w1'\n",
        "x2w2 = x2*w2; x2w2.label = 'x2*w2'\n",
        "x1w1x2w2 = x1w1 + x2w2; x1w1x2w2.label = 'x1*w1 + x2*w2'\n",
        "\n",
        "n = x1w1x2w2 + b; n.label = 'n'"
      ],
      "metadata": {
        "id": "U66FhKQPpvG8"
      },
      "execution_count": null,
      "outputs": []
    },
    {
      "cell_type": "code",
      "source": [
        "draw_dot(n)"
      ],
      "metadata": {
        "colab": {
          "base_uri": "https://localhost:8080/",
          "height": 321
        },
        "id": "VnJ98YzlquTr",
        "outputId": "3720547b-d0a8-4817-c161-6ad3a922ed3f"
      },
      "execution_count": null,
      "outputs": [
        {
          "output_type": "execute_result",
          "data": {
            "image/svg+xml": "<?xml version=\"1.0\" encoding=\"UTF-8\" standalone=\"no\"?>\n<!DOCTYPE svg PUBLIC \"-//W3C//DTD SVG 1.1//EN\"\n \"http://www.w3.org/Graphics/SVG/1.1/DTD/svg11.dtd\">\n<!-- Generated by graphviz version 2.43.0 (0)\n -->\n<!-- Title: %3 Pages: 1 -->\n<svg width=\"1264pt\" height=\"210pt\"\n viewBox=\"0.00 0.00 1264.00 210.00\" xmlns=\"http://www.w3.org/2000/svg\" xmlns:xlink=\"http://www.w3.org/1999/xlink\">\n<g id=\"graph0\" class=\"graph\" transform=\"scale(1 1) rotate(0) translate(4 206)\">\n<title>%3</title>\n<polygon fill=\"white\" stroke=\"transparent\" points=\"-4,4 -4,-206 1260,-206 1260,4 -4,4\"/>\n<!-- 136214378855488 -->\n<g id=\"node1\" class=\"node\">\n<title>136214378855488</title>\n<polygon fill=\"none\" stroke=\"black\" points=\"326,-55.5 326,-91.5 546,-91.5 546,-55.5 326,-55.5\"/>\n<text text-anchor=\"middle\" x=\"352.5\" y=\"-69.8\" font-family=\"Times,serif\" font-size=\"14.00\">x1*w1</text>\n<polyline fill=\"none\" stroke=\"black\" points=\"379,-55.5 379,-91.5 \"/>\n<text text-anchor=\"middle\" x=\"421.5\" y=\"-69.8\" font-family=\"Times,serif\" font-size=\"14.00\">data &#45;6.0000</text>\n<polyline fill=\"none\" stroke=\"black\" points=\"464,-55.5 464,-91.5 \"/>\n<text text-anchor=\"middle\" x=\"505\" y=\"-69.8\" font-family=\"Times,serif\" font-size=\"14.00\">grad 0.0000</text>\n</g>\n<!-- 136214380326160+ -->\n<g id=\"node10\" class=\"node\">\n<title>136214380326160+</title>\n<ellipse fill=\"none\" stroke=\"black\" cx=\"609\" cy=\"-100.5\" rx=\"27\" ry=\"18\"/>\n<text text-anchor=\"middle\" x=\"609\" y=\"-96.8\" font-family=\"Times,serif\" font-size=\"14.00\">+</text>\n</g>\n<!-- 136214378855488&#45;&gt;136214380326160+ -->\n<g id=\"edge6\" class=\"edge\">\n<title>136214378855488&#45;&gt;136214380326160+</title>\n<path fill=\"none\" stroke=\"black\" d=\"M546.27,-90.75C555.64,-92.23 564.6,-93.65 572.65,-94.92\"/>\n<polygon fill=\"black\" stroke=\"black\" points=\"572.23,-98.4 582.65,-96.5 573.32,-91.48 572.23,-98.4\"/>\n</g>\n<!-- 136214378855488* -->\n<g id=\"node2\" class=\"node\">\n<title>136214378855488*</title>\n<ellipse fill=\"none\" stroke=\"black\" cx=\"263\" cy=\"-73.5\" rx=\"27\" ry=\"18\"/>\n<text text-anchor=\"middle\" x=\"263\" y=\"-69.8\" font-family=\"Times,serif\" font-size=\"14.00\">*</text>\n</g>\n<!-- 136214378855488*&#45;&gt;136214378855488 -->\n<g id=\"edge1\" class=\"edge\">\n<title>136214378855488*&#45;&gt;136214378855488</title>\n<path fill=\"none\" stroke=\"black\" d=\"M290.34,-73.5C297.77,-73.5 306.37,-73.5 315.6,-73.5\"/>\n<polygon fill=\"black\" stroke=\"black\" points=\"315.84,-77 325.84,-73.5 315.84,-70 315.84,-77\"/>\n</g>\n<!-- 136214378846272 -->\n<g id=\"node3\" class=\"node\">\n<title>136214378846272</title>\n<polygon fill=\"none\" stroke=\"black\" points=\"4,-55.5 4,-91.5 196,-91.5 196,-55.5 4,-55.5\"/>\n<text text-anchor=\"middle\" x=\"19\" y=\"-69.8\" font-family=\"Times,serif\" font-size=\"14.00\">x1</text>\n<polyline fill=\"none\" stroke=\"black\" points=\"34,-55.5 34,-91.5 \"/>\n<text text-anchor=\"middle\" x=\"74\" y=\"-69.8\" font-family=\"Times,serif\" font-size=\"14.00\">data 2.0000</text>\n<polyline fill=\"none\" stroke=\"black\" points=\"114,-55.5 114,-91.5 \"/>\n<text text-anchor=\"middle\" x=\"155\" y=\"-69.8\" font-family=\"Times,serif\" font-size=\"14.00\">grad 0.0000</text>\n</g>\n<!-- 136214378846272&#45;&gt;136214378855488* -->\n<g id=\"edge10\" class=\"edge\">\n<title>136214378846272&#45;&gt;136214378855488*</title>\n<path fill=\"none\" stroke=\"black\" d=\"M196.05,-73.5C206.52,-73.5 216.65,-73.5 225.71,-73.5\"/>\n<polygon fill=\"black\" stroke=\"black\" points=\"225.79,-77 235.79,-73.5 225.79,-70 225.79,-77\"/>\n</g>\n<!-- 136214380314832 -->\n<g id=\"node4\" class=\"node\">\n<title>136214380314832</title>\n<polygon fill=\"none\" stroke=\"black\" points=\"1071,-109.5 1071,-145.5 1256,-145.5 1256,-109.5 1071,-109.5\"/>\n<text text-anchor=\"middle\" x=\"1082.5\" y=\"-123.8\" font-family=\"Times,serif\" font-size=\"14.00\">n</text>\n<polyline fill=\"none\" stroke=\"black\" points=\"1094,-109.5 1094,-145.5 \"/>\n<text text-anchor=\"middle\" x=\"1134\" y=\"-123.8\" font-family=\"Times,serif\" font-size=\"14.00\">data 0.8814</text>\n<polyline fill=\"none\" stroke=\"black\" points=\"1174,-109.5 1174,-145.5 \"/>\n<text text-anchor=\"middle\" x=\"1215\" y=\"-123.8\" font-family=\"Times,serif\" font-size=\"14.00\">grad 0.0000</text>\n</g>\n<!-- 136214380314832+ -->\n<g id=\"node5\" class=\"node\">\n<title>136214380314832+</title>\n<ellipse fill=\"none\" stroke=\"black\" cx=\"1008\" cy=\"-127.5\" rx=\"27\" ry=\"18\"/>\n<text text-anchor=\"middle\" x=\"1008\" y=\"-123.8\" font-family=\"Times,serif\" font-size=\"14.00\">+</text>\n</g>\n<!-- 136214380314832+&#45;&gt;136214380314832 -->\n<g id=\"edge2\" class=\"edge\">\n<title>136214380314832+&#45;&gt;136214380314832</title>\n<path fill=\"none\" stroke=\"black\" d=\"M1035.04,-127.5C1042.58,-127.5 1051.3,-127.5 1060.57,-127.5\"/>\n<polygon fill=\"black\" stroke=\"black\" points=\"1060.81,-131 1070.81,-127.5 1060.81,-124 1060.81,-131\"/>\n</g>\n<!-- 136214378850016 -->\n<g id=\"node6\" class=\"node\">\n<title>136214378850016</title>\n<polygon fill=\"none\" stroke=\"black\" points=\"328.5,-110.5 328.5,-146.5 543.5,-146.5 543.5,-110.5 328.5,-110.5\"/>\n<text text-anchor=\"middle\" x=\"355\" y=\"-124.8\" font-family=\"Times,serif\" font-size=\"14.00\">x2*w2</text>\n<polyline fill=\"none\" stroke=\"black\" points=\"381.5,-110.5 381.5,-146.5 \"/>\n<text text-anchor=\"middle\" x=\"421.5\" y=\"-124.8\" font-family=\"Times,serif\" font-size=\"14.00\">data 0.0000</text>\n<polyline fill=\"none\" stroke=\"black\" points=\"461.5,-110.5 461.5,-146.5 \"/>\n<text text-anchor=\"middle\" x=\"502.5\" y=\"-124.8\" font-family=\"Times,serif\" font-size=\"14.00\">grad 0.0000</text>\n</g>\n<!-- 136214378850016&#45;&gt;136214380326160+ -->\n<g id=\"edge7\" class=\"edge\">\n<title>136214378850016&#45;&gt;136214380326160+</title>\n<path fill=\"none\" stroke=\"black\" d=\"M543.84,-111.01C554.01,-109.34 563.76,-107.74 572.44,-106.32\"/>\n<polygon fill=\"black\" stroke=\"black\" points=\"573.17,-109.75 582.47,-104.68 572.04,-102.84 573.17,-109.75\"/>\n</g>\n<!-- 136214378850016* -->\n<g id=\"node7\" class=\"node\">\n<title>136214378850016*</title>\n<ellipse fill=\"none\" stroke=\"black\" cx=\"263\" cy=\"-128.5\" rx=\"27\" ry=\"18\"/>\n<text text-anchor=\"middle\" x=\"263\" y=\"-124.8\" font-family=\"Times,serif\" font-size=\"14.00\">*</text>\n</g>\n<!-- 136214378850016*&#45;&gt;136214378850016 -->\n<g id=\"edge3\" class=\"edge\">\n<title>136214378850016*&#45;&gt;136214378850016</title>\n<path fill=\"none\" stroke=\"black\" d=\"M290.34,-128.5C298.51,-128.5 308.08,-128.5 318.36,-128.5\"/>\n<polygon fill=\"black\" stroke=\"black\" points=\"318.39,-132 328.39,-128.5 318.39,-125 318.39,-132\"/>\n</g>\n<!-- 136214378851024 -->\n<g id=\"node8\" class=\"node\">\n<title>136214378851024</title>\n<polygon fill=\"none\" stroke=\"black\" points=\"4,-165.5 4,-201.5 196,-201.5 196,-165.5 4,-165.5\"/>\n<text text-anchor=\"middle\" x=\"19\" y=\"-179.8\" font-family=\"Times,serif\" font-size=\"14.00\">x2</text>\n<polyline fill=\"none\" stroke=\"black\" points=\"34,-165.5 34,-201.5 \"/>\n<text text-anchor=\"middle\" x=\"74\" y=\"-179.8\" font-family=\"Times,serif\" font-size=\"14.00\">data 0.0000</text>\n<polyline fill=\"none\" stroke=\"black\" points=\"114,-165.5 114,-201.5 \"/>\n<text text-anchor=\"middle\" x=\"155\" y=\"-179.8\" font-family=\"Times,serif\" font-size=\"14.00\">grad 0.0000</text>\n</g>\n<!-- 136214378851024&#45;&gt;136214378850016* -->\n<g id=\"edge9\" class=\"edge\">\n<title>136214378851024&#45;&gt;136214378850016*</title>\n<path fill=\"none\" stroke=\"black\" d=\"M172.53,-165.44C181.84,-162.67 191.2,-159.67 200,-156.5 210.53,-152.71 221.75,-147.9 231.72,-143.33\"/>\n<polygon fill=\"black\" stroke=\"black\" points=\"233.25,-146.48 240.82,-139.07 230.28,-140.14 233.25,-146.48\"/>\n</g>\n<!-- 136214380326160 -->\n<g id=\"node9\" class=\"node\">\n<title>136214380326160</title>\n<polygon fill=\"none\" stroke=\"black\" points=\"672,-82.5 672,-118.5 945,-118.5 945,-82.5 672,-82.5\"/>\n<text text-anchor=\"middle\" x=\"725\" y=\"-96.8\" font-family=\"Times,serif\" font-size=\"14.00\">x1*w1 + x2*w2</text>\n<polyline fill=\"none\" stroke=\"black\" points=\"778,-82.5 778,-118.5 \"/>\n<text text-anchor=\"middle\" x=\"820.5\" y=\"-96.8\" font-family=\"Times,serif\" font-size=\"14.00\">data &#45;6.0000</text>\n<polyline fill=\"none\" stroke=\"black\" points=\"863,-82.5 863,-118.5 \"/>\n<text text-anchor=\"middle\" x=\"904\" y=\"-96.8\" font-family=\"Times,serif\" font-size=\"14.00\">grad 0.0000</text>\n</g>\n<!-- 136214380326160&#45;&gt;136214380314832+ -->\n<g id=\"edge11\" class=\"edge\">\n<title>136214380326160&#45;&gt;136214380314832+</title>\n<path fill=\"none\" stroke=\"black\" d=\"M941.24,-118.51C952.12,-120 962.4,-121.4 971.45,-122.64\"/>\n<polygon fill=\"black\" stroke=\"black\" points=\"971.11,-126.13 981.49,-124.01 972.05,-119.19 971.11,-126.13\"/>\n</g>\n<!-- 136214380326160+&#45;&gt;136214380326160 -->\n<g id=\"edge4\" class=\"edge\">\n<title>136214380326160+&#45;&gt;136214380326160</title>\n<path fill=\"none\" stroke=\"black\" d=\"M636.23,-100.5C643.7,-100.5 652.41,-100.5 661.87,-100.5\"/>\n<polygon fill=\"black\" stroke=\"black\" points=\"661.98,-104 671.98,-100.5 661.98,-97 661.98,-104\"/>\n</g>\n<!-- 136214378849632 -->\n<g id=\"node11\" class=\"node\">\n<title>136214378849632</title>\n<polygon fill=\"none\" stroke=\"black\" points=\"2.5,-110.5 2.5,-146.5 197.5,-146.5 197.5,-110.5 2.5,-110.5\"/>\n<text text-anchor=\"middle\" x=\"19\" y=\"-124.8\" font-family=\"Times,serif\" font-size=\"14.00\">w2</text>\n<polyline fill=\"none\" stroke=\"black\" points=\"35.5,-110.5 35.5,-146.5 \"/>\n<text text-anchor=\"middle\" x=\"75.5\" y=\"-124.8\" font-family=\"Times,serif\" font-size=\"14.00\">data 1.0000</text>\n<polyline fill=\"none\" stroke=\"black\" points=\"115.5,-110.5 115.5,-146.5 \"/>\n<text text-anchor=\"middle\" x=\"156.5\" y=\"-124.8\" font-family=\"Times,serif\" font-size=\"14.00\">grad 0.0000</text>\n</g>\n<!-- 136214378849632&#45;&gt;136214378850016* -->\n<g id=\"edge12\" class=\"edge\">\n<title>136214378849632&#45;&gt;136214378850016*</title>\n<path fill=\"none\" stroke=\"black\" d=\"M197.91,-128.5C207.65,-128.5 217.05,-128.5 225.52,-128.5\"/>\n<polygon fill=\"black\" stroke=\"black\" points=\"225.7,-132 235.7,-128.5 225.7,-125 225.7,-132\"/>\n</g>\n<!-- 136214378848672 -->\n<g id=\"node12\" class=\"node\">\n<title>136214378848672</title>\n<polygon fill=\"none\" stroke=\"black\" points=\"0,-0.5 0,-36.5 200,-36.5 200,-0.5 0,-0.5\"/>\n<text text-anchor=\"middle\" x=\"16.5\" y=\"-14.8\" font-family=\"Times,serif\" font-size=\"14.00\">w1</text>\n<polyline fill=\"none\" stroke=\"black\" points=\"33,-0.5 33,-36.5 \"/>\n<text text-anchor=\"middle\" x=\"75.5\" y=\"-14.8\" font-family=\"Times,serif\" font-size=\"14.00\">data &#45;3.0000</text>\n<polyline fill=\"none\" stroke=\"black\" points=\"118,-0.5 118,-36.5 \"/>\n<text text-anchor=\"middle\" x=\"159\" y=\"-14.8\" font-family=\"Times,serif\" font-size=\"14.00\">grad 0.0000</text>\n</g>\n<!-- 136214378848672&#45;&gt;136214378855488* -->\n<g id=\"edge5\" class=\"edge\">\n<title>136214378848672&#45;&gt;136214378855488*</title>\n<path fill=\"none\" stroke=\"black\" d=\"M169.28,-36.5C179.65,-39.61 190.16,-42.98 200,-46.5 210.28,-50.17 221.28,-54.74 231.11,-59.07\"/>\n<polygon fill=\"black\" stroke=\"black\" points=\"229.93,-62.37 240.48,-63.27 232.79,-55.99 229.93,-62.37\"/>\n</g>\n<!-- 136214378855392 -->\n<g id=\"node13\" class=\"node\">\n<title>136214378855392</title>\n<polygon fill=\"none\" stroke=\"black\" points=\"716,-137.5 716,-173.5 901,-173.5 901,-137.5 716,-137.5\"/>\n<text text-anchor=\"middle\" x=\"727.5\" y=\"-151.8\" font-family=\"Times,serif\" font-size=\"14.00\">b</text>\n<polyline fill=\"none\" stroke=\"black\" points=\"739,-137.5 739,-173.5 \"/>\n<text text-anchor=\"middle\" x=\"779\" y=\"-151.8\" font-family=\"Times,serif\" font-size=\"14.00\">data 6.8814</text>\n<polyline fill=\"none\" stroke=\"black\" points=\"819,-137.5 819,-173.5 \"/>\n<text text-anchor=\"middle\" x=\"860\" y=\"-151.8\" font-family=\"Times,serif\" font-size=\"14.00\">grad 0.0000</text>\n</g>\n<!-- 136214378855392&#45;&gt;136214380314832+ -->\n<g id=\"edge8\" class=\"edge\">\n<title>136214378855392&#45;&gt;136214380314832+</title>\n<path fill=\"none\" stroke=\"black\" d=\"M901.02,-142.52C926,-138.98 951.59,-135.36 971.37,-132.55\"/>\n<polygon fill=\"black\" stroke=\"black\" points=\"972.03,-135.99 981.43,-131.12 971.04,-129.06 972.03,-135.99\"/>\n</g>\n</g>\n</svg>\n",
            "text/plain": [
              "<graphviz.graphs.Digraph at 0x7be2e1aa37f0>"
            ]
          },
          "metadata": {},
          "execution_count": 125
        }
      ]
    },
    {
      "cell_type": "markdown",
      "source": [
        "# Build Activation function Tanh"
      ],
      "metadata": {
        "id": "bu54DzWHrUXq"
      }
    },
    {
      "cell_type": "markdown",
      "source": [
        "![image.png](data:image/png;base64,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)"
      ],
      "metadata": {
        "id": "FspdymE1r94M"
      }
    },
    {
      "cell_type": "markdown",
      "source": [
        "Tanh need exponential, our Value object has only sum and multiplication.\n",
        "\n",
        "So we need to implement something to use Tanh."
      ],
      "metadata": {
        "id": "FTHoSd7Urn86"
      }
    },
    {
      "cell_type": "markdown",
      "source": [
        "The concept:\n",
        "\n",
        "1. We can choose to add another operation exponential like + and x\n",
        "\n",
        "2. But we can also straight build up a function for tanh\n",
        "\n",
        "The only things that we need to know is that we can differentiate them."
      ],
      "metadata": {
        "id": "eP4lTRpBs46M"
      }
    },
    {
      "cell_type": "code",
      "source": [
        "class Value:\n",
        "\n",
        "  def __init__(self, data, _children=(), _op='', label=''):\n",
        "    self.data = data\n",
        "    self.grad = 0 # gradient will initially be 0\n",
        "    self._prev = set(_children)\n",
        "    self._op = _op\n",
        "    self.label = label\n",
        "\n",
        "  def __repr__(self): # function just to make python print nicer integer\n",
        "    return f\"Value(data={self.data})\"\n",
        "\n",
        "  def __add__(self, other):\n",
        "    out = Value(self.data + other.data,(self, other), _op='+')\n",
        "    return out\n",
        "\n",
        "  def __mul__(self, other):\n",
        "    out = Value(self.data * other.data,(self, other),_op='*')\n",
        "    return out\n",
        "\n",
        "  def tanh(self): # Build our tanh function\n",
        "    x = self.data\n",
        "    t = (math.exp(2*x) - 1)/(math.exp(2*x) + 1)\n",
        "    out = Value(t, (self, ), 'tanh')\n",
        "    return out"
      ],
      "metadata": {
        "id": "kAr56Weuq0aY"
      },
      "execution_count": null,
      "outputs": []
    },
    {
      "cell_type": "code",
      "source": [
        "# inputs x1,x2\n",
        "x1 = Value(2.0, label='x1')\n",
        "x2 = Value(0.0, label='x2')\n",
        "\n",
        "# weights w1,w2\n",
        "w1 = Value(-3.0, label='w1')\n",
        "w2 = Value(1.0, label='w2')\n",
        "\n",
        "# bias of the neuron\n",
        "b = Value(6.8813735870195432, label='b')\n",
        "\n",
        "# x1*w1 + x2*w2 + b\n",
        "x1w1 = x1*w1; x1w1.label = 'x1*w1'\n",
        "x2w2 = x2*w2; x2w2.label = 'x2*w2'\n",
        "x1w1x2w2 = x1w1 + x2w2; x1w1x2w2.label = 'x1*w1 + x2*w2'\n",
        "\n",
        "n = x1w1x2w2 + b; n.label = 'n'\n",
        "o = n.tanh(); o.label = 'o'"
      ],
      "metadata": {
        "id": "uJGlpkOytzNH"
      },
      "execution_count": null,
      "outputs": []
    },
    {
      "cell_type": "code",
      "source": [
        "draw_dot(o)"
      ],
      "metadata": {
        "colab": {
          "base_uri": "https://localhost:8080/",
          "height": 321
        },
        "id": "uiNC1Bt9t3pM",
        "outputId": "685a16d0-bfc4-4d2f-d0cc-d1a01caa1d58"
      },
      "execution_count": null,
      "outputs": [
        {
          "output_type": "execute_result",
          "data": {
            "image/svg+xml": "<?xml version=\"1.0\" encoding=\"UTF-8\" standalone=\"no\"?>\n<!DOCTYPE svg PUBLIC \"-//W3C//DTD SVG 1.1//EN\"\n \"http://www.w3.org/Graphics/SVG/1.1/DTD/svg11.dtd\">\n<!-- Generated by graphviz version 2.43.0 (0)\n -->\n<!-- Title: %3 Pages: 1 -->\n<svg width=\"1575pt\" height=\"210pt\"\n viewBox=\"0.00 0.00 1575.00 210.00\" xmlns=\"http://www.w3.org/2000/svg\" xmlns:xlink=\"http://www.w3.org/1999/xlink\">\n<g id=\"graph0\" class=\"graph\" transform=\"scale(1 1) rotate(0) translate(4 206)\">\n<title>%3</title>\n<polygon fill=\"white\" stroke=\"transparent\" points=\"-4,4 -4,-206 1571,-206 1571,4 -4,4\"/>\n<!-- 136214379022848 -->\n<g id=\"node1\" class=\"node\">\n<title>136214379022848</title>\n<polygon fill=\"none\" stroke=\"black\" points=\"328.5,-55.5 328.5,-91.5 543.5,-91.5 543.5,-55.5 328.5,-55.5\"/>\n<text text-anchor=\"middle\" x=\"355\" y=\"-69.8\" font-family=\"Times,serif\" font-size=\"14.00\">x2*w2</text>\n<polyline fill=\"none\" stroke=\"black\" points=\"381.5,-55.5 381.5,-91.5 \"/>\n<text text-anchor=\"middle\" x=\"421.5\" y=\"-69.8\" font-family=\"Times,serif\" font-size=\"14.00\">data 0.0000</text>\n<polyline fill=\"none\" stroke=\"black\" points=\"461.5,-55.5 461.5,-91.5 \"/>\n<text text-anchor=\"middle\" x=\"502.5\" y=\"-69.8\" font-family=\"Times,serif\" font-size=\"14.00\">grad 0.0000</text>\n</g>\n<!-- 136214379034272+ -->\n<g id=\"node6\" class=\"node\">\n<title>136214379034272+</title>\n<ellipse fill=\"none\" stroke=\"black\" cx=\"609\" cy=\"-100.5\" rx=\"27\" ry=\"18\"/>\n<text text-anchor=\"middle\" x=\"609\" y=\"-96.8\" font-family=\"Times,serif\" font-size=\"14.00\">+</text>\n</g>\n<!-- 136214379022848&#45;&gt;136214379034272+ -->\n<g id=\"edge9\" class=\"edge\">\n<title>136214379022848&#45;&gt;136214379034272+</title>\n<path fill=\"none\" stroke=\"black\" d=\"M543.84,-90.37C554.01,-91.98 563.76,-93.51 572.44,-94.89\"/>\n<polygon fill=\"black\" stroke=\"black\" points=\"572.05,-98.37 582.47,-96.47 573.14,-91.45 572.05,-98.37\"/>\n</g>\n<!-- 136214379022848* -->\n<g id=\"node2\" class=\"node\">\n<title>136214379022848*</title>\n<ellipse fill=\"none\" stroke=\"black\" cx=\"263\" cy=\"-73.5\" rx=\"27\" ry=\"18\"/>\n<text text-anchor=\"middle\" x=\"263\" y=\"-69.8\" font-family=\"Times,serif\" font-size=\"14.00\">*</text>\n</g>\n<!-- 136214379022848*&#45;&gt;136214379022848 -->\n<g id=\"edge1\" class=\"edge\">\n<title>136214379022848*&#45;&gt;136214379022848</title>\n<path fill=\"none\" stroke=\"black\" d=\"M290.34,-73.5C298.51,-73.5 308.08,-73.5 318.36,-73.5\"/>\n<polygon fill=\"black\" stroke=\"black\" points=\"318.39,-77 328.39,-73.5 318.39,-70 318.39,-77\"/>\n</g>\n<!-- 136214379029568 -->\n<g id=\"node3\" class=\"node\">\n<title>136214379029568</title>\n<polygon fill=\"none\" stroke=\"black\" points=\"2.5,-55.5 2.5,-91.5 197.5,-91.5 197.5,-55.5 2.5,-55.5\"/>\n<text text-anchor=\"middle\" x=\"19\" y=\"-69.8\" font-family=\"Times,serif\" font-size=\"14.00\">w2</text>\n<polyline fill=\"none\" stroke=\"black\" points=\"35.5,-55.5 35.5,-91.5 \"/>\n<text text-anchor=\"middle\" x=\"75.5\" y=\"-69.8\" font-family=\"Times,serif\" font-size=\"14.00\">data 1.0000</text>\n<polyline fill=\"none\" stroke=\"black\" points=\"115.5,-55.5 115.5,-91.5 \"/>\n<text text-anchor=\"middle\" x=\"156.5\" y=\"-69.8\" font-family=\"Times,serif\" font-size=\"14.00\">grad 0.0000</text>\n</g>\n<!-- 136214379029568&#45;&gt;136214379022848* -->\n<g id=\"edge11\" class=\"edge\">\n<title>136214379029568&#45;&gt;136214379022848*</title>\n<path fill=\"none\" stroke=\"black\" d=\"M197.91,-73.5C207.65,-73.5 217.05,-73.5 225.52,-73.5\"/>\n<polygon fill=\"black\" stroke=\"black\" points=\"225.7,-77 235.7,-73.5 225.7,-70 225.7,-77\"/>\n</g>\n<!-- 136214378855536 -->\n<g id=\"node4\" class=\"node\">\n<title>136214378855536</title>\n<polygon fill=\"none\" stroke=\"black\" points=\"4,-0.5 4,-36.5 196,-36.5 196,-0.5 4,-0.5\"/>\n<text text-anchor=\"middle\" x=\"19\" y=\"-14.8\" font-family=\"Times,serif\" font-size=\"14.00\">x2</text>\n<polyline fill=\"none\" stroke=\"black\" points=\"34,-0.5 34,-36.5 \"/>\n<text text-anchor=\"middle\" x=\"74\" y=\"-14.8\" font-family=\"Times,serif\" font-size=\"14.00\">data 0.0000</text>\n<polyline fill=\"none\" stroke=\"black\" points=\"114,-0.5 114,-36.5 \"/>\n<text text-anchor=\"middle\" x=\"155\" y=\"-14.8\" font-family=\"Times,serif\" font-size=\"14.00\">grad 0.0000</text>\n</g>\n<!-- 136214378855536&#45;&gt;136214379022848* -->\n<g id=\"edge7\" class=\"edge\">\n<title>136214378855536&#45;&gt;136214379022848*</title>\n<path fill=\"none\" stroke=\"black\" d=\"M169.28,-36.5C179.65,-39.61 190.16,-42.98 200,-46.5 210.28,-50.17 221.28,-54.74 231.11,-59.07\"/>\n<polygon fill=\"black\" stroke=\"black\" points=\"229.93,-62.37 240.48,-63.27 232.79,-55.99 229.93,-62.37\"/>\n</g>\n<!-- 136214379034272 -->\n<g id=\"node5\" class=\"node\">\n<title>136214379034272</title>\n<polygon fill=\"none\" stroke=\"black\" points=\"672,-82.5 672,-118.5 945,-118.5 945,-82.5 672,-82.5\"/>\n<text text-anchor=\"middle\" x=\"725\" y=\"-96.8\" font-family=\"Times,serif\" font-size=\"14.00\">x1*w1 + x2*w2</text>\n<polyline fill=\"none\" stroke=\"black\" points=\"778,-82.5 778,-118.5 \"/>\n<text text-anchor=\"middle\" x=\"820.5\" y=\"-96.8\" font-family=\"Times,serif\" font-size=\"14.00\">data &#45;6.0000</text>\n<polyline fill=\"none\" stroke=\"black\" points=\"863,-82.5 863,-118.5 \"/>\n<text text-anchor=\"middle\" x=\"904\" y=\"-96.8\" font-family=\"Times,serif\" font-size=\"14.00\">grad 0.0000</text>\n</g>\n<!-- 136214379036384+ -->\n<g id=\"node9\" class=\"node\">\n<title>136214379036384+</title>\n<ellipse fill=\"none\" stroke=\"black\" cx=\"1008\" cy=\"-127.5\" rx=\"27\" ry=\"18\"/>\n<text text-anchor=\"middle\" x=\"1008\" y=\"-123.8\" font-family=\"Times,serif\" font-size=\"14.00\">+</text>\n</g>\n<!-- 136214379034272&#45;&gt;136214379036384+ -->\n<g id=\"edge8\" class=\"edge\">\n<title>136214379034272&#45;&gt;136214379036384+</title>\n<path fill=\"none\" stroke=\"black\" d=\"M941.24,-118.51C952.12,-120 962.4,-121.4 971.45,-122.64\"/>\n<polygon fill=\"black\" stroke=\"black\" points=\"971.11,-126.13 981.49,-124.01 972.05,-119.19 971.11,-126.13\"/>\n</g>\n<!-- 136214379034272+&#45;&gt;136214379034272 -->\n<g id=\"edge2\" class=\"edge\">\n<title>136214379034272+&#45;&gt;136214379034272</title>\n<path fill=\"none\" stroke=\"black\" d=\"M636.23,-100.5C643.7,-100.5 652.41,-100.5 661.87,-100.5\"/>\n<polygon fill=\"black\" stroke=\"black\" points=\"661.98,-104 671.98,-100.5 661.98,-97 661.98,-104\"/>\n</g>\n<!-- 136214379028656 -->\n<g id=\"node7\" class=\"node\">\n<title>136214379028656</title>\n<polygon fill=\"none\" stroke=\"black\" points=\"716,-137.5 716,-173.5 901,-173.5 901,-137.5 716,-137.5\"/>\n<text text-anchor=\"middle\" x=\"727.5\" y=\"-151.8\" font-family=\"Times,serif\" font-size=\"14.00\">b</text>\n<polyline fill=\"none\" stroke=\"black\" points=\"739,-137.5 739,-173.5 \"/>\n<text text-anchor=\"middle\" x=\"779\" y=\"-151.8\" font-family=\"Times,serif\" font-size=\"14.00\">data 6.8814</text>\n<polyline fill=\"none\" stroke=\"black\" points=\"819,-137.5 819,-173.5 \"/>\n<text text-anchor=\"middle\" x=\"860\" y=\"-151.8\" font-family=\"Times,serif\" font-size=\"14.00\">grad 0.0000</text>\n</g>\n<!-- 136214379028656&#45;&gt;136214379036384+ -->\n<g id=\"edge10\" class=\"edge\">\n<title>136214379028656&#45;&gt;136214379036384+</title>\n<path fill=\"none\" stroke=\"black\" d=\"M901.02,-142.52C926,-138.98 951.59,-135.36 971.37,-132.55\"/>\n<polygon fill=\"black\" stroke=\"black\" points=\"972.03,-135.99 981.43,-131.12 971.04,-129.06 972.03,-135.99\"/>\n</g>\n<!-- 136214379036384 -->\n<g id=\"node8\" class=\"node\">\n<title>136214379036384</title>\n<polygon fill=\"none\" stroke=\"black\" points=\"1071,-109.5 1071,-145.5 1256,-145.5 1256,-109.5 1071,-109.5\"/>\n<text text-anchor=\"middle\" x=\"1082.5\" y=\"-123.8\" font-family=\"Times,serif\" font-size=\"14.00\">n</text>\n<polyline fill=\"none\" stroke=\"black\" points=\"1094,-109.5 1094,-145.5 \"/>\n<text text-anchor=\"middle\" x=\"1134\" y=\"-123.8\" font-family=\"Times,serif\" font-size=\"14.00\">data 0.8814</text>\n<polyline fill=\"none\" stroke=\"black\" points=\"1174,-109.5 1174,-145.5 \"/>\n<text text-anchor=\"middle\" x=\"1215\" y=\"-123.8\" font-family=\"Times,serif\" font-size=\"14.00\">grad 0.0000</text>\n</g>\n<!-- 136214379023184tanh -->\n<g id=\"node12\" class=\"node\">\n<title>136214379023184tanh</title>\n<ellipse fill=\"none\" stroke=\"black\" cx=\"1319\" cy=\"-127.5\" rx=\"27\" ry=\"18\"/>\n<text text-anchor=\"middle\" x=\"1319\" y=\"-123.8\" font-family=\"Times,serif\" font-size=\"14.00\">tanh</text>\n</g>\n<!-- 136214379036384&#45;&gt;136214379023184tanh -->\n<g id=\"edge14\" class=\"edge\">\n<title>136214379036384&#45;&gt;136214379023184tanh</title>\n<path fill=\"none\" stroke=\"black\" d=\"M1256.01,-127.5C1265.01,-127.5 1273.74,-127.5 1281.66,-127.5\"/>\n<polygon fill=\"black\" stroke=\"black\" points=\"1281.91,-131 1291.91,-127.5 1281.91,-124 1281.91,-131\"/>\n</g>\n<!-- 136214379036384+&#45;&gt;136214379036384 -->\n<g id=\"edge3\" class=\"edge\">\n<title>136214379036384+&#45;&gt;136214379036384</title>\n<path fill=\"none\" stroke=\"black\" d=\"M1035.04,-127.5C1042.58,-127.5 1051.3,-127.5 1060.57,-127.5\"/>\n<polygon fill=\"black\" stroke=\"black\" points=\"1060.81,-131 1070.81,-127.5 1060.81,-124 1060.81,-131\"/>\n</g>\n<!-- 136214378850592 -->\n<g id=\"node10\" class=\"node\">\n<title>136214378850592</title>\n<polygon fill=\"none\" stroke=\"black\" points=\"0,-165.5 0,-201.5 200,-201.5 200,-165.5 0,-165.5\"/>\n<text text-anchor=\"middle\" x=\"16.5\" y=\"-179.8\" font-family=\"Times,serif\" font-size=\"14.00\">w1</text>\n<polyline fill=\"none\" stroke=\"black\" points=\"33,-165.5 33,-201.5 \"/>\n<text text-anchor=\"middle\" x=\"75.5\" y=\"-179.8\" font-family=\"Times,serif\" font-size=\"14.00\">data &#45;3.0000</text>\n<polyline fill=\"none\" stroke=\"black\" points=\"118,-165.5 118,-201.5 \"/>\n<text text-anchor=\"middle\" x=\"159\" y=\"-179.8\" font-family=\"Times,serif\" font-size=\"14.00\">grad 0.0000</text>\n</g>\n<!-- 136214379034512* -->\n<g id=\"node14\" class=\"node\">\n<title>136214379034512*</title>\n<ellipse fill=\"none\" stroke=\"black\" cx=\"263\" cy=\"-128.5\" rx=\"27\" ry=\"18\"/>\n<text text-anchor=\"middle\" x=\"263\" y=\"-124.8\" font-family=\"Times,serif\" font-size=\"14.00\">*</text>\n</g>\n<!-- 136214378850592&#45;&gt;136214379034512* -->\n<g id=\"edge12\" class=\"edge\">\n<title>136214378850592&#45;&gt;136214379034512*</title>\n<path fill=\"none\" stroke=\"black\" d=\"M172.53,-165.44C181.84,-162.67 191.2,-159.67 200,-156.5 210.53,-152.71 221.75,-147.9 231.72,-143.33\"/>\n<polygon fill=\"black\" stroke=\"black\" points=\"233.25,-146.48 240.82,-139.07 230.28,-140.14 233.25,-146.48\"/>\n</g>\n<!-- 136214379023184 -->\n<g id=\"node11\" class=\"node\">\n<title>136214379023184</title>\n<polygon fill=\"none\" stroke=\"black\" points=\"1382,-109.5 1382,-145.5 1567,-145.5 1567,-109.5 1382,-109.5\"/>\n<text text-anchor=\"middle\" x=\"1393.5\" y=\"-123.8\" font-family=\"Times,serif\" font-size=\"14.00\">o</text>\n<polyline fill=\"none\" stroke=\"black\" points=\"1405,-109.5 1405,-145.5 \"/>\n<text text-anchor=\"middle\" x=\"1445\" y=\"-123.8\" font-family=\"Times,serif\" font-size=\"14.00\">data 0.7071</text>\n<polyline fill=\"none\" stroke=\"black\" points=\"1485,-109.5 1485,-145.5 \"/>\n<text text-anchor=\"middle\" x=\"1526\" y=\"-123.8\" font-family=\"Times,serif\" font-size=\"14.00\">grad 0.0000</text>\n</g>\n<!-- 136214379023184tanh&#45;&gt;136214379023184 -->\n<g id=\"edge4\" class=\"edge\">\n<title>136214379023184tanh&#45;&gt;136214379023184</title>\n<path fill=\"none\" stroke=\"black\" d=\"M1346.04,-127.5C1353.58,-127.5 1362.3,-127.5 1371.57,-127.5\"/>\n<polygon fill=\"black\" stroke=\"black\" points=\"1371.81,-131 1381.81,-127.5 1371.81,-124 1371.81,-131\"/>\n</g>\n<!-- 136214379034512 -->\n<g id=\"node13\" class=\"node\">\n<title>136214379034512</title>\n<polygon fill=\"none\" stroke=\"black\" points=\"326,-110.5 326,-146.5 546,-146.5 546,-110.5 326,-110.5\"/>\n<text text-anchor=\"middle\" x=\"352.5\" y=\"-124.8\" font-family=\"Times,serif\" font-size=\"14.00\">x1*w1</text>\n<polyline fill=\"none\" stroke=\"black\" points=\"379,-110.5 379,-146.5 \"/>\n<text text-anchor=\"middle\" x=\"421.5\" y=\"-124.8\" font-family=\"Times,serif\" font-size=\"14.00\">data &#45;6.0000</text>\n<polyline fill=\"none\" stroke=\"black\" points=\"464,-110.5 464,-146.5 \"/>\n<text text-anchor=\"middle\" x=\"505\" y=\"-124.8\" font-family=\"Times,serif\" font-size=\"14.00\">grad 0.0000</text>\n</g>\n<!-- 136214379034512&#45;&gt;136214379034272+ -->\n<g id=\"edge13\" class=\"edge\">\n<title>136214379034512&#45;&gt;136214379034272+</title>\n<path fill=\"none\" stroke=\"black\" d=\"M546.27,-110.61C555.64,-109.07 564.6,-107.61 572.65,-106.29\"/>\n<polygon fill=\"black\" stroke=\"black\" points=\"573.35,-109.72 582.65,-104.65 572.22,-102.81 573.35,-109.72\"/>\n</g>\n<!-- 136214379034512*&#45;&gt;136214379034512 -->\n<g id=\"edge5\" class=\"edge\">\n<title>136214379034512*&#45;&gt;136214379034512</title>\n<path fill=\"none\" stroke=\"black\" d=\"M290.34,-128.5C297.77,-128.5 306.37,-128.5 315.6,-128.5\"/>\n<polygon fill=\"black\" stroke=\"black\" points=\"315.84,-132 325.84,-128.5 315.84,-125 315.84,-132\"/>\n</g>\n<!-- 136214379025344 -->\n<g id=\"node15\" class=\"node\">\n<title>136214379025344</title>\n<polygon fill=\"none\" stroke=\"black\" points=\"4,-110.5 4,-146.5 196,-146.5 196,-110.5 4,-110.5\"/>\n<text text-anchor=\"middle\" x=\"19\" y=\"-124.8\" font-family=\"Times,serif\" font-size=\"14.00\">x1</text>\n<polyline fill=\"none\" stroke=\"black\" points=\"34,-110.5 34,-146.5 \"/>\n<text text-anchor=\"middle\" x=\"74\" y=\"-124.8\" font-family=\"Times,serif\" font-size=\"14.00\">data 2.0000</text>\n<polyline fill=\"none\" stroke=\"black\" points=\"114,-110.5 114,-146.5 \"/>\n<text text-anchor=\"middle\" x=\"155\" y=\"-124.8\" font-family=\"Times,serif\" font-size=\"14.00\">grad 0.0000</text>\n</g>\n<!-- 136214379025344&#45;&gt;136214379034512* -->\n<g id=\"edge6\" class=\"edge\">\n<title>136214379025344&#45;&gt;136214379034512*</title>\n<path fill=\"none\" stroke=\"black\" d=\"M196.05,-128.5C206.52,-128.5 216.65,-128.5 225.71,-128.5\"/>\n<polygon fill=\"black\" stroke=\"black\" points=\"225.79,-132 235.79,-128.5 225.79,-125 225.79,-132\"/>\n</g>\n</g>\n</svg>\n",
            "text/plain": [
              "<graphviz.graphs.Digraph at 0x7be2e1acd900>"
            ]
          },
          "metadata": {},
          "execution_count": 135
        }
      ]
    },
    {
      "cell_type": "markdown",
      "source": [
        "# Backpropagation (Neuron)"
      ],
      "metadata": {
        "id": "bnD2ztZfvKjN"
      }
    },
    {
      "cell_type": "markdown",
      "source": [
        "## Calculate do/do"
      ],
      "metadata": {
        "id": "dToWSPjRvRHj"
      }
    },
    {
      "cell_type": "code",
      "source": [
        "# Self Derivative always 1.0\n",
        "o.grad = 1.0"
      ],
      "metadata": {
        "id": "n-PqW517via0"
      },
      "execution_count": null,
      "outputs": []
    },
    {
      "cell_type": "markdown",
      "source": [
        "## Calculate do/dn (Tanh)"
      ],
      "metadata": {
        "id": "iIluPYoyvtMr"
      }
    },
    {
      "cell_type": "markdown",
      "source": [
        "![image.png](data:image/png;base64,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)"
      ],
      "metadata": {
        "id": "dgJFnu0avP9T"
      }
    },
    {
      "cell_type": "code",
      "source": [
        "# o = tanh(n)\n",
        "# do/dn = 1 - tanh(n)**2\n",
        "# do/dn = 1 - (o)**2\n",
        "# do/dn = 1 - 0.7071**2\n",
        "\n",
        "print(o.data)\n",
        "print(1 - o.data**2)"
      ],
      "metadata": {
        "colab": {
          "base_uri": "https://localhost:8080/"
        },
        "id": "PKjJDWE-vFsV",
        "outputId": "fd543b42-4f50-40b6-f6fe-faca0fae6c51"
      },
      "execution_count": null,
      "outputs": [
        {
          "output_type": "stream",
          "name": "stdout",
          "text": [
            "0.7071067811865476\n",
            "0.4999999999999999\n"
          ]
        }
      ]
    },
    {
      "cell_type": "code",
      "source": [
        "n.grad = 0.5"
      ],
      "metadata": {
        "id": "c-w5Bz33t__5"
      },
      "execution_count": null,
      "outputs": []
    },
    {
      "cell_type": "markdown",
      "source": [
        "## Calculate dn/db"
      ],
      "metadata": {
        "id": "aon3-goMwwow"
      }
    },
    {
      "cell_type": "markdown",
      "source": [
        "Same as above when we are calculating derivative of 'Sum'\n",
        "\n",
        "Remember the previous example, a plus is a distributor of gradient, so the gradient will just simply flow to both.\n",
        "\n",
        "if n.grad = 0.5, then b.grad = 0.5, x1w1x2w2.grad = 0.5"
      ],
      "metadata": {
        "id": "g_D24iWFxM2a"
      }
    },
    {
      "cell_type": "code",
      "source": [
        "b.grad = 0.5"
      ],
      "metadata": {
        "id": "9ErwQAmDwpzw"
      },
      "execution_count": null,
      "outputs": []
    },
    {
      "cell_type": "markdown",
      "source": [
        "## Calculate do/x1w1x2w2"
      ],
      "metadata": {
        "id": "wr5YfMtZyrJs"
      }
    },
    {
      "cell_type": "code",
      "source": [
        "x1w1x2w2.grad = 0.5"
      ],
      "metadata": {
        "id": "qg_4As7Py1As"
      },
      "execution_count": null,
      "outputs": []
    },
    {
      "cell_type": "markdown",
      "source": [
        "## Calculate do/x1w1"
      ],
      "metadata": {
        "id": "0TCifZMizCbE"
      }
    },
    {
      "cell_type": "code",
      "source": [
        "x1w1.grad = 0.5"
      ],
      "metadata": {
        "id": "ZqiYrLISy3_h"
      },
      "execution_count": null,
      "outputs": []
    },
    {
      "cell_type": "markdown",
      "source": [
        "## Calculate do/x2w2"
      ],
      "metadata": {
        "id": "ZqZ8kdbtzMnL"
      }
    },
    {
      "cell_type": "code",
      "source": [
        "x2w2.grad = 0.5"
      ],
      "metadata": {
        "id": "gOzqRvVizMB_"
      },
      "execution_count": null,
      "outputs": []
    },
    {
      "cell_type": "markdown",
      "source": [
        "## Calculate do/w1\n",
        "\n",
        "\n",
        "\n",
        "\n"
      ],
      "metadata": {
        "id": "nrlqvJ9z4GWU"
      }
    },
    {
      "cell_type": "markdown",
      "source": [
        "Based on previous experience:\n",
        "\n",
        "We know that Multiplication will be data * previous_data.grad"
      ],
      "metadata": {
        "id": "nXX33JB_4fgh"
      }
    },
    {
      "cell_type": "code",
      "source": [
        "# (Chain Rule)\n",
        "\n",
        "# We Know:\n",
        "# x1w1 = x1 * w1\n",
        "\n",
        "# We Want:\n",
        "# x1w1/w1 = ?\n",
        "\n",
        "# Calculate Local Derivative\n",
        "# = (f(x + h) - f(x)) / h\n",
        "# = ((w1+h) * x1) - x1 * w1) / h\n",
        "# = x1w1 + hx1 - x1w1 / h\n",
        "# = hx1 / h\n",
        "# = x1\n",
        "\n",
        "# So:\n",
        "# x1w1/w1 = x1\n",
        "\n",
        "# do/w1 = (do/x1w1)*(x1w1/w1)\n",
        "# do/w1 = (0.5)*(2.0) = 1.0"
      ],
      "metadata": {
        "id": "aCAvNOAv4KwI"
      },
      "execution_count": null,
      "outputs": []
    },
    {
      "cell_type": "code",
      "source": [
        "w1.grad = 1.0"
      ],
      "metadata": {
        "id": "oUu47YDp4s_i"
      },
      "execution_count": null,
      "outputs": []
    },
    {
      "cell_type": "markdown",
      "source": [
        "## Calculate do/x1"
      ],
      "metadata": {
        "id": "pRJiMdO-0C6A"
      }
    },
    {
      "cell_type": "code",
      "source": [
        "# (Chain Rule)\n",
        "\n",
        "# We Know:\n",
        "# x1w1 = x1 * w1\n",
        "\n",
        "# We Want:\n",
        "# x1w1/x1 = ?\n",
        "\n",
        "# Calculate Local Derivative\n",
        "# = (f(x + h) - f(x)) / h\n",
        "# = ((x1+h) * w1) - x1 * w1) / h\n",
        "# = x1w1 + hw1 - x1w1 / h\n",
        "# = hw1 / h\n",
        "# = w1\n",
        "\n",
        "# So:\n",
        "# x1w1/x1 = w1\n",
        "\n",
        "# do/x1 = (do/x1w1)*(x1w1/x1)\n",
        "# do/x1 = (0.5)*(-3.0) = -1.5"
      ],
      "metadata": {
        "id": "syfZJFstzRCZ"
      },
      "execution_count": null,
      "outputs": []
    },
    {
      "cell_type": "code",
      "source": [
        "x1.grad = -1.5"
      ],
      "metadata": {
        "id": "iRwI59yZ3dd4"
      },
      "execution_count": null,
      "outputs": []
    },
    {
      "cell_type": "markdown",
      "source": [
        "## Calculate do/w2"
      ],
      "metadata": {
        "id": "4TRfcexh4zSo"
      }
    },
    {
      "cell_type": "code",
      "source": [
        "w2.grad = x2.data * x2w2.grad\n",
        "print(w2.grad)"
      ],
      "metadata": {
        "colab": {
          "base_uri": "https://localhost:8080/"
        },
        "id": "74L2oK1F3rm2",
        "outputId": "0b8b74f3-00dc-4066-aaaa-2b994cb1d51b"
      },
      "execution_count": null,
      "outputs": [
        {
          "output_type": "stream",
          "name": "stdout",
          "text": [
            "0.0\n"
          ]
        }
      ]
    },
    {
      "cell_type": "markdown",
      "source": [
        "## Calculate do/x2"
      ],
      "metadata": {
        "id": "Om1s6zyK5L4W"
      }
    },
    {
      "cell_type": "code",
      "source": [
        "x2.grad = w2.data * x2w2.grad\n",
        "print(x2.grad)"
      ],
      "metadata": {
        "colab": {
          "base_uri": "https://localhost:8080/"
        },
        "id": "5OQaCVKC5ExB",
        "outputId": "87f65509-806c-4ad4-bffb-48e7f0193e2a"
      },
      "execution_count": null,
      "outputs": [
        {
          "output_type": "stream",
          "name": "stdout",
          "text": [
            "0.5\n"
          ]
        }
      ]
    },
    {
      "cell_type": "markdown",
      "source": [
        "## Visualize All Derivative"
      ],
      "metadata": {
        "id": "oWUKeCbC5eUU"
      }
    },
    {
      "cell_type": "code",
      "source": [
        "draw_dot(o)"
      ],
      "metadata": {
        "colab": {
          "base_uri": "https://localhost:8080/",
          "height": 321
        },
        "id": "qNacvopF5Vmw",
        "outputId": "b4c19dc7-7a9a-4f9c-cf0a-ea701852e8a6"
      },
      "execution_count": null,
      "outputs": [
        {
          "output_type": "execute_result",
          "data": {
            "image/svg+xml": "<?xml version=\"1.0\" encoding=\"UTF-8\" standalone=\"no\"?>\n<!DOCTYPE svg PUBLIC \"-//W3C//DTD SVG 1.1//EN\"\n \"http://www.w3.org/Graphics/SVG/1.1/DTD/svg11.dtd\">\n<!-- Generated by graphviz version 2.43.0 (0)\n -->\n<!-- Title: %3 Pages: 1 -->\n<svg width=\"1575pt\" height=\"210pt\"\n viewBox=\"0.00 0.00 1575.00 210.00\" xmlns=\"http://www.w3.org/2000/svg\" xmlns:xlink=\"http://www.w3.org/1999/xlink\">\n<g id=\"graph0\" class=\"graph\" transform=\"scale(1 1) rotate(0) translate(4 206)\">\n<title>%3</title>\n<polygon fill=\"white\" stroke=\"transparent\" points=\"-4,4 -4,-206 1571,-206 1571,4 -4,4\"/>\n<!-- 136214379022848 -->\n<g id=\"node1\" class=\"node\">\n<title>136214379022848</title>\n<polygon fill=\"none\" stroke=\"black\" points=\"328.5,-55.5 328.5,-91.5 543.5,-91.5 543.5,-55.5 328.5,-55.5\"/>\n<text text-anchor=\"middle\" x=\"355\" y=\"-69.8\" font-family=\"Times,serif\" font-size=\"14.00\">x2*w2</text>\n<polyline fill=\"none\" stroke=\"black\" points=\"381.5,-55.5 381.5,-91.5 \"/>\n<text text-anchor=\"middle\" x=\"421.5\" y=\"-69.8\" font-family=\"Times,serif\" font-size=\"14.00\">data 0.0000</text>\n<polyline fill=\"none\" stroke=\"black\" points=\"461.5,-55.5 461.5,-91.5 \"/>\n<text text-anchor=\"middle\" x=\"502.5\" y=\"-69.8\" font-family=\"Times,serif\" font-size=\"14.00\">grad 0.5000</text>\n</g>\n<!-- 136214379034272+ -->\n<g id=\"node6\" class=\"node\">\n<title>136214379034272+</title>\n<ellipse fill=\"none\" stroke=\"black\" cx=\"609\" cy=\"-100.5\" rx=\"27\" ry=\"18\"/>\n<text text-anchor=\"middle\" x=\"609\" y=\"-96.8\" font-family=\"Times,serif\" font-size=\"14.00\">+</text>\n</g>\n<!-- 136214379022848&#45;&gt;136214379034272+ -->\n<g id=\"edge9\" class=\"edge\">\n<title>136214379022848&#45;&gt;136214379034272+</title>\n<path fill=\"none\" stroke=\"black\" d=\"M543.84,-90.37C554.01,-91.98 563.76,-93.51 572.44,-94.89\"/>\n<polygon fill=\"black\" stroke=\"black\" points=\"572.05,-98.37 582.47,-96.47 573.14,-91.45 572.05,-98.37\"/>\n</g>\n<!-- 136214379022848* -->\n<g id=\"node2\" class=\"node\">\n<title>136214379022848*</title>\n<ellipse fill=\"none\" stroke=\"black\" cx=\"263\" cy=\"-73.5\" rx=\"27\" ry=\"18\"/>\n<text text-anchor=\"middle\" x=\"263\" y=\"-69.8\" font-family=\"Times,serif\" font-size=\"14.00\">*</text>\n</g>\n<!-- 136214379022848*&#45;&gt;136214379022848 -->\n<g id=\"edge1\" class=\"edge\">\n<title>136214379022848*&#45;&gt;136214379022848</title>\n<path fill=\"none\" stroke=\"black\" d=\"M290.34,-73.5C298.51,-73.5 308.08,-73.5 318.36,-73.5\"/>\n<polygon fill=\"black\" stroke=\"black\" points=\"318.39,-77 328.39,-73.5 318.39,-70 318.39,-77\"/>\n</g>\n<!-- 136214379029568 -->\n<g id=\"node3\" class=\"node\">\n<title>136214379029568</title>\n<polygon fill=\"none\" stroke=\"black\" points=\"2.5,-55.5 2.5,-91.5 197.5,-91.5 197.5,-55.5 2.5,-55.5\"/>\n<text text-anchor=\"middle\" x=\"19\" y=\"-69.8\" font-family=\"Times,serif\" font-size=\"14.00\">w2</text>\n<polyline fill=\"none\" stroke=\"black\" points=\"35.5,-55.5 35.5,-91.5 \"/>\n<text text-anchor=\"middle\" x=\"75.5\" y=\"-69.8\" font-family=\"Times,serif\" font-size=\"14.00\">data 1.0000</text>\n<polyline fill=\"none\" stroke=\"black\" points=\"115.5,-55.5 115.5,-91.5 \"/>\n<text text-anchor=\"middle\" x=\"156.5\" y=\"-69.8\" font-family=\"Times,serif\" font-size=\"14.00\">grad 0.0000</text>\n</g>\n<!-- 136214379029568&#45;&gt;136214379022848* -->\n<g id=\"edge11\" class=\"edge\">\n<title>136214379029568&#45;&gt;136214379022848*</title>\n<path fill=\"none\" stroke=\"black\" d=\"M197.91,-73.5C207.65,-73.5 217.05,-73.5 225.52,-73.5\"/>\n<polygon fill=\"black\" stroke=\"black\" points=\"225.7,-77 235.7,-73.5 225.7,-70 225.7,-77\"/>\n</g>\n<!-- 136214378855536 -->\n<g id=\"node4\" class=\"node\">\n<title>136214378855536</title>\n<polygon fill=\"none\" stroke=\"black\" points=\"4,-0.5 4,-36.5 196,-36.5 196,-0.5 4,-0.5\"/>\n<text text-anchor=\"middle\" x=\"19\" y=\"-14.8\" font-family=\"Times,serif\" font-size=\"14.00\">x2</text>\n<polyline fill=\"none\" stroke=\"black\" points=\"34,-0.5 34,-36.5 \"/>\n<text text-anchor=\"middle\" x=\"74\" y=\"-14.8\" font-family=\"Times,serif\" font-size=\"14.00\">data 0.0000</text>\n<polyline fill=\"none\" stroke=\"black\" points=\"114,-0.5 114,-36.5 \"/>\n<text text-anchor=\"middle\" x=\"155\" y=\"-14.8\" font-family=\"Times,serif\" font-size=\"14.00\">grad 0.5000</text>\n</g>\n<!-- 136214378855536&#45;&gt;136214379022848* -->\n<g id=\"edge7\" class=\"edge\">\n<title>136214378855536&#45;&gt;136214379022848*</title>\n<path fill=\"none\" stroke=\"black\" d=\"M169.28,-36.5C179.65,-39.61 190.16,-42.98 200,-46.5 210.28,-50.17 221.28,-54.74 231.11,-59.07\"/>\n<polygon fill=\"black\" stroke=\"black\" points=\"229.93,-62.37 240.48,-63.27 232.79,-55.99 229.93,-62.37\"/>\n</g>\n<!-- 136214379034272 -->\n<g id=\"node5\" class=\"node\">\n<title>136214379034272</title>\n<polygon fill=\"none\" stroke=\"black\" points=\"672,-82.5 672,-118.5 945,-118.5 945,-82.5 672,-82.5\"/>\n<text text-anchor=\"middle\" x=\"725\" y=\"-96.8\" font-family=\"Times,serif\" font-size=\"14.00\">x1*w1 + x2*w2</text>\n<polyline fill=\"none\" stroke=\"black\" points=\"778,-82.5 778,-118.5 \"/>\n<text text-anchor=\"middle\" x=\"820.5\" y=\"-96.8\" font-family=\"Times,serif\" font-size=\"14.00\">data &#45;6.0000</text>\n<polyline fill=\"none\" stroke=\"black\" points=\"863,-82.5 863,-118.5 \"/>\n<text text-anchor=\"middle\" x=\"904\" y=\"-96.8\" font-family=\"Times,serif\" font-size=\"14.00\">grad 0.5000</text>\n</g>\n<!-- 136214379036384+ -->\n<g id=\"node9\" class=\"node\">\n<title>136214379036384+</title>\n<ellipse fill=\"none\" stroke=\"black\" cx=\"1008\" cy=\"-127.5\" rx=\"27\" ry=\"18\"/>\n<text text-anchor=\"middle\" x=\"1008\" y=\"-123.8\" font-family=\"Times,serif\" font-size=\"14.00\">+</text>\n</g>\n<!-- 136214379034272&#45;&gt;136214379036384+ -->\n<g id=\"edge8\" class=\"edge\">\n<title>136214379034272&#45;&gt;136214379036384+</title>\n<path fill=\"none\" stroke=\"black\" d=\"M941.24,-118.51C952.12,-120 962.4,-121.4 971.45,-122.64\"/>\n<polygon fill=\"black\" stroke=\"black\" points=\"971.11,-126.13 981.49,-124.01 972.05,-119.19 971.11,-126.13\"/>\n</g>\n<!-- 136214379034272+&#45;&gt;136214379034272 -->\n<g id=\"edge2\" class=\"edge\">\n<title>136214379034272+&#45;&gt;136214379034272</title>\n<path fill=\"none\" stroke=\"black\" d=\"M636.23,-100.5C643.7,-100.5 652.41,-100.5 661.87,-100.5\"/>\n<polygon fill=\"black\" stroke=\"black\" points=\"661.98,-104 671.98,-100.5 661.98,-97 661.98,-104\"/>\n</g>\n<!-- 136214379028656 -->\n<g id=\"node7\" class=\"node\">\n<title>136214379028656</title>\n<polygon fill=\"none\" stroke=\"black\" points=\"716,-137.5 716,-173.5 901,-173.5 901,-137.5 716,-137.5\"/>\n<text text-anchor=\"middle\" x=\"727.5\" y=\"-151.8\" font-family=\"Times,serif\" font-size=\"14.00\">b</text>\n<polyline fill=\"none\" stroke=\"black\" points=\"739,-137.5 739,-173.5 \"/>\n<text text-anchor=\"middle\" x=\"779\" y=\"-151.8\" font-family=\"Times,serif\" font-size=\"14.00\">data 6.8814</text>\n<polyline fill=\"none\" stroke=\"black\" points=\"819,-137.5 819,-173.5 \"/>\n<text text-anchor=\"middle\" x=\"860\" y=\"-151.8\" font-family=\"Times,serif\" font-size=\"14.00\">grad 0.5000</text>\n</g>\n<!-- 136214379028656&#45;&gt;136214379036384+ -->\n<g id=\"edge10\" class=\"edge\">\n<title>136214379028656&#45;&gt;136214379036384+</title>\n<path fill=\"none\" stroke=\"black\" d=\"M901.02,-142.52C926,-138.98 951.59,-135.36 971.37,-132.55\"/>\n<polygon fill=\"black\" stroke=\"black\" points=\"972.03,-135.99 981.43,-131.12 971.04,-129.06 972.03,-135.99\"/>\n</g>\n<!-- 136214379036384 -->\n<g id=\"node8\" class=\"node\">\n<title>136214379036384</title>\n<polygon fill=\"none\" stroke=\"black\" points=\"1071,-109.5 1071,-145.5 1256,-145.5 1256,-109.5 1071,-109.5\"/>\n<text text-anchor=\"middle\" x=\"1082.5\" y=\"-123.8\" font-family=\"Times,serif\" font-size=\"14.00\">n</text>\n<polyline fill=\"none\" stroke=\"black\" points=\"1094,-109.5 1094,-145.5 \"/>\n<text text-anchor=\"middle\" x=\"1134\" y=\"-123.8\" font-family=\"Times,serif\" font-size=\"14.00\">data 0.8814</text>\n<polyline fill=\"none\" stroke=\"black\" points=\"1174,-109.5 1174,-145.5 \"/>\n<text text-anchor=\"middle\" x=\"1215\" y=\"-123.8\" font-family=\"Times,serif\" font-size=\"14.00\">grad 0.5000</text>\n</g>\n<!-- 136214379023184tanh -->\n<g id=\"node12\" class=\"node\">\n<title>136214379023184tanh</title>\n<ellipse fill=\"none\" stroke=\"black\" cx=\"1319\" cy=\"-127.5\" rx=\"27\" ry=\"18\"/>\n<text text-anchor=\"middle\" x=\"1319\" y=\"-123.8\" font-family=\"Times,serif\" font-size=\"14.00\">tanh</text>\n</g>\n<!-- 136214379036384&#45;&gt;136214379023184tanh -->\n<g id=\"edge14\" class=\"edge\">\n<title>136214379036384&#45;&gt;136214379023184tanh</title>\n<path fill=\"none\" stroke=\"black\" d=\"M1256.01,-127.5C1265.01,-127.5 1273.74,-127.5 1281.66,-127.5\"/>\n<polygon fill=\"black\" stroke=\"black\" points=\"1281.91,-131 1291.91,-127.5 1281.91,-124 1281.91,-131\"/>\n</g>\n<!-- 136214379036384+&#45;&gt;136214379036384 -->\n<g id=\"edge3\" class=\"edge\">\n<title>136214379036384+&#45;&gt;136214379036384</title>\n<path fill=\"none\" stroke=\"black\" d=\"M1035.04,-127.5C1042.58,-127.5 1051.3,-127.5 1060.57,-127.5\"/>\n<polygon fill=\"black\" stroke=\"black\" points=\"1060.81,-131 1070.81,-127.5 1060.81,-124 1060.81,-131\"/>\n</g>\n<!-- 136214378850592 -->\n<g id=\"node10\" class=\"node\">\n<title>136214378850592</title>\n<polygon fill=\"none\" stroke=\"black\" points=\"0,-165.5 0,-201.5 200,-201.5 200,-165.5 0,-165.5\"/>\n<text text-anchor=\"middle\" x=\"16.5\" y=\"-179.8\" font-family=\"Times,serif\" font-size=\"14.00\">w1</text>\n<polyline fill=\"none\" stroke=\"black\" points=\"33,-165.5 33,-201.5 \"/>\n<text text-anchor=\"middle\" x=\"75.5\" y=\"-179.8\" font-family=\"Times,serif\" font-size=\"14.00\">data &#45;3.0000</text>\n<polyline fill=\"none\" stroke=\"black\" points=\"118,-165.5 118,-201.5 \"/>\n<text text-anchor=\"middle\" x=\"159\" y=\"-179.8\" font-family=\"Times,serif\" font-size=\"14.00\">grad 1.0000</text>\n</g>\n<!-- 136214379034512* -->\n<g id=\"node14\" class=\"node\">\n<title>136214379034512*</title>\n<ellipse fill=\"none\" stroke=\"black\" cx=\"263\" cy=\"-128.5\" rx=\"27\" ry=\"18\"/>\n<text text-anchor=\"middle\" x=\"263\" y=\"-124.8\" font-family=\"Times,serif\" font-size=\"14.00\">*</text>\n</g>\n<!-- 136214378850592&#45;&gt;136214379034512* -->\n<g id=\"edge12\" class=\"edge\">\n<title>136214378850592&#45;&gt;136214379034512*</title>\n<path fill=\"none\" stroke=\"black\" d=\"M172.53,-165.44C181.84,-162.67 191.2,-159.67 200,-156.5 210.53,-152.71 221.75,-147.9 231.72,-143.33\"/>\n<polygon fill=\"black\" stroke=\"black\" points=\"233.25,-146.48 240.82,-139.07 230.28,-140.14 233.25,-146.48\"/>\n</g>\n<!-- 136214379023184 -->\n<g id=\"node11\" class=\"node\">\n<title>136214379023184</title>\n<polygon fill=\"none\" stroke=\"black\" points=\"1382,-109.5 1382,-145.5 1567,-145.5 1567,-109.5 1382,-109.5\"/>\n<text text-anchor=\"middle\" x=\"1393.5\" y=\"-123.8\" font-family=\"Times,serif\" font-size=\"14.00\">o</text>\n<polyline fill=\"none\" stroke=\"black\" points=\"1405,-109.5 1405,-145.5 \"/>\n<text text-anchor=\"middle\" x=\"1445\" y=\"-123.8\" font-family=\"Times,serif\" font-size=\"14.00\">data 0.7071</text>\n<polyline fill=\"none\" stroke=\"black\" points=\"1485,-109.5 1485,-145.5 \"/>\n<text text-anchor=\"middle\" x=\"1526\" y=\"-123.8\" font-family=\"Times,serif\" font-size=\"14.00\">grad 1.0000</text>\n</g>\n<!-- 136214379023184tanh&#45;&gt;136214379023184 -->\n<g id=\"edge4\" class=\"edge\">\n<title>136214379023184tanh&#45;&gt;136214379023184</title>\n<path fill=\"none\" stroke=\"black\" d=\"M1346.04,-127.5C1353.58,-127.5 1362.3,-127.5 1371.57,-127.5\"/>\n<polygon fill=\"black\" stroke=\"black\" points=\"1371.81,-131 1381.81,-127.5 1371.81,-124 1371.81,-131\"/>\n</g>\n<!-- 136214379034512 -->\n<g id=\"node13\" class=\"node\">\n<title>136214379034512</title>\n<polygon fill=\"none\" stroke=\"black\" points=\"326,-110.5 326,-146.5 546,-146.5 546,-110.5 326,-110.5\"/>\n<text text-anchor=\"middle\" x=\"352.5\" y=\"-124.8\" font-family=\"Times,serif\" font-size=\"14.00\">x1*w1</text>\n<polyline fill=\"none\" stroke=\"black\" points=\"379,-110.5 379,-146.5 \"/>\n<text text-anchor=\"middle\" x=\"421.5\" y=\"-124.8\" font-family=\"Times,serif\" font-size=\"14.00\">data &#45;6.0000</text>\n<polyline fill=\"none\" stroke=\"black\" points=\"464,-110.5 464,-146.5 \"/>\n<text text-anchor=\"middle\" x=\"505\" y=\"-124.8\" font-family=\"Times,serif\" font-size=\"14.00\">grad 0.5000</text>\n</g>\n<!-- 136214379034512&#45;&gt;136214379034272+ -->\n<g id=\"edge13\" class=\"edge\">\n<title>136214379034512&#45;&gt;136214379034272+</title>\n<path fill=\"none\" stroke=\"black\" d=\"M546.27,-110.61C555.64,-109.07 564.6,-107.61 572.65,-106.29\"/>\n<polygon fill=\"black\" stroke=\"black\" points=\"573.35,-109.72 582.65,-104.65 572.22,-102.81 573.35,-109.72\"/>\n</g>\n<!-- 136214379034512*&#45;&gt;136214379034512 -->\n<g id=\"edge5\" class=\"edge\">\n<title>136214379034512*&#45;&gt;136214379034512</title>\n<path fill=\"none\" stroke=\"black\" d=\"M290.34,-128.5C297.77,-128.5 306.37,-128.5 315.6,-128.5\"/>\n<polygon fill=\"black\" stroke=\"black\" points=\"315.84,-132 325.84,-128.5 315.84,-125 315.84,-132\"/>\n</g>\n<!-- 136214379025344 -->\n<g id=\"node15\" class=\"node\">\n<title>136214379025344</title>\n<polygon fill=\"none\" stroke=\"black\" points=\"2,-110.5 2,-146.5 198,-146.5 198,-110.5 2,-110.5\"/>\n<text text-anchor=\"middle\" x=\"17\" y=\"-124.8\" font-family=\"Times,serif\" font-size=\"14.00\">x1</text>\n<polyline fill=\"none\" stroke=\"black\" points=\"32,-110.5 32,-146.5 \"/>\n<text text-anchor=\"middle\" x=\"72\" y=\"-124.8\" font-family=\"Times,serif\" font-size=\"14.00\">data 2.0000</text>\n<polyline fill=\"none\" stroke=\"black\" points=\"112,-110.5 112,-146.5 \"/>\n<text text-anchor=\"middle\" x=\"155\" y=\"-124.8\" font-family=\"Times,serif\" font-size=\"14.00\">grad &#45;1.5000</text>\n</g>\n<!-- 136214379025344&#45;&gt;136214379034512* -->\n<g id=\"edge6\" class=\"edge\">\n<title>136214379025344&#45;&gt;136214379034512*</title>\n<path fill=\"none\" stroke=\"black\" d=\"M198.37,-128.5C208.05,-128.5 217.4,-128.5 225.8,-128.5\"/>\n<polygon fill=\"black\" stroke=\"black\" points=\"225.91,-132 235.91,-128.5 225.91,-125 225.91,-132\"/>\n</g>\n</g>\n</svg>\n",
            "text/plain": [
              "<graphviz.graphs.Digraph at 0x7be2e1acd330>"
            ]
          },
          "metadata": {},
          "execution_count": 155
        }
      ]
    },
    {
      "cell_type": "markdown",
      "source": [
        "# Implement Backward function"
      ],
      "metadata": {
        "id": "_kUKQJpy1BVj"
      }
    },
    {
      "cell_type": "markdown",
      "source": [
        "The concept:\n",
        "\n",
        "1. To calculate the derivative, the formula is basically:\n",
        "  - (Local Derivate) * (Previous Acummulated Derivative)\n",
        "\n",
        "2. We want to create a function, that can do such operation.\n",
        "\n",
        "3. For example when we are computing the derivative for do/w2 in the neuron, the formula is:\n",
        "  - w2.grad = x2.data * x2w2.grad\n",
        "  - x2.data : is the local derivative\n",
        "  - x2w2.grad : is the accumulated derivative"
      ],
      "metadata": {
        "id": "60mHkeNs1H9D"
      }
    },
    {
      "cell_type": "markdown",
      "source": [
        "## Backward for +"
      ],
      "metadata": {
        "id": "drO3zVSP3Sfs"
      }
    },
    {
      "cell_type": "markdown",
      "source": [
        "For addition:\n",
        "\n",
        "  - Take in self.data and other.data, return output\n",
        "  - Example: a + b = c\n",
        "\n",
        "We want it to be able to propagate the derivative to 'a' and 'b', which is the self.data and other.data\n",
        "\n",
        "  - To calculate self.grad, which is grad of 'a'\n",
        "  - The formula will be (Local Derivate) * (Accumulated Derivative)\n",
        "  - Local derivative is always 1.0 (We have proven this above)\n",
        "  - So it will become (1.0) * (Accumulated Derivative)\n",
        "  - Acuumulated Derivative will be the grad of 'c' , which is the output\n",
        "  - Final Formula: self.grad = (1.0) * (out.grad)\n",
        "\n"
      ],
      "metadata": {
        "id": "EpXrD6AH3bXl"
      }
    },
    {
      "cell_type": "markdown",
      "source": [
        "Simplfied formula for above explanation\n",
        "\n",
        "- Self.grad = (Local Derivate) * (Accumulated Derivative)\n",
        "- Self.grad = (1.0) * (Accumulated Derivative)\n",
        "- self.grad = (1.0) * (out.grad)"
      ],
      "metadata": {
        "id": "clFZGG7-9F_J"
      }
    },
    {
      "cell_type": "markdown",
      "source": [
        "Things are same for 'b', which is other.grad"
      ],
      "metadata": {
        "id": "vptZGOdJ9dxp"
      }
    },
    {
      "cell_type": "code",
      "source": [
        "class Value:\n",
        "\n",
        "  def __init__(self, data, _children=(), _op='', label=''):\n",
        "    self.data = data\n",
        "    self.grad = 0\n",
        "\n",
        "    self._backward = lambda: None\n",
        "    # Create a _backward function, that will compute the derivate\n",
        "\n",
        "    self._prev = set(_children)\n",
        "    self._op = _op\n",
        "    self.label = label\n",
        "\n",
        "  def __repr__(self):\n",
        "    return f\"Value(data={self.data})\"\n",
        "\n",
        "  def __add__(self, other):\n",
        "    out = Value(self.data + other.data,(self, other), _op='+')\n",
        "\n",
        "    # backward for addition\n",
        "    def _backward():\n",
        "      self.grad = 1.0 * out.grad\n",
        "      other.grad = 1.0 * out.grad\n",
        "    out._backward = _backward # calling _backward\n",
        "\n",
        "    return out\n",
        "\n",
        "  def __mul__(self, other):\n",
        "    out = Value(self.data * other.data,(self, other),_op='*')\n",
        "    return out\n",
        "\n",
        "  def tanh(self):\n",
        "    x = self.data\n",
        "    t = (math.exp(2*x) - 1)/(math.exp(2*x) + 1)\n",
        "    out = Value(t, (self, ), 'tanh')\n",
        "    return out"
      ],
      "metadata": {
        "id": "gIIC2UkC5jKK"
      },
      "execution_count": null,
      "outputs": []
    },
    {
      "cell_type": "markdown",
      "source": [
        "## Backward for *"
      ],
      "metadata": {
        "id": "l5w0Iq7n96wi"
      }
    },
    {
      "cell_type": "markdown",
      "source": [
        "For Multiplication\n",
        "- Its basically the same, just chuck in the formula\n",
        "- The local derivative for multiplication, is actually other.data (We have proven this above, check \"Calculate do/w1\")\n",
        "- The accumulated derivative will be just out.grad\n",
        "\n",
        "Formula for self.grad:\n",
        "- self.grad = (local derivative) * (accumulated derivative)\n",
        "- self.grad = (other.data) * (out.grad)\n",
        "\n",
        "Formula for other.grad:\n",
        "- other.grad = (local derivative) * (accumulated derivative)\n",
        "- other.grad = (self.data) * (out.grad)"
      ],
      "metadata": {
        "id": "w_OJsEA--AfB"
      }
    },
    {
      "cell_type": "code",
      "source": [
        "class Value:\n",
        "\n",
        "  def __init__(self, data, _children=(), _op='', label=''):\n",
        "    self.data = data\n",
        "    self.grad = 0\n",
        "\n",
        "    self._backward = lambda: None\n",
        "    # Create a _backward function, that will compute the derivate\n",
        "\n",
        "    self._prev = set(_children)\n",
        "    self._op = _op\n",
        "    self.label = label\n",
        "\n",
        "  def __repr__(self):\n",
        "    return f\"Value(data={self.data})\"\n",
        "\n",
        "  def __add__(self, other):\n",
        "    out = Value(self.data + other.data,(self, other), _op='+')\n",
        "\n",
        "    def _backward():\n",
        "      self.grad = 1.0 * out.grad\n",
        "      other.grad = 1.0 * out.grad\n",
        "    out._backward = _backward\n",
        "\n",
        "    return out\n",
        "\n",
        "  def __mul__(self, other):\n",
        "    out = Value(self.data * other.data,(self, other),_op='*')\n",
        "\n",
        "    # backward for multiplication\n",
        "    def _backward():\n",
        "      self.grad = other.data * out.grad\n",
        "      other.drag = self.data * out.grad\n",
        "    out._backward = _backward # calling _backward\n",
        "    return out\n",
        "\n",
        "  def tanh(self):\n",
        "    x = self.data\n",
        "    t = (math.exp(2*x) - 1)/(math.exp(2*x) + 1)\n",
        "    out = Value(t, (self, ), 'tanh')\n",
        "    return out"
      ],
      "metadata": {
        "id": "9PFQyBp-98SN"
      },
      "execution_count": null,
      "outputs": []
    },
    {
      "cell_type": "markdown",
      "source": [
        "## Backward for Tanh"
      ],
      "metadata": {
        "id": "MyLl6pAF_QGq"
      }
    },
    {
      "cell_type": "markdown",
      "source": [
        "![image.png](data:image/png;base64,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)"
      ],
      "metadata": {
        "id": "AkP_K6dtAiOy"
      }
    },
    {
      "cell_type": "markdown",
      "source": [
        "Calculate derivative for Tanh\n",
        " - o = tanh(n)\n",
        " - do/dn = 1 - tanh(n)**2\n",
        "\n",
        "To match picture in our graph:\n",
        " - n * tanh = o\n",
        " - other * self = output\n",
        "\n",
        "To compute self.grad, which is tanh.grad:\n",
        "  - Tanh(n) function is (math.exp(2*x) - 1)/(math.exp(2*x) + 1)\n",
        "  - Tanh(n) function derivative is 1 - tanh(n)**2\n",
        "  - In our code, 't' represents Tanh(n) function\n",
        "\n",
        "Chuck in the formula:\n",
        "  - (Local derivative) * (Acummulated derivative)\n",
        "  - (1 - t**2) * (out.grad)"
      ],
      "metadata": {
        "id": "HPFY7Gh4BFRS"
      }
    },
    {
      "cell_type": "markdown",
      "source": [],
      "metadata": {
        "id": "Klkjyc4OA90C"
      }
    },
    {
      "cell_type": "code",
      "source": [
        "# Our Tanh function\n",
        "\n",
        "# def tanh(self):\n",
        "#   x = self.data\n",
        "#   t = (math.exp(2*x) - 1)/(math.exp(2*x) + 1)\n",
        "#   out = Value(t, (self, ), 'tanh')\n",
        "#   return out"
      ],
      "metadata": {
        "id": "EMsB0J_mA-KJ"
      },
      "execution_count": null,
      "outputs": []
    },
    {
      "cell_type": "code",
      "source": [],
      "metadata": {
        "id": "4_AQbyimAlUE"
      },
      "execution_count": null,
      "outputs": []
    },
    {
      "cell_type": "code",
      "source": [
        "class Value:\n",
        "\n",
        "  def __init__(self, data, _children=(), _op='', label=''):\n",
        "    self.data = data\n",
        "    self.grad = 0\n",
        "\n",
        "    self._backward = lambda: None\n",
        "    # Create a _backward function, that will compute the derivate\n",
        "\n",
        "    self._prev = set(_children)\n",
        "    self._op = _op\n",
        "    self.label = label\n",
        "\n",
        "  def __repr__(self):\n",
        "    return f\"Value(data={self.data})\"\n",
        "\n",
        "  def __add__(self, other):\n",
        "    out = Value(self.data + other.data,(self, other), _op='+')\n",
        "\n",
        "    def _backward():\n",
        "      self.grad = 1.0 * out.grad\n",
        "      other.grad = 1.0 * out.grad\n",
        "    out._backward = _backward\n",
        "\n",
        "    return out\n",
        "\n",
        "  def __mul__(self, other):\n",
        "    out = Value(self.data * other.data,(self, other),_op='*')\n",
        "\n",
        "    def _backward():\n",
        "      self.grad = other.data * out.grad\n",
        "      other.drag = self.data * out.grad\n",
        "    out._backward = _backward\n",
        "\n",
        "    return out\n",
        "\n",
        "  def tanh(self):\n",
        "    x = self.data\n",
        "    t = (math.exp(2*x) - 1)/(math.exp(2*x) + 1)\n",
        "    out = Value(t, (self, ), 'tanh')\n",
        "\n",
        "    # backward for tanh\n",
        "    def _backward():\n",
        "      self.grad = (1-t**2) * out.grad\n",
        "    out._backward = _backward\n",
        "\n",
        "    return out"
      ],
      "metadata": {
        "id": "h-dKWRLN_SIN"
      },
      "execution_count": 1,
      "outputs": []
    },
    {
      "cell_type": "code",
      "source": [],
      "metadata": {
        "id": "63TEjD0bDS4n"
      },
      "execution_count": null,
      "outputs": []
    }
  ]
}